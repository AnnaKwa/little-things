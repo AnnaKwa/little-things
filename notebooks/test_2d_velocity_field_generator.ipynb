{
 "cells": [
  {
   "cell_type": "markdown",
   "metadata": {},
   "source": [
    "#### This notebook is for testing the functions in `little_things_lib.galaxy_model` that generates a 2D velocity field given a rotation curve and the galaxy geometry parameters (inclination, position angle of rings, x & y center pixels)"
   ]
  },
  {
   "cell_type": "code",
   "execution_count": 1,
   "metadata": {},
   "outputs": [],
   "source": [
    "%matplotlib inline\n",
    "import matplotlib.pyplot as plt\n",
    "import numpy as np\n",
    "\n",
    "# this part tells python where to find the little things code\n",
    "import os\n",
    "import sys\n",
    "\n",
    "root_repo_dir = os.path.split(os.getcwd())[0]\n",
    "sys.path.append(root_repo_dir)\n",
    "\n",
    "from little_things_lib.galaxy import Galaxy"
   ]
  },
  {
   "cell_type": "markdown",
   "metadata": {},
   "source": [
    "### The cells below give an example of how the 2D velocity field gets generated. \n",
    "\n"
   ]
  },
  {
   "cell_type": "code",
   "execution_count": 2,
   "metadata": {},
   "outputs": [],
   "source": [
    "# ignore this function, it is just for generated a test rotation curve\n",
    "# will not be used for actual galaxies\n",
    "def scale_point_mass_v(radii, v_at_first_radius):\n",
    "    v_rot = [v_at_first_radius]\n",
    "    r0 = radii[0]\n",
    "    for r in radii[1:]:\n",
    "        v_rot.append(v_at_first_radius * (1.*r0/r)**(1/2.))\n",
    "    return v_rot"
   ]
  },
  {
   "cell_type": "markdown",
   "metadata": {},
   "source": [
    "You will have to look up some of the quantities below in the FITS file (open in SAO DS9). Fill in the appropriate values below."
   ]
  },
  {
   "cell_type": "code",
   "execution_count": 3,
   "metadata": {},
   "outputs": [],
   "source": [
    " \n",
    "galaxy_model = Galaxy(\n",
    "    distance_to_galaxy=3000,  # [kpc] Look this up for the galaxy \n",
    "    deg_per_pixel=4.17e-4,  # 'CRDELT1' and 'CRDELT2' in the FITS file header (use absolute value)\n",
    "    image_xdim=100,\n",
    "    image_ydim=100,\n",
    "    galaxy_name='test_galaxy'\n",
    ")\n"
   ]
  },
  {
   "cell_type": "markdown",
   "metadata": {},
   "source": [
    "Look up the systemic velocity for the galaxy. The other values should be from the Bbarolo fits. \n",
    "\n",
    "\n",
    "- `n_radii` should be the number of rings used in the BBarolo fit. Try to use at least 50 (if it runs ok with that many). It assumes the radii are in units of kpc.\n",
    "- for inclination and position angle, just input the average value for all the ring fits\n",
    "- `x_center`, `y_center` are the **galaxy's** center coordinates"
   ]
  },
  {
   "cell_type": "code",
   "execution_count": 4,
   "metadata": {},
   "outputs": [],
   "source": [
    "# change this to the radii array that is output from the Bbarolo fits.\n",
    "radii = np.linspace(5, 200, 75)*galaxy_model.kpc_per_pixel\n",
    "\n",
    "v_systemic = 30\n",
    "avg_inclination = 0 # deg\n",
    "avg_pos_angle = 90.\n",
    "x_center = 50\n",
    "y_center=50"
   ]
  },
  {
   "cell_type": "code",
   "execution_count": 10,
   "metadata": {},
   "outputs": [],
   "source": [
    "n_radii = len(radii)\n",
    "\n",
    "tilted_ring_params = {\n",
    "    'v_systemic': v_systemic,\n",
    "    'radii': radii,   \n",
    "    'inclination': [avg_inclination for i in range(n_radii)],\n",
    "    'position_angle': [avg_pos_angle for i in range(n_radii)],\n",
    "    'x_pix_center': [x_center for i in range(n_radii)],\n",
    "    'y_pix_center': [y_center for i in range(n_radii)]\n",
    "}\n",
    "galaxy_model.set_tilted_ring_parameters(**tilted_ring_params)\n"
   ]
  },
  {
   "cell_type": "markdown",
   "metadata": {},
   "source": [
    "#### Replace the parameter `v_rot` with the array of rotation velocites from BBarolo that correspond to the radii."
   ]
  },
  {
   "cell_type": "code",
   "execution_count": 11,
   "metadata": {},
   "outputs": [],
   "source": [
    "\n",
    "# the commented out part is for the test galaxy only\n",
    "# when you test on an actual galaxy, use the rotation curve fit from BBarolo\n",
    "\n",
    "test_rotation_curve = scale_point_mass_v(\n",
    "    np.array(tilted_ring_params['radii']) * galaxy_model.kpc_per_pixel,\n",
    "    v_at_first_radius = 90.    \n",
    ")\n",
    "\n",
    "\n",
    "#test_rotation_curve = [ fill this in with the BBarolo velocities ]\n",
    "\n",
    "test_2d_velocity_field = galaxy_model.create_2d_velocity_field(\n",
    "    tilted_ring_params['radii'], \n",
    "    v_rot = test_rotation_curve  \n",
    ")\n",
    "#np.save('test_2d_velocity_field_100x100.npy', test_2d_velocity_field)"
   ]
  },
  {
   "cell_type": "code",
   "execution_count": 7,
   "metadata": {},
   "outputs": [
    {
     "name": "stdout",
     "output_type": "stream",
     "text": [
      "3.15 s ± 101 ms per loop (mean ± std. dev. of 7 runs, 1 loop each)\n"
     ]
    }
   ],
   "source": [
    "%%timeit\n",
    "\n",
    "test_2d_velocity_field = galaxy_model.create_2d_velocity_field(\n",
    "    tilted_ring_params['radii'], \n",
    "    v_rot = test_rotation_curve  \n",
    ")\n"
   ]
  },
  {
   "cell_type": "markdown",
   "metadata": {},
   "source": [
    "This plots the simulated 2D velocity field. Check this output against the model output velocity field from BBarolo to make sure that the following look similar between the two.\n",
    "- position angle (angle of tilt from the vertical)\n",
    "- inclination (aspect ratio of the ellipse)\n",
    "- velocities"
   ]
  },
  {
   "cell_type": "code",
   "execution_count": 12,
   "metadata": {
    "scrolled": true
   },
   "outputs": [
    {
     "data": {
      "text/plain": [
       "<matplotlib.colorbar.Colorbar at 0x7fbc4814af28>"
      ]
     },
     "execution_count": 12,
     "metadata": {},
     "output_type": "execute_result"
    },
    {
     "data": {
      "image/png": "[encoded data removed]",
      "text/plain": [
       "<Figure size 432x288 with 2 Axes>"
      ]
     },
     "metadata": {
      "needs_background": "light"
     },
     "output_type": "display_data"
    }
   ],
   "source": [
    "plt.imshow(test_2d_velocity_field)\n",
    "plt.colorbar()"
   ]
  },
  {
   "cell_type": "code",
   "execution_count": 13,
   "metadata": {},
   "outputs": [
    {
     "name": "stderr",
     "output_type": "stream",
     "text": [
      "/Users/AnnaK/anaconda3/lib/python3.7/site-packages/missingpy/knnimpute.py:224: UserWarning: There are rows with more than 50.0% missing values. These rows are not included as donor neighbors.\n",
      "  .format(self.row_max_missing * 100))\n",
      "/Users/AnnaK/anaconda3/lib/python3.7/site-packages/missingpy/knnimpute.py:282: UserWarning: There are rows with more than 50.0% missing values. The missing features in these rows are imputed with column means.\n",
      "  .format(self.row_max_missing * 100))\n",
      "/Users/AnnaK/anaconda3/lib/python3.7/site-packages/sklearn/utils/validation.py:432: DeprecationWarning: 'warn_on_dtype' is deprecated in version 0.21 and will be removed in 0.23. Don't set `warn_on_dtype` to remove this warning.\n",
      "  DeprecationWarning)\n",
      "/Users/AnnaK/anaconda3/lib/python3.7/site-packages/sklearn/utils/validation.py:432: DeprecationWarning: 'warn_on_dtype' is deprecated in version 0.21 and will be removed in 0.23. Don't set `warn_on_dtype` to remove this warning.\n",
      "  DeprecationWarning)\n"
     ]
    },
    {
     "data": {
      "text/plain": [
       "<matplotlib.image.AxesImage at 0x7fbbe853d9e8>"
      ]
     },
     "execution_count": 13,
     "metadata": {},
     "output_type": "execute_result"
    },
    {
     "data": {
      "image/png": "[encoded data removed]",
      "text/plain": [
       "<Figure size 432x288 with 1 Axes>"
      ]
     },
     "metadata": {
      "needs_background": "light"
     },
     "output_type": "display_data"
    }
   ],
   "source": [
    "from missingpy import KNNImputer\n",
    "\n",
    "imputer = KNNImputer(n_neighbors=2, weights=\"uniform\")\n",
    "test_2d_velocity_field[test_2d_velocity_field==0] = np.nan\n",
    "plt.imshow(imputer.fit_transform(test_2d_velocity_field))\n"
   ]
  },
  {
   "cell_type": "code",
   "execution_count": 16,
   "metadata": {},
   "outputs": [
    {
     "data": {
      "text/plain": [
       "array([[  0.        ,   0.        ,   0.        , ..., -29.1536756 ,\n",
       "          0.        ,   0.        ],\n",
       "       [-35.43389294, -35.32425775, -35.25011214, ..., -29.10975204,\n",
       "        -29.07985082,   0.        ],\n",
       "       [-35.62043113, -35.51119824, -35.43728386, ...,   0.        ,\n",
       "        -29.07256498, -29.03541461],\n",
       "       ...,\n",
       "       [  0.        , -30.98314637, -30.99105628, ...,   0.        ,\n",
       "          0.        ,   0.        ],\n",
       "       [-30.97542287,   0.        , -30.94601488, ..., -24.61871715,\n",
       "        -24.54415643, -24.47045897],\n",
       "       [  0.        , -30.93858309,   0.        , ..., -24.80604287,\n",
       "          0.        ,   0.        ]])"
      ]
     },
     "execution_count": 16,
     "metadata": {},
     "output_type": "execute_result"
    }
   ],
   "source": [
    "imputer.fit_transform(test_2d_velocity_field)"
   ]
  },
  {
   "cell_type": "code",
   "execution_count": 27,
   "metadata": {},
   "outputs": [
    {
     "data": {
      "text/plain": [
       "array([ 0.5, -0.5])"
      ]
     },
     "execution_count": 27,
     "metadata": {},
     "output_type": "execute_result"
    }
   ],
   "source": [
    "pts=np.array([(0,0), (1,1), (2,2)])\n",
    "centroids=np.array([(-1,-1), (2,0)])\n",
    "np.mean(centroids, axis=0)"
   ]
  },
  {
   "cell_type": "code",
   "execution_count": 16,
   "metadata": {},
   "outputs": [
    {
     "data": {
      "text/plain": [
       "{'galaxy_name': 'test_galaxy',\n",
       " 'output_dir': 'output',\n",
       " 'vlos_2d_data': None,\n",
       " 'luminosity': None,\n",
       " 'HI_mass': None,\n",
       " 'rate_constant': 4.821631367447756e-09,\n",
       " 'deg_per_pixel': 0.000417,\n",
       " 'kpc_per_pixel': 0.02183406894244906,\n",
       " 'image_xdim': 100,\n",
       " 'image_ydim': 100,\n",
       " 'radii': array([0.10917034, 0.16670607, 0.22424179, 0.28177751, 0.33931323,\n",
       "        0.39684896, 0.45438468, 0.5119204 , 0.56945612, 0.62699184,\n",
       "        0.68452757, 0.74206329, 0.79959901, 0.85713473, 0.91467046,\n",
       "        0.97220618, 1.0297419 , 1.08727762, 1.14481334, 1.20234907,\n",
       "        1.25988479, 1.31742051, 1.37495623, 1.43249196, 1.49002768,\n",
       "        1.5475634 , 1.60509912, 1.66263484, 1.72017057, 1.77770629,\n",
       "        1.83524201, 1.89277773, 1.95031346, 2.00784918, 2.0653849 ,\n",
       "        2.12292062, 2.18045634, 2.23799207, 2.29552779, 2.35306351,\n",
       "        2.41059923, 2.46813496, 2.52567068, 2.5832064 , 2.64074212,\n",
       "        2.69827784, 2.75581357, 2.81334929, 2.87088501, 2.92842073,\n",
       "        2.98595646, 3.04349218, 3.1010279 , 3.15856362, 3.21609934,\n",
       "        3.27363507, 3.33117079, 3.38870651, 3.44624223, 3.50377796,\n",
       "        3.56131368, 3.6188494 , 3.67638512, 3.73392084, 3.79145657,\n",
       "        3.84899229, 3.90652801, 3.96406373, 4.02159946, 4.07913518,\n",
       "        4.1366709 , 4.19420662, 4.25174234, 4.30927807, 4.36681379]),\n",
       " 'v_systemic': 30,\n",
       " 'ring_parameters': {0.1091703447122453: {'inc': 0.08726646259971647,\n",
       "   'pos_ang': 0.7853981633974483,\n",
       "   'x_center': 50,\n",
       "   'y_center': 50},\n",
       "  0.16670606692545567: {'inc': 0.08726646259971647,\n",
       "   'pos_ang': 0.7853981633974483,\n",
       "   'x_center': 50,\n",
       "   'y_center': 50},\n",
       "  0.22424178913866602: {'inc': 0.08726646259971647,\n",
       "   'pos_ang': 0.7853981633974483,\n",
       "   'x_center': 50,\n",
       "   'y_center': 50},\n",
       "  0.2817775113518764: {'inc': 0.08726646259971647,\n",
       "   'pos_ang': 0.7853981633974483,\n",
       "   'x_center': 50,\n",
       "   'y_center': 50},\n",
       "  0.33931323356508675: {'inc': 0.08726646259971647,\n",
       "   'pos_ang': 0.7853981633974483,\n",
       "   'x_center': 50,\n",
       "   'y_center': 50},\n",
       "  0.39684895577829715: {'inc': 0.08726646259971647,\n",
       "   'pos_ang': 0.7853981633974483,\n",
       "   'x_center': 50,\n",
       "   'y_center': 50},\n",
       "  0.4543846779915075: {'inc': 0.08726646259971647,\n",
       "   'pos_ang': 0.7853981633974483,\n",
       "   'x_center': 50,\n",
       "   'y_center': 50},\n",
       "  0.5119204002047179: {'inc': 0.08726646259971647,\n",
       "   'pos_ang': 0.7853981633974483,\n",
       "   'x_center': 50,\n",
       "   'y_center': 50},\n",
       "  0.5694561224179282: {'inc': 0.08726646259971647,\n",
       "   'pos_ang': 0.7853981633974483,\n",
       "   'x_center': 50,\n",
       "   'y_center': 50},\n",
       "  0.6269918446311387: {'inc': 0.08726646259971647,\n",
       "   'pos_ang': 0.7853981633974483,\n",
       "   'x_center': 50,\n",
       "   'y_center': 50},\n",
       "  0.6845275668443489: {'inc': 0.08726646259971647,\n",
       "   'pos_ang': 0.7853981633974483,\n",
       "   'x_center': 50,\n",
       "   'y_center': 50},\n",
       "  0.7420632890575592: {'inc': 0.08726646259971647,\n",
       "   'pos_ang': 0.7853981633974483,\n",
       "   'x_center': 50,\n",
       "   'y_center': 50},\n",
       "  0.7995990112707697: {'inc': 0.08726646259971647,\n",
       "   'pos_ang': 0.7853981633974483,\n",
       "   'x_center': 50,\n",
       "   'y_center': 50},\n",
       "  0.8571347334839801: {'inc': 0.08726646259971647,\n",
       "   'pos_ang': 0.7853981633974483,\n",
       "   'x_center': 50,\n",
       "   'y_center': 50},\n",
       "  0.9146704556971903: {'inc': 0.08726646259971647,\n",
       "   'pos_ang': 0.7853981633974483,\n",
       "   'x_center': 50,\n",
       "   'y_center': 50},\n",
       "  0.9722061779104008: {'inc': 0.08726646259971647,\n",
       "   'pos_ang': 0.7853981633974483,\n",
       "   'x_center': 50,\n",
       "   'y_center': 50},\n",
       "  1.0297419001236112: {'inc': 0.08726646259971647,\n",
       "   'pos_ang': 0.7853981633974483,\n",
       "   'x_center': 50,\n",
       "   'y_center': 50},\n",
       "  1.0872776223368215: {'inc': 0.08726646259971647,\n",
       "   'pos_ang': 0.7853981633974483,\n",
       "   'x_center': 50,\n",
       "   'y_center': 50},\n",
       "  1.144813344550032: {'inc': 0.08726646259971647,\n",
       "   'pos_ang': 0.7853981633974483,\n",
       "   'x_center': 50,\n",
       "   'y_center': 50},\n",
       "  1.2023490667632422: {'inc': 0.08726646259971647,\n",
       "   'pos_ang': 0.7853981633974483,\n",
       "   'x_center': 50,\n",
       "   'y_center': 50},\n",
       "  1.2598847889764526: {'inc': 0.08726646259971647,\n",
       "   'pos_ang': 0.7853981633974483,\n",
       "   'x_center': 50,\n",
       "   'y_center': 50},\n",
       "  1.317420511189663: {'inc': 0.08726646259971647,\n",
       "   'pos_ang': 0.7853981633974483,\n",
       "   'x_center': 50,\n",
       "   'y_center': 50},\n",
       "  1.3749562334028733: {'inc': 0.08726646259971647,\n",
       "   'pos_ang': 0.7853981633974483,\n",
       "   'x_center': 50,\n",
       "   'y_center': 50},\n",
       "  1.4324919556160836: {'inc': 0.08726646259971647,\n",
       "   'pos_ang': 0.7853981633974483,\n",
       "   'x_center': 50,\n",
       "   'y_center': 50},\n",
       "  1.490027677829294: {'inc': 0.08726646259971647,\n",
       "   'pos_ang': 0.7853981633974483,\n",
       "   'x_center': 50,\n",
       "   'y_center': 50},\n",
       "  1.5475634000425043: {'inc': 0.08726646259971647,\n",
       "   'pos_ang': 0.7853981633974483,\n",
       "   'x_center': 50,\n",
       "   'y_center': 50},\n",
       "  1.605099122255715: {'inc': 0.08726646259971647,\n",
       "   'pos_ang': 0.7853981633974483,\n",
       "   'x_center': 50,\n",
       "   'y_center': 50},\n",
       "  1.6626348444689252: {'inc': 0.08726646259971647,\n",
       "   'pos_ang': 0.7853981633974483,\n",
       "   'x_center': 50,\n",
       "   'y_center': 50},\n",
       "  1.7201705666821354: {'inc': 0.08726646259971647,\n",
       "   'pos_ang': 0.7853981633974483,\n",
       "   'x_center': 50,\n",
       "   'y_center': 50},\n",
       "  1.7777062888953459: {'inc': 0.08726646259971647,\n",
       "   'pos_ang': 0.7853981633974483,\n",
       "   'x_center': 50,\n",
       "   'y_center': 50},\n",
       "  1.8352420111085561: {'inc': 0.08726646259971647,\n",
       "   'pos_ang': 0.7853981633974483,\n",
       "   'x_center': 50,\n",
       "   'y_center': 50},\n",
       "  1.8927777333217668: {'inc': 0.08726646259971647,\n",
       "   'pos_ang': 0.7853981633974483,\n",
       "   'x_center': 50,\n",
       "   'y_center': 50},\n",
       "  1.950313455534977: {'inc': 0.08726646259971647,\n",
       "   'pos_ang': 0.7853981633974483,\n",
       "   'x_center': 50,\n",
       "   'y_center': 50},\n",
       "  2.007849177748187: {'inc': 0.08726646259971647,\n",
       "   'pos_ang': 0.7853981633974483,\n",
       "   'x_center': 50,\n",
       "   'y_center': 50},\n",
       "  2.0653848999613977: {'inc': 0.08726646259971647,\n",
       "   'pos_ang': 0.7853981633974483,\n",
       "   'x_center': 50,\n",
       "   'y_center': 50},\n",
       "  2.122920622174608: {'inc': 0.08726646259971647,\n",
       "   'pos_ang': 0.7853981633974483,\n",
       "   'x_center': 50,\n",
       "   'y_center': 50},\n",
       "  2.1804563443878187: {'inc': 0.08726646259971647,\n",
       "   'pos_ang': 0.7853981633974483,\n",
       "   'x_center': 50,\n",
       "   'y_center': 50},\n",
       "  2.237992066601029: {'inc': 0.08726646259971647,\n",
       "   'pos_ang': 0.7853981633974483,\n",
       "   'x_center': 50,\n",
       "   'y_center': 50},\n",
       "  2.295527788814239: {'inc': 0.08726646259971647,\n",
       "   'pos_ang': 0.7853981633974483,\n",
       "   'x_center': 50,\n",
       "   'y_center': 50},\n",
       "  2.35306351102745: {'inc': 0.08726646259971647,\n",
       "   'pos_ang': 0.7853981633974483,\n",
       "   'x_center': 50,\n",
       "   'y_center': 50},\n",
       "  2.41059923324066: {'inc': 0.08726646259971647,\n",
       "   'pos_ang': 0.7853981633974483,\n",
       "   'x_center': 50,\n",
       "   'y_center': 50},\n",
       "  2.4681349554538703: {'inc': 0.08726646259971647,\n",
       "   'pos_ang': 0.7853981633974483,\n",
       "   'x_center': 50,\n",
       "   'y_center': 50},\n",
       "  2.5256706776670805: {'inc': 0.08726646259971647,\n",
       "   'pos_ang': 0.7853981633974483,\n",
       "   'x_center': 50,\n",
       "   'y_center': 50},\n",
       "  2.5832063998802908: {'inc': 0.08726646259971647,\n",
       "   'pos_ang': 0.7853981633974483,\n",
       "   'x_center': 50,\n",
       "   'y_center': 50},\n",
       "  2.640742122093501: {'inc': 0.08726646259971647,\n",
       "   'pos_ang': 0.7853981633974483,\n",
       "   'x_center': 50,\n",
       "   'y_center': 50},\n",
       "  2.6982778443067117: {'inc': 0.08726646259971647,\n",
       "   'pos_ang': 0.7853981633974483,\n",
       "   'x_center': 50,\n",
       "   'y_center': 50},\n",
       "  2.755813566519922: {'inc': 0.08726646259971647,\n",
       "   'pos_ang': 0.7853981633974483,\n",
       "   'x_center': 50,\n",
       "   'y_center': 50},\n",
       "  2.8133492887331326: {'inc': 0.08726646259971647,\n",
       "   'pos_ang': 0.7853981633974483,\n",
       "   'x_center': 50,\n",
       "   'y_center': 50},\n",
       "  2.870885010946343: {'inc': 0.08726646259971647,\n",
       "   'pos_ang': 0.7853981633974483,\n",
       "   'x_center': 50,\n",
       "   'y_center': 50},\n",
       "  2.928420733159553: {'inc': 0.08726646259971647,\n",
       "   'pos_ang': 0.7853981633974483,\n",
       "   'x_center': 50,\n",
       "   'y_center': 50},\n",
       "  2.9859564553727633: {'inc': 0.08726646259971647,\n",
       "   'pos_ang': 0.7853981633974483,\n",
       "   'x_center': 50,\n",
       "   'y_center': 50},\n",
       "  3.043492177585974: {'inc': 0.08726646259971647,\n",
       "   'pos_ang': 0.7853981633974483,\n",
       "   'x_center': 50,\n",
       "   'y_center': 50},\n",
       "  3.1010278997991843: {'inc': 0.08726646259971647,\n",
       "   'pos_ang': 0.7853981633974483,\n",
       "   'x_center': 50,\n",
       "   'y_center': 50},\n",
       "  3.1585636220123945: {'inc': 0.08726646259971647,\n",
       "   'pos_ang': 0.7853981633974483,\n",
       "   'x_center': 50,\n",
       "   'y_center': 50},\n",
       "  3.2160993442256047: {'inc': 0.08726646259971647,\n",
       "   'pos_ang': 0.7853981633974483,\n",
       "   'x_center': 50,\n",
       "   'y_center': 50},\n",
       "  3.273635066438815: {'inc': 0.08726646259971647,\n",
       "   'pos_ang': 0.7853981633974483,\n",
       "   'x_center': 50,\n",
       "   'y_center': 50},\n",
       "  3.331170788652025: {'inc': 0.08726646259971647,\n",
       "   'pos_ang': 0.7853981633974483,\n",
       "   'x_center': 50,\n",
       "   'y_center': 50},\n",
       "  3.3887065108652363: {'inc': 0.08726646259971647,\n",
       "   'pos_ang': 0.7853981633974483,\n",
       "   'x_center': 50,\n",
       "   'y_center': 50},\n",
       "  3.4462422330784466: {'inc': 0.08726646259971647,\n",
       "   'pos_ang': 0.7853981633974483,\n",
       "   'x_center': 50,\n",
       "   'y_center': 50},\n",
       "  3.503777955291657: {'inc': 0.08726646259971647,\n",
       "   'pos_ang': 0.7853981633974483,\n",
       "   'x_center': 50,\n",
       "   'y_center': 50},\n",
       "  3.561313677504867: {'inc': 0.08726646259971647,\n",
       "   'pos_ang': 0.7853981633974483,\n",
       "   'x_center': 50,\n",
       "   'y_center': 50},\n",
       "  3.6188493997180773: {'inc': 0.08726646259971647,\n",
       "   'pos_ang': 0.7853981633974483,\n",
       "   'x_center': 50,\n",
       "   'y_center': 50},\n",
       "  3.676385121931288: {'inc': 0.08726646259971647,\n",
       "   'pos_ang': 0.7853981633974483,\n",
       "   'x_center': 50,\n",
       "   'y_center': 50},\n",
       "  3.733920844144498: {'inc': 0.08726646259971647,\n",
       "   'pos_ang': 0.7853981633974483,\n",
       "   'x_center': 50,\n",
       "   'y_center': 50},\n",
       "  3.7914565663577084: {'inc': 0.08726646259971647,\n",
       "   'pos_ang': 0.7853981633974483,\n",
       "   'x_center': 50,\n",
       "   'y_center': 50},\n",
       "  3.8489922885709187: {'inc': 0.08726646259971647,\n",
       "   'pos_ang': 0.7853981633974483,\n",
       "   'x_center': 50,\n",
       "   'y_center': 50},\n",
       "  3.906528010784129: {'inc': 0.08726646259971647,\n",
       "   'pos_ang': 0.7853981633974483,\n",
       "   'x_center': 50,\n",
       "   'y_center': 50},\n",
       "  3.96406373299734: {'inc': 0.08726646259971647,\n",
       "   'pos_ang': 0.7853981633974483,\n",
       "   'x_center': 50,\n",
       "   'y_center': 50},\n",
       "  4.02159945521055: {'inc': 0.08726646259971647,\n",
       "   'pos_ang': 0.7853981633974483,\n",
       "   'x_center': 50,\n",
       "   'y_center': 50},\n",
       "  4.07913517742376: {'inc': 0.08726646259971647,\n",
       "   'pos_ang': 0.7853981633974483,\n",
       "   'x_center': 50,\n",
       "   'y_center': 50},\n",
       "  4.136670899636971: {'inc': 0.08726646259971647,\n",
       "   'pos_ang': 0.7853981633974483,\n",
       "   'x_center': 50,\n",
       "   'y_center': 50},\n",
       "  4.194206621850181: {'inc': 0.08726646259971647,\n",
       "   'pos_ang': 0.7853981633974483,\n",
       "   'x_center': 50,\n",
       "   'y_center': 50},\n",
       "  4.251742344063392: {'inc': 0.08726646259971647,\n",
       "   'pos_ang': 0.7853981633974483,\n",
       "   'x_center': 50,\n",
       "   'y_center': 50},\n",
       "  4.309278066276602: {'inc': 0.08726646259971647,\n",
       "   'pos_ang': 0.7853981633974483,\n",
       "   'x_center': 50,\n",
       "   'y_center': 50},\n",
       "  4.366813788489813: {'inc': 0.08726646259971647,\n",
       "   'pos_ang': 0.7853981633974483,\n",
       "   'x_center': 50,\n",
       "   'y_center': 50}}}"
      ]
     },
     "execution_count": 16,
     "metadata": {},
     "output_type": "execute_result"
    }
   ],
   "source": [
    "galaxy_model.__dict__"
   ]
  },
  {
   "cell_type": "code",
   "execution_count": null,
   "metadata": {},
   "outputs": [],
   "source": []
  }
 ],
 "metadata": {
  "kernelspec": {
   "display_name": "Python 3",
   "language": "python",
   "name": "python3"
  },
  "language_info": {
   "codemirror_mode": {
    "name": "ipython",
    "version": 3
   },
   "file_extension": ".py",
   "mimetype": "text/x-python",
   "name": "python",
   "nbconvert_exporter": "python",
   "pygments_lexer": "ipython3",
   "version": "3.7.3"
  }
 },
 "nbformat": 4,
 "nbformat_minor": 2
}

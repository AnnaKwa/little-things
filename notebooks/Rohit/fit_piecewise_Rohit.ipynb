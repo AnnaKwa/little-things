{
 "cells": [
  {
   "cell_type": "code",
   "execution_count": 1,
   "metadata": {},
   "outputs": [
    {
     "data": {
      "text/html": [
       "<style>.container { width:95% !important; }</style>"
      ],
      "text/plain": [
       "<IPython.core.display.HTML object>"
      ]
     },
     "metadata": {},
     "output_type": "display_data"
    },
    {
     "name": "stderr",
     "output_type": "stream",
     "text": [
      "/home/rohit/anaconda3/lib/python3.7/site-packages/sklearn/utils/deprecation.py:144: FutureWarning: The sklearn.neighbors.base module is  deprecated in version 0.22 and will be removed in version 0.24. The corresponding classes / functions should instead be imported from sklearn.neighbors. Anything that cannot be imported from sklearn.neighbors is now part of the private API.\n",
      "  warnings.warn(message, FutureWarning)\n"
     ]
    }
   ],
   "source": [
    "from IPython.core.display import display, HTML\n",
    "display(HTML(\"<style>.container { width:95% !important; }</style>\"))\n",
    "\n",
    "\n",
    "from astropy.io import fits\n",
    "import dill as pickle\n",
    "from emcee import EnsembleSampler\n",
    "import numpy as np\n",
    "import os\n",
    "import sys\n",
    "\n",
    "pwd = os.getcwd()\n",
    "little_things_root_dir = os.path.dirname(pwd)\n",
    "sys.path.append(little_things_root_dir)\n",
    "\n",
    "from little_things_lib.galaxy_piecewise import Galaxy\n",
    "from little_things_lib.piecewise_mcmc_fitter import (\n",
    "    EmceeParameters,\n",
    "    generate_nwalkers_start_points, \n",
    "    lnprob)\n",
    "from little_things_lib.plotting import plot_posterior_distributions, plot_walker_paths\n",
    "from datetime import datetime\n",
    "\n",
    "\n",
    "RAD_PER_ARCSEC = np.pi / (60*60*180)"
   ]
  },
  {
   "cell_type": "code",
   "execution_count": 2,
   "metadata": {},
   "outputs": [],
   "source": [
    "%matplotlib inline\n",
    "import matplotlib.pyplot as plt"
   ]
  },
  {
   "cell_type": "markdown",
   "metadata": {},
   "source": [
    "## Enter parameters for galaxy in cell below"
   ]
  },
  {
   "cell_type": "code",
   "execution_count": 3,
   "metadata": {},
   "outputs": [],
   "source": [
    "galaxy_name = 'NGC2366'\n",
    "\n",
    "velocity_error_2d = 20  # [km/s]\n",
    "\n",
    "DEG_PER_PIXEL = 4.17e-4\n",
    "DISTANCE = 3400 # kpc\n",
    "\n",
    "# can leave these as any number for now, not used\n",
    "LUMINOSITY = 1e8  # solar luminositiy\n",
    "HI_MASS = 1e8  # solar masses"
   ]
  },
  {
   "cell_type": "code",
   "execution_count": 4,
   "metadata": {},
   "outputs": [],
   "source": [
    "mcmc_params = EmceeParameters(\n",
    "    ndim=3,\n",
    "    nwalkers=10, \n",
    "    nburn=5,\n",
    "    niter=12,\n",
    "    nthin=3,\n",
    "    nthreads=4\n",
    ")\n"
   ]
  },
  {
   "cell_type": "code",
   "execution_count": 5,
   "metadata": {},
   "outputs": [],
   "source": [
    "\"\"\"\n",
    "Expect the data to be provided in following naming convention in 'data' directory:\n",
    "\n",
    "2D observed velocity field FITS file: <galaxy_name>_1mom.fits\n",
    "Bbarolo fit parameters text file: <galaxy_name>_ring_parameters.txt\n",
    "Stellar velocity curve: <galaxy_name>_stellar_velocities.txt\n",
    "Gas velocity_curve: <galaxy_name>_gas_velocities.txt\n",
    "\n",
    "\"\"\"\n",
    "\n",
    "\n",
    "data_dir = os.path.join(little_things_root_dir, 'data')\n",
    "\n",
    "observed_2d_vel_field_fits_file = os.path.join(data_dir, f'{galaxy_name}_1mom.fits')\n",
    "ring_parameters_file = os.path.join(data_dir, f'{galaxy_name}_ring_parameters.txt')\n",
    "\n",
    "stellar_velocities_file = os.path.join(data_dir, f'{galaxy_name}_stellar_velocities.txt')\n",
    "gas_velocities_file = os.path.join(data_dir, f'{galaxy_name}_gas_velocities.txt')\n"
   ]
  },
  {
   "cell_type": "code",
   "execution_count": 6,
   "metadata": {},
   "outputs": [],
   "source": [
    "radii_arcsec, test_rotation_curve, inclinations, position_angles, x_centers, y_centers , v_systemics = \\\n",
    "    np.loadtxt(ring_parameters_file, usecols=(1,2,4,5,-4,-3,-2)).T\n",
    "\n",
    "radii_kpc = radii_arcsec * RAD_PER_ARCSEC * DISTANCE\n",
    "avg_inclination = np.mean(inclinations)\n",
    "avg_position_angle = np.mean(position_angles)\n",
    "avg_x_center = np.mean(x_centers)\n",
    "avg_y_center = np.mean(y_centers)\n",
    "v_systemic = np.mean(v_systemics)\n",
    "\n",
    "observed_2d_vel_field = fits.open(observed_2d_vel_field_fits_file)[0].data\n",
    "\n",
    "stellar_radii, stellar_vel = np.loadtxt(stellar_velocities_file, unpack=True)\n",
    "gas_radii, gas_vel = np.loadtxt(gas_velocities_file, unpack=True)\n",
    "\n",
    "# comment out below and uncomment above lines when actually doing a fit\n",
    "# the lines below are for testing only!\n",
    "#stellar_radii = np.linspace(0, 7, 41)\n",
    "#gas_radii = np.linspace(0, 7, 41)\n",
    "#stellar_vel = np.linspace(0, 1, 41)\n",
    "#gas_vel = np.linspace(0, 1, 41)"
   ]
  },
  {
   "cell_type": "code",
   "execution_count": 7,
   "metadata": {},
   "outputs": [],
   "source": [
    "galaxy = Galaxy(\n",
    "    distance_to_galaxy=DISTANCE,  # [kpc] Look this up for the galaxy \n",
    "    deg_per_pixel=DEG_PER_PIXEL ,  # 'CRDELT1' and 'CRDELT2' in the FITS file header (use absolute value)\n",
    "    galaxy_name=galaxy_name,\n",
    "    vlos_2d_data=observed_2d_vel_field,\n",
    "    v_error_2d=velocity_error_2d,\n",
    "    output_dir='output',\n",
    "    luminosity=LUMINOSITY,\n",
    "    HI_mass=HI_MASS)\n",
    "\n",
    "tilted_ring_params = {\n",
    "    'v_systemic': v_systemic,\n",
    "    'radii': radii_kpc,   \n",
    "    'inclination': inclinations,\n",
    "    'position_angle': position_angles,\n",
    "    'x_pix_center': x_centers,\n",
    "    'y_pix_center': y_centers\n",
    "}\n",
    "\n",
    "galaxy.set_tilted_ring_parameters(**tilted_ring_params)\n",
    "\n",
    "galaxy.interpolate_baryonic_rotation_curve(\n",
    "    baryon_type='stellar',\n",
    "    rotation_curve_radii=stellar_radii,\n",
    "    rotation_curve_velocities=stellar_vel)\n",
    "\n",
    "galaxy.interpolate_baryonic_rotation_curve(\n",
    "    baryon_type='gas',\n",
    "    rotation_curve_radii=gas_radii,\n",
    "    rotation_curve_velocities=gas_vel)\n",
    "\n"
   ]
  },
  {
   "cell_type": "markdown",
   "metadata": {},
   "source": [
    "### The cell below should be modified for the piecewise model"
   ]
  },
  {
   "cell_type": "code",
   "execution_count": 8,
   "metadata": {},
   "outputs": [],
   "source": [
    "\n",
    "# initialize MCMC start position and bounds\n",
    "galaxy.set_piecewise_prior_bounds(\n",
    "    \n",
    "    radii_arcsec\n",
    "  \n",
    ")\n",
    "\n",
    "start_pos = generate_nwalkers_start_points(\n",
    "\n",
    "    mcmc_params.nwalkers,\n",
    "    radii_arcsec\n",
    ")"
   ]
  },
  {
   "cell_type": "code",
   "execution_count": 9,
   "metadata": {
    "scrolled": true
   },
   "outputs": [
    {
     "name": "stderr",
     "output_type": "stream",
     "text": [
      "/home/rohit/anaconda3/lib/python3.7/site-packages/sklearn/utils/validation.py:933: FutureWarning: Passing attributes to check_is_fitted is deprecated and will be removed in 0.23. The attributes argument is ignored.\n",
      "  \"argument is ignored.\", FutureWarning)\n",
      "/home/rohit/anaconda3/lib/python3.7/site-packages/sklearn/utils/validation.py:933: FutureWarning: Passing attributes to check_is_fitted is deprecated and will be removed in 0.23. The attributes argument is ignored.\n",
      "  \"argument is ignored.\", FutureWarning)\n",
      "/home/rohit/anaconda3/lib/python3.7/site-packages/sklearn/utils/validation.py:933: FutureWarning: Passing attributes to check_is_fitted is deprecated and will be removed in 0.23. The attributes argument is ignored.\n",
      "  \"argument is ignored.\", FutureWarning)\n"
     ]
    },
    {
     "name": "stdout",
     "output_type": "stream",
     "text": [
      "emcee: Exception while calling your likelihood function:\n",
      "emcee: Exception while calling your likelihood function:\n",
      "  params: [48.36811088 11.08722858  3.33674888  7.3380692  44.61209294 24.49702308\n",
      " 33.52865583 14.75804153 25.32829655 17.31075474 55.99423779 46.89899341\n",
      " 17.1038969  18.12135378 20.59763667 50.93428847  1.28404987 59.19875107\n",
      "  8.48748054 46.36852539 41.18835714 10.23896898 15.63462127 36.49743303\n",
      "  4.71784485  0.44425939 58.77312888 44.59052965 42.46080576 58.97757449\n",
      " 18.15134062]  params: [50.1551234  35.60731942 54.05810408 13.64155589 24.00329126 24.96725904\n",
      " 53.14645984 25.32442045 40.59153751  8.28529003 54.37444672  8.98739317\n",
      " 12.3204396  23.86646149 32.55049244 52.86593284 34.8023378   8.70034144\n",
      "  6.46360875 49.81771976 59.38910813 49.42163077 43.19243722  0.77344959\n",
      " 32.77471664 57.81250608 24.5688693   9.3168666  32.03325557 27.99794815\n",
      "  5.84659553]\n",
      "\n",
      "  args: [<little_things_lib.galaxy_piecewise.Galaxy object at 0x7f5649e4d150>]\n",
      "  args: [<little_things_lib.galaxy_piecewise.Galaxy object at 0x7f5649e4d610>]\n",
      "  kwargs: {}\n",
      "  kwargs: {}\n",
      "  exception:\n",
      "  exception:\n"
     ]
    },
    {
     "name": "stderr",
     "output_type": "stream",
     "text": [
      "Traceback (most recent call last):\n",
      "Traceback (most recent call last):\n"
     ]
    },
    {
     "name": "stdout",
     "output_type": "stream",
     "text": [
      "emcee: Exception while calling your likelihood function:\n"
     ]
    },
    {
     "name": "stderr",
     "output_type": "stream",
     "text": [
      "  File \"/home/rohit/anaconda3/lib/python3.7/site-packages/emcee/ensemble.py\", line 519, in __call__\n",
      "    return self.f(x, *self.args, **self.kwargs)\n",
      "  File \"/home/rohit/anaconda3/lib/python3.7/site-packages/emcee/ensemble.py\", line 519, in __call__\n",
      "    return self.f(x, *self.args, **self.kwargs)\n",
      "  File \"/home/rohit/little-things/little_things_lib/piecewise_mcmc_fitter.py\", line 69, in lnprob\n",
      "    blob = params + bb\n",
      "ValueError: operands could not be broadcast together with shapes (31,) (6,) \n"
     ]
    },
    {
     "name": "stdout",
     "output_type": "stream",
     "text": [
      "  params: [37.16660668 24.47525394 36.97337985 31.59973152 48.58346644 18.46558798\n",
      " 56.09685369 21.29747616 40.39296078 30.89670015 20.00676526 35.30437005\n",
      " 49.50614668 33.88632614 50.04262509 26.39993409 52.02985449 23.43300791\n",
      "  9.59330091 45.99111389 57.83023964 59.67728414 10.63335427 10.61044093\n",
      " 21.37527283  6.98527037 25.29167086 55.92978764  7.27026618  4.9764908\n",
      " 11.95589983]"
     ]
    },
    {
     "name": "stderr",
     "output_type": "stream",
     "text": [
      "  File \"/home/rohit/little-things/little_things_lib/piecewise_mcmc_fitter.py\", line 69, in lnprob\n",
      "    blob = params + bb\n"
     ]
    },
    {
     "name": "stdout",
     "output_type": "stream",
     "text": [
      "\n"
     ]
    },
    {
     "name": "stderr",
     "output_type": "stream",
     "text": [
      "ValueError: operands could not be broadcast together with shapes (31,) (6,) \n"
     ]
    },
    {
     "name": "stdout",
     "output_type": "stream",
     "text": [
      "  args: [<little_things_lib.galaxy_piecewise.Galaxy object at 0x7f5649e4d9d0>]\n",
      "  kwargs: {}\n",
      "  exception:\n"
     ]
    },
    {
     "name": "stderr",
     "output_type": "stream",
     "text": [
      "Traceback (most recent call last):\n",
      "  File \"/home/rohit/anaconda3/lib/python3.7/site-packages/emcee/ensemble.py\", line 519, in __call__\n",
      "    return self.f(x, *self.args, **self.kwargs)\n",
      "  File \"/home/rohit/little-things/little_things_lib/piecewise_mcmc_fitter.py\", line 69, in lnprob\n",
      "    blob = params + bb\n",
      "ValueError: operands could not be broadcast together with shapes (31,) (6,) \n",
      "/home/rohit/anaconda3/lib/python3.7/site-packages/sklearn/utils/validation.py:933: FutureWarning: Passing attributes to check_is_fitted is deprecated and will be removed in 0.23. The attributes argument is ignored.\n",
      "  \"argument is ignored.\", FutureWarning)\n"
     ]
    },
    {
     "name": "stdout",
     "output_type": "stream",
     "text": [
      "emcee: Exception while calling your likelihood function:\n",
      "  params: [48.7989919  32.53458412 21.99048668 53.45536232 16.58995562 43.35613083\n",
      " 49.5304984   0.60667293 34.17120082 11.60989697 37.89739124  0.21766061\n",
      " 49.54232507 28.05944424 32.43686198 58.3161509  58.29956603  8.78450293\n",
      " 13.31774018 35.87994131 11.95731824 45.33375115 54.80326776 48.20332363\n",
      " 17.32064277 39.63800651  6.74318524 18.89507418  4.36198838  3.71898819\n",
      " 57.75168448]\n",
      "  args: [<little_things_lib.galaxy_piecewise.Galaxy object at 0x7f5649e4dd50>]\n",
      "  kwargs: {}\n",
      "  exception:\n"
     ]
    },
    {
     "name": "stderr",
     "output_type": "stream",
     "text": [
      "Traceback (most recent call last):\n",
      "  File \"/home/rohit/anaconda3/lib/python3.7/site-packages/emcee/ensemble.py\", line 519, in __call__\n",
      "    return self.f(x, *self.args, **self.kwargs)\n",
      "  File \"/home/rohit/little-things/little_things_lib/piecewise_mcmc_fitter.py\", line 69, in lnprob\n",
      "    blob = params + bb\n",
      "ValueError: operands could not be broadcast together with shapes (31,) (6,) \n",
      "/home/rohit/anaconda3/lib/python3.7/site-packages/sklearn/utils/validation.py:933: FutureWarning: Passing attributes to check_is_fitted is deprecated and will be removed in 0.23. The attributes argument is ignored.\n",
      "  \"argument is ignored.\", FutureWarning)\n",
      "/home/rohit/anaconda3/lib/python3.7/site-packages/sklearn/utils/validation.py:933: FutureWarning: Passing attributes to check_is_fitted is deprecated and will be removed in 0.23. The attributes argument is ignored.\n",
      "  \"argument is ignored.\", FutureWarning)\n"
     ]
    },
    {
     "name": "stdout",
     "output_type": "stream",
     "text": [
      "emcee: Exception while calling your likelihood function:\n",
      "  params: [54.96388558 49.48761413 15.84726418 40.09872    36.79037057  0.31776368\n",
      " 48.97934897 49.70497729 23.85676598 27.36276664 33.37971424 40.47291118\n",
      " 46.02110267 51.67678013  4.44077745 45.99097848 25.41422783 48.75705354\n",
      " 45.71713199 28.22556849 13.00633943 15.31467578 32.25675383 30.31659175\n",
      " 41.22170812 34.39976433 58.0411985  16.79785048 28.74178554 27.22111328\n",
      " 31.05397343]emcee: Exception while calling your likelihood function:\n",
      "\n",
      "  args: [<little_things_lib.galaxy_piecewise.Galaxy object at 0x7f56499f6390>]\n",
      "  params: [10.27165636 44.00838999 42.83154109 31.44718428  2.51534348 17.38767735\n",
      "  6.61128914 33.30146071 52.88147827 56.70703005 32.04792196 27.0928156\n",
      "  5.87923573 16.8340451  30.1324155   0.85976979 24.76066123  0.96527471\n",
      " 14.62909319 59.62257729 29.36565225 41.30667747  9.83040285 40.03308873\n",
      " 29.379679   39.24419963 12.47312408 22.75725767 52.7626455  57.49312744\n",
      " 47.50848286]  kwargs: {}\n",
      "\n",
      "  args: [<little_things_lib.galaxy_piecewise.Galaxy object at 0x7f5649e6ffd0>]\n",
      "  exception:\n"
     ]
    },
    {
     "name": "stderr",
     "output_type": "stream",
     "text": [
      "Traceback (most recent call last):\n"
     ]
    },
    {
     "name": "stdout",
     "output_type": "stream",
     "text": [
      "  kwargs: {}\n"
     ]
    },
    {
     "name": "stderr",
     "output_type": "stream",
     "text": [
      "  File \"/home/rohit/anaconda3/lib/python3.7/site-packages/emcee/ensemble.py\", line 519, in __call__\n",
      "    return self.f(x, *self.args, **self.kwargs)\n"
     ]
    },
    {
     "name": "stdout",
     "output_type": "stream",
     "text": [
      "  exception:\n"
     ]
    },
    {
     "name": "stderr",
     "output_type": "stream",
     "text": [
      "  File \"/home/rohit/little-things/little_things_lib/piecewise_mcmc_fitter.py\", line 69, in lnprob\n",
      "    blob = params + bb\n",
      "Traceback (most recent call last):\n",
      "ValueError: operands could not be broadcast together with shapes (31,) (6,) \n",
      "  File \"/home/rohit/anaconda3/lib/python3.7/site-packages/emcee/ensemble.py\", line 519, in __call__\n",
      "    return self.f(x, *self.args, **self.kwargs)\n",
      "  File \"/home/rohit/little-things/little_things_lib/piecewise_mcmc_fitter.py\", line 69, in lnprob\n",
      "    blob = params + bb\n",
      "ValueError: operands could not be broadcast together with shapes (31,) (6,) \n",
      "/home/rohit/anaconda3/lib/python3.7/site-packages/sklearn/utils/validation.py:933: FutureWarning: Passing attributes to check_is_fitted is deprecated and will be removed in 0.23. The attributes argument is ignored.\n",
      "  \"argument is ignored.\", FutureWarning)\n"
     ]
    },
    {
     "name": "stdout",
     "output_type": "stream",
     "text": [
      "emcee: Exception while calling your likelihood function:\n",
      "  params: [ 4.21453552 23.96242997 48.78481221  6.12514732 51.09905554 49.04282317\n",
      " 27.08917005 28.51256206  3.62486223 12.0387705  59.49315856 25.91515167\n",
      " 29.35946055 18.44413247 34.85680393 15.1126154  50.5218622  38.31124574\n",
      " 29.96768974  1.91248751 13.12600647 21.29611334 23.98726535 36.1718816\n",
      "  1.59797784 27.65956093 29.41816553 59.31814558 44.02860928 49.52904297\n",
      " 46.832711  ]\n",
      "  args: [<little_things_lib.galaxy_piecewise.Galaxy object at 0x7f56499f6250>]\n",
      "  kwargs: {}\n",
      "  exception:\n"
     ]
    },
    {
     "name": "stderr",
     "output_type": "stream",
     "text": [
      "Traceback (most recent call last):\n",
      "  File \"/home/rohit/anaconda3/lib/python3.7/site-packages/emcee/ensemble.py\", line 519, in __call__\n",
      "    return self.f(x, *self.args, **self.kwargs)\n",
      "  File \"/home/rohit/little-things/little_things_lib/piecewise_mcmc_fitter.py\", line 69, in lnprob\n",
      "    blob = params + bb\n",
      "ValueError: operands could not be broadcast together with shapes (31,) (6,) \n",
      "/home/rohit/anaconda3/lib/python3.7/site-packages/sklearn/utils/validation.py:933: FutureWarning: Passing attributes to check_is_fitted is deprecated and will be removed in 0.23. The attributes argument is ignored.\n",
      "  \"argument is ignored.\", FutureWarning)\n"
     ]
    },
    {
     "name": "stdout",
     "output_type": "stream",
     "text": [
      "emcee: Exception while calling your likelihood function:\n",
      "  params: [16.73369678 26.73477514 55.6986197   8.4155211  55.52319979 21.55450602\n",
      " 16.71705083 32.08022238 48.74951578 18.12852573 31.30669765 31.5491159\n",
      "  3.7771536   3.93490233 25.25041026 17.37326158 50.80339214 11.49445892\n",
      "  4.35694289 47.83109067 53.85400506 35.09205574 10.36157397 52.07276772\n",
      "  1.88902121 43.45441621 31.41638697 19.7832889  38.97268212 17.38772283\n",
      " 13.07567244]\n",
      "  args: [<little_things_lib.galaxy_piecewise.Galaxy object at 0x7f56499f5110>]\n",
      "  kwargs: {}\n",
      "  exception:\n"
     ]
    },
    {
     "name": "stderr",
     "output_type": "stream",
     "text": [
      "Traceback (most recent call last):\n",
      "  File \"/home/rohit/anaconda3/lib/python3.7/site-packages/emcee/ensemble.py\", line 519, in __call__\n",
      "    return self.f(x, *self.args, **self.kwargs)\n",
      "  File \"/home/rohit/little-things/little_things_lib/piecewise_mcmc_fitter.py\", line 69, in lnprob\n",
      "    blob = params + bb\n",
      "ValueError: operands could not be broadcast together with shapes (31,) (6,) \n",
      "/home/rohit/anaconda3/lib/python3.7/site-packages/sklearn/utils/validation.py:933: FutureWarning: Passing attributes to check_is_fitted is deprecated and will be removed in 0.23. The attributes argument is ignored.\n",
      "  \"argument is ignored.\", FutureWarning)\n"
     ]
    },
    {
     "name": "stdout",
     "output_type": "stream",
     "text": [
      "emcee: Exception while calling your likelihood function:\n",
      "  params: [33.80712364 18.02419582 48.35458258 34.27147197  7.54333767 36.23927691\n",
      " 50.12914822 45.87150821 21.44109286 37.21760239 44.31719427 41.5558529\n",
      " 28.25684743 19.70418935 54.18096993 57.6143554  47.26890261 56.02876404\n",
      " 44.33709379 11.52823056 47.82826873 32.56730978 37.34897119  5.19821527\n",
      "  1.01460278 25.26469043 40.73516735 33.59000889 42.95772865 37.24208542\n",
      " 18.31257813]\n",
      "  args: [<little_things_lib.galaxy_piecewise.Galaxy object at 0x7f5649a29e50>]\n",
      "  kwargs: {}\n",
      "  exception:\n"
     ]
    },
    {
     "name": "stderr",
     "output_type": "stream",
     "text": [
      "Traceback (most recent call last):\n",
      "  File \"/home/rohit/anaconda3/lib/python3.7/site-packages/emcee/ensemble.py\", line 519, in __call__\n",
      "    return self.f(x, *self.args, **self.kwargs)\n",
      "  File \"/home/rohit/little-things/little_things_lib/piecewise_mcmc_fitter.py\", line 69, in lnprob\n",
      "    blob = params + bb\n",
      "ValueError: operands could not be broadcast together with shapes (31,) (6,) \n",
      "/home/rohit/anaconda3/lib/python3.7/site-packages/sklearn/utils/validation.py:933: FutureWarning: Passing attributes to check_is_fitted is deprecated and will be removed in 0.23. The attributes argument is ignored.\n",
      "  \"argument is ignored.\", FutureWarning)\n"
     ]
    },
    {
     "name": "stdout",
     "output_type": "stream",
     "text": [
      "emcee: Exception while calling your likelihood function:\n",
      "  params: [19.85682823 52.63504014 57.15005924 43.9514919  21.50932494 48.82280475\n",
      " 50.13124503 11.20238701 37.60269742 47.50015284 25.90822375  3.36556554\n",
      " 31.44432565 41.45925086 53.93925935 57.11199862 54.35947172 27.4443968\n",
      " 37.21468748 33.93925849  0.41896761 41.46709452  6.8513483  43.83893638\n",
      " 52.93106298 39.43445607 40.2718436  30.71765914 23.1981265  23.95726845\n",
      " 11.59363187]\n",
      "  args: [<little_things_lib.galaxy_piecewise.Galaxy object at 0x7f5649a20e10>]\n",
      "  kwargs: {}\n",
      "  exception:\n"
     ]
    },
    {
     "name": "stderr",
     "output_type": "stream",
     "text": [
      "Traceback (most recent call last):\n",
      "  File \"/home/rohit/anaconda3/lib/python3.7/site-packages/emcee/ensemble.py\", line 519, in __call__\n",
      "    return self.f(x, *self.args, **self.kwargs)\n",
      "  File \"/home/rohit/little-things/little_things_lib/piecewise_mcmc_fitter.py\", line 69, in lnprob\n",
      "    blob = params + bb\n",
      "ValueError: operands could not be broadcast together with shapes (31,) (6,) \n"
     ]
    },
    {
     "ename": "ValueError",
     "evalue": "operands could not be broadcast together with shapes (31,) (6,) ",
     "output_type": "error",
     "traceback": [
      "\u001b[0;31m---------------------------------------------------------------------------\u001b[0m",
      "\u001b[0;31mRemoteTraceback\u001b[0m                           Traceback (most recent call last)",
      "\u001b[0;31mRemoteTraceback\u001b[0m: \n\"\"\"\nTraceback (most recent call last):\n  File \"/home/rohit/anaconda3/lib/python3.7/multiprocessing/pool.py\", line 121, in worker\n    result = (True, func(*args, **kwds))\n  File \"/home/rohit/anaconda3/lib/python3.7/multiprocessing/pool.py\", line 44, in mapstar\n    return list(map(*args))\n  File \"/home/rohit/anaconda3/lib/python3.7/site-packages/emcee/ensemble.py\", line 519, in __call__\n    return self.f(x, *self.args, **self.kwargs)\n  File \"/home/rohit/little-things/little_things_lib/piecewise_mcmc_fitter.py\", line 69, in lnprob\n    blob = params + bb\nValueError: operands could not be broadcast together with shapes (31,) (6,) \n\"\"\"",
      "\nThe above exception was the direct cause of the following exception:\n",
      "\u001b[0;31mValueError\u001b[0m                                Traceback (most recent call last)",
      "\u001b[0;32m<ipython-input-9-7c6a1194616d>\u001b[0m in \u001b[0;36m<module>\u001b[0;34m\u001b[0m\n\u001b[1;32m      8\u001b[0m \u001b[0;34m\u001b[0m\u001b[0m\n\u001b[1;32m      9\u001b[0m \u001b[0;31m# burn in\u001b[0m\u001b[0;34m\u001b[0m\u001b[0;34m\u001b[0m\u001b[0;34m\u001b[0m\u001b[0m\n\u001b[0;32m---> 10\u001b[0;31m \u001b[0msampler\u001b[0m\u001b[0;34m.\u001b[0m\u001b[0mrun_mcmc\u001b[0m\u001b[0;34m(\u001b[0m\u001b[0mstart_pos\u001b[0m\u001b[0;34m,\u001b[0m \u001b[0mN\u001b[0m\u001b[0;34m=\u001b[0m\u001b[0mmcmc_params\u001b[0m\u001b[0;34m.\u001b[0m\u001b[0mnburn\u001b[0m\u001b[0;34m)\u001b[0m\u001b[0;34m\u001b[0m\u001b[0;34m\u001b[0m\u001b[0m\n\u001b[0m\u001b[1;32m     11\u001b[0m \u001b[0mstart_pos_after_burn_in\u001b[0m \u001b[0;34m=\u001b[0m \u001b[0msampler\u001b[0m\u001b[0;34m.\u001b[0m\u001b[0m_last_run_mcmc_result\u001b[0m\u001b[0;34m[\u001b[0m\u001b[0;36m0\u001b[0m\u001b[0;34m]\u001b[0m\u001b[0;34m\u001b[0m\u001b[0;34m\u001b[0m\u001b[0m\n\u001b[1;32m     12\u001b[0m \u001b[0msampler\u001b[0m\u001b[0;34m.\u001b[0m\u001b[0mreset\u001b[0m\u001b[0;34m(\u001b[0m\u001b[0;34m)\u001b[0m\u001b[0;34m\u001b[0m\u001b[0;34m\u001b[0m\u001b[0m\n",
      "\u001b[0;32m~/anaconda3/lib/python3.7/site-packages/emcee/sampler.py\u001b[0m in \u001b[0;36mrun_mcmc\u001b[0;34m(self, pos0, N, rstate0, lnprob0, **kwargs)\u001b[0m\n\u001b[1;32m    170\u001b[0m \u001b[0;34m\u001b[0m\u001b[0m\n\u001b[1;32m    171\u001b[0m         for results in self.sample(pos0, lnprob0, rstate0, iterations=N,\n\u001b[0;32m--> 172\u001b[0;31m                                    **kwargs):\n\u001b[0m\u001b[1;32m    173\u001b[0m             \u001b[0;32mpass\u001b[0m\u001b[0;34m\u001b[0m\u001b[0;34m\u001b[0m\u001b[0m\n\u001b[1;32m    174\u001b[0m \u001b[0;34m\u001b[0m\u001b[0m\n",
      "\u001b[0;32m~/anaconda3/lib/python3.7/site-packages/emcee/ensemble.py\u001b[0m in \u001b[0;36msample\u001b[0;34m(self, p0, lnprob0, rstate0, blobs0, iterations, thin, storechain, mh_proposal)\u001b[0m\n\u001b[1;32m    196\u001b[0m         \u001b[0mblobs\u001b[0m \u001b[0;34m=\u001b[0m \u001b[0mblobs0\u001b[0m\u001b[0;34m\u001b[0m\u001b[0;34m\u001b[0m\u001b[0m\n\u001b[1;32m    197\u001b[0m         \u001b[0;32mif\u001b[0m \u001b[0mlnprob\u001b[0m \u001b[0;32mis\u001b[0m \u001b[0;32mNone\u001b[0m\u001b[0;34m:\u001b[0m\u001b[0;34m\u001b[0m\u001b[0;34m\u001b[0m\u001b[0m\n\u001b[0;32m--> 198\u001b[0;31m             \u001b[0mlnprob\u001b[0m\u001b[0;34m,\u001b[0m \u001b[0mblobs\u001b[0m \u001b[0;34m=\u001b[0m \u001b[0mself\u001b[0m\u001b[0;34m.\u001b[0m\u001b[0m_get_lnprob\u001b[0m\u001b[0;34m(\u001b[0m\u001b[0mp\u001b[0m\u001b[0;34m)\u001b[0m\u001b[0;34m\u001b[0m\u001b[0;34m\u001b[0m\u001b[0m\n\u001b[0m\u001b[1;32m    199\u001b[0m \u001b[0;34m\u001b[0m\u001b[0m\n\u001b[1;32m    200\u001b[0m         \u001b[0;31m# Check to make sure that the probability function didn't return\u001b[0m\u001b[0;34m\u001b[0m\u001b[0;34m\u001b[0m\u001b[0;34m\u001b[0m\u001b[0m\n",
      "\u001b[0;32m~/anaconda3/lib/python3.7/site-packages/emcee/ensemble.py\u001b[0m in \u001b[0;36m_get_lnprob\u001b[0;34m(self, pos)\u001b[0m\n\u001b[1;32m    380\u001b[0m \u001b[0;34m\u001b[0m\u001b[0m\n\u001b[1;32m    381\u001b[0m         \u001b[0;31m# Run the log-probability calculations (optionally in parallel).\u001b[0m\u001b[0;34m\u001b[0m\u001b[0;34m\u001b[0m\u001b[0;34m\u001b[0m\u001b[0m\n\u001b[0;32m--> 382\u001b[0;31m         \u001b[0mresults\u001b[0m \u001b[0;34m=\u001b[0m \u001b[0mlist\u001b[0m\u001b[0;34m(\u001b[0m\u001b[0mM\u001b[0m\u001b[0;34m(\u001b[0m\u001b[0mself\u001b[0m\u001b[0;34m.\u001b[0m\u001b[0mlnprobfn\u001b[0m\u001b[0;34m,\u001b[0m \u001b[0;34m[\u001b[0m\u001b[0mp\u001b[0m\u001b[0;34m[\u001b[0m\u001b[0mi\u001b[0m\u001b[0;34m]\u001b[0m \u001b[0;32mfor\u001b[0m \u001b[0mi\u001b[0m \u001b[0;32min\u001b[0m \u001b[0mrange\u001b[0m\u001b[0;34m(\u001b[0m\u001b[0mlen\u001b[0m\u001b[0;34m(\u001b[0m\u001b[0mp\u001b[0m\u001b[0;34m)\u001b[0m\u001b[0;34m)\u001b[0m\u001b[0;34m]\u001b[0m\u001b[0;34m)\u001b[0m\u001b[0;34m)\u001b[0m\u001b[0;34m\u001b[0m\u001b[0;34m\u001b[0m\u001b[0m\n\u001b[0m\u001b[1;32m    383\u001b[0m \u001b[0;34m\u001b[0m\u001b[0m\n\u001b[1;32m    384\u001b[0m         \u001b[0;32mtry\u001b[0m\u001b[0;34m:\u001b[0m\u001b[0;34m\u001b[0m\u001b[0;34m\u001b[0m\u001b[0m\n",
      "\u001b[0;32m~/anaconda3/lib/python3.7/site-packages/emcee/interruptible_pool.py\u001b[0m in \u001b[0;36mmap\u001b[0;34m(self, func, iterable, chunksize)\u001b[0m\n\u001b[1;32m     92\u001b[0m         \u001b[0;32mwhile\u001b[0m \u001b[0;32mTrue\u001b[0m\u001b[0;34m:\u001b[0m\u001b[0;34m\u001b[0m\u001b[0;34m\u001b[0m\u001b[0m\n\u001b[1;32m     93\u001b[0m             \u001b[0;32mtry\u001b[0m\u001b[0;34m:\u001b[0m\u001b[0;34m\u001b[0m\u001b[0;34m\u001b[0m\u001b[0m\n\u001b[0;32m---> 94\u001b[0;31m                 \u001b[0;32mreturn\u001b[0m \u001b[0mr\u001b[0m\u001b[0;34m.\u001b[0m\u001b[0mget\u001b[0m\u001b[0;34m(\u001b[0m\u001b[0mself\u001b[0m\u001b[0;34m.\u001b[0m\u001b[0mwait_timeout\u001b[0m\u001b[0;34m)\u001b[0m\u001b[0;34m\u001b[0m\u001b[0;34m\u001b[0m\u001b[0m\n\u001b[0m\u001b[1;32m     95\u001b[0m             \u001b[0;32mexcept\u001b[0m \u001b[0mTimeoutError\u001b[0m\u001b[0;34m:\u001b[0m\u001b[0;34m\u001b[0m\u001b[0;34m\u001b[0m\u001b[0m\n\u001b[1;32m     96\u001b[0m                 \u001b[0;32mpass\u001b[0m\u001b[0;34m\u001b[0m\u001b[0;34m\u001b[0m\u001b[0m\n",
      "\u001b[0;32m~/anaconda3/lib/python3.7/multiprocessing/pool.py\u001b[0m in \u001b[0;36mget\u001b[0;34m(self, timeout)\u001b[0m\n\u001b[1;32m    655\u001b[0m             \u001b[0;32mreturn\u001b[0m \u001b[0mself\u001b[0m\u001b[0;34m.\u001b[0m\u001b[0m_value\u001b[0m\u001b[0;34m\u001b[0m\u001b[0;34m\u001b[0m\u001b[0m\n\u001b[1;32m    656\u001b[0m         \u001b[0;32melse\u001b[0m\u001b[0;34m:\u001b[0m\u001b[0;34m\u001b[0m\u001b[0;34m\u001b[0m\u001b[0m\n\u001b[0;32m--> 657\u001b[0;31m             \u001b[0;32mraise\u001b[0m \u001b[0mself\u001b[0m\u001b[0;34m.\u001b[0m\u001b[0m_value\u001b[0m\u001b[0;34m\u001b[0m\u001b[0;34m\u001b[0m\u001b[0m\n\u001b[0m\u001b[1;32m    658\u001b[0m \u001b[0;34m\u001b[0m\u001b[0m\n\u001b[1;32m    659\u001b[0m     \u001b[0;32mdef\u001b[0m \u001b[0m_set\u001b[0m\u001b[0;34m(\u001b[0m\u001b[0mself\u001b[0m\u001b[0;34m,\u001b[0m \u001b[0mi\u001b[0m\u001b[0;34m,\u001b[0m \u001b[0mobj\u001b[0m\u001b[0;34m)\u001b[0m\u001b[0;34m:\u001b[0m\u001b[0;34m\u001b[0m\u001b[0;34m\u001b[0m\u001b[0m\n",
      "\u001b[0;31mValueError\u001b[0m: operands could not be broadcast together with shapes (31,) (6,) "
     ]
    }
   ],
   "source": [
    "# initialize sampler\n",
    "sampler = EnsembleSampler(\n",
    "    mcmc_params.nwalkers,\n",
    "    mcmc_params.ndim, \n",
    "    lnprob, \n",
    "    args=[galaxy], \n",
    "    threads=mcmc_params.nthreads)\n",
    "\n",
    "# burn in \n",
    "sampler.run_mcmc(start_pos, N=mcmc_params.nburn)\n",
    "start_pos_after_burn_in = sampler._last_run_mcmc_result[0]\n",
    "sampler.reset()"
   ]
  },
  {
   "cell_type": "code",
   "execution_count": 10,
   "metadata": {},
   "outputs": [
    {
     "ename": "NameError",
     "evalue": "name 'start_pos_after_burn_in' is not defined",
     "output_type": "error",
     "traceback": [
      "\u001b[0;31m---------------------------------------------------------------------------\u001b[0m",
      "\u001b[0;31mNameError\u001b[0m                                 Traceback (most recent call last)",
      "\u001b[0;32m<ipython-input-10-4d63e905c3eb>\u001b[0m in \u001b[0;36m<module>\u001b[0;34m\u001b[0m\n\u001b[1;32m     14\u001b[0m \u001b[0;32mfor\u001b[0m \u001b[0mbatch\u001b[0m \u001b[0;32min\u001b[0m \u001b[0mrange\u001b[0m\u001b[0;34m(\u001b[0m\u001b[0mmcmc_params\u001b[0m\u001b[0;34m.\u001b[0m\u001b[0mniter\u001b[0m \u001b[0;34m//\u001b[0m \u001b[0mbatch_size\u001b[0m\u001b[0;34m)\u001b[0m\u001b[0;34m:\u001b[0m\u001b[0;34m\u001b[0m\u001b[0;34m\u001b[0m\u001b[0m\n\u001b[1;32m     15\u001b[0m     \u001b[0;32mif\u001b[0m \u001b[0mbatch\u001b[0m \u001b[0;34m==\u001b[0m \u001b[0;36m0\u001b[0m\u001b[0;34m:\u001b[0m\u001b[0;34m\u001b[0m\u001b[0;34m\u001b[0m\u001b[0m\n\u001b[0;32m---> 16\u001b[0;31m         \u001b[0mbatch_start\u001b[0m \u001b[0;34m=\u001b[0m \u001b[0mstart_pos_after_burn_in\u001b[0m\u001b[0;34m\u001b[0m\u001b[0;34m\u001b[0m\u001b[0m\n\u001b[0m\u001b[1;32m     17\u001b[0m     \u001b[0;32melse\u001b[0m\u001b[0;34m:\u001b[0m\u001b[0;34m\u001b[0m\u001b[0;34m\u001b[0m\u001b[0m\n\u001b[1;32m     18\u001b[0m         \u001b[0mbatch_start\u001b[0m \u001b[0;34m=\u001b[0m \u001b[0;32mNone\u001b[0m\u001b[0;34m\u001b[0m\u001b[0;34m\u001b[0m\u001b[0m\n",
      "\u001b[0;31mNameError\u001b[0m: name 'start_pos_after_burn_in' is not defined"
     ]
    }
   ],
   "source": [
    "sampler = EnsembleSampler(\n",
    "    mcmc_params.nwalkers,\n",
    "    mcmc_params.ndim, \n",
    "    lnprob, \n",
    "    args=[galaxy], \n",
    "    threads=mcmc_params.nthreads)\n",
    "\n",
    "# this will break up the fitting procedure into smaller chunks of size batch_size and save progress\n",
    "dateTimeObj = datetime.now()\n",
    "timestampStr = dateTimeObj.strftime(\"%d-%b-%Y\")\n",
    "\n",
    "batch_size = 4\n",
    "mcmc_output = []\n",
    "for batch in range(mcmc_params.niter // batch_size):\n",
    "    if batch == 0:\n",
    "        batch_start = start_pos_after_burn_in\n",
    "    else:\n",
    "        batch_start = None\n",
    "        sampler.pool = temp_pool\n",
    "    mcmc_output += sampler.run_mcmc(batch_start, batch_size, thin=mcmc_params.nthin)\n",
    "    temp_pool = sampler.pool\n",
    "    del sampler.pool\n",
    "    with open(f'sampler_{timestampStr}.pkl', 'wb') as f:\n",
    "        pickle.dump(sampler, f)\n",
    "    with open(f'mcmc_output_{timestampStr}.pkl', 'wb') as f:\n",
    "        pickle.dump(mcmc_output, f)\n",
    "    print(f\"Done with steps {batch*batch_size} - {(batch+1)*batch_size} out of {mcmc_params.niter}\")\n"
   ]
  },
  {
   "cell_type": "markdown",
   "metadata": {},
   "source": [
    "#### The two cells below demonstrate how to load your saved results. This is useful in the follow cases:\n",
    "\n",
    "1) You finished a long MCMC fitting run and want to plot the results without having to redo the whole thing.\n",
    "\n",
    "2) Your computer crashed before it was done running the previous MCMC fit and you want to restart it from the last saved iteration. In this case you can run the second cell below to continue the MCMC fitting. The results of the restarted run will be saved separately from the results of the previous run. The combined results will also be saved."
   ]
  },
  {
   "cell_type": "code",
   "execution_count": 13,
   "metadata": {},
   "outputs": [],
   "source": [
    "# example of how to load the pickled objects\n",
    "# change the name of the files to whatever yours were saved as\n",
    "\n",
    "with open('sampler_09-Apr-2020.pkl', 'rb') as f:\n",
    "    saved_sampler = pickle.load(f)\n",
    "    restart_pos = saved_sampler._last_run_mcmc_result[0]\n",
    "with open('mcmc_output_09-Apr-2020.pkl', 'rb') as f:\n",
    "    saved_mcmc_output = pickle.load(f)"
   ]
  },
  {
   "cell_type": "code",
   "execution_count": null,
   "metadata": {},
   "outputs": [],
   "source": [
    "# example of how to restart the MCMC fit from the last save point \n",
    "# assumes you loaded the sampler and mcmc_output from the saved pickles in the example above\n",
    "\n",
    "restart_sampler = EnsembleSampler(\n",
    "    mcmc_params.nwalkers,\n",
    "    mcmc_params.ndim, \n",
    "    lnprob, \n",
    "    args=[galaxy], \n",
    "    threads=mcmc_params.nthreads)\n",
    "restart_mcmc_output = []\n",
    "\n",
    "dateTimeObj = datetime.now()\n",
    "timestampStr = dateTimeObj.strftime(\"%d-%b-%Y\")\n",
    "\n",
    "batch_size = 10\n",
    "for batch in range(mcmc_params.niter // batch_size):\n",
    "    if batch==0:\n",
    "        batch_start = restart_pos\n",
    "    else:\n",
    "        batch_start = None\n",
    "        restart_sampler.pool = temp_pool\n",
    "    restart_mcmc_output += restart_sampler.run_mcmc(batch_start, batch_size, thin=mcmc_params.nthin)\n",
    "    temp_pool = restart_sampler.pool\n",
    "    del sampler.pool\n",
    "    with open(f'sampler_{timestampStr}.pkl', 'wb') as f:\n",
    "        pickle.dump(restart_sampler, f)\n",
    "    with open(f'mcmc_output_{timestampStr}.pkl', 'wb') as f:\n",
    "        pickle.dump(restart_mcmc_output, f)\n",
    "    print(f\"Done with steps {batch*batch_size} - {(batch+1)*batch_size} out of {mcmc_params.niter}\")\n",
    "\n",
    "    \n",
    "# this step adds the MCMC results from the restarted run to the ones that were saved from the previous run.\n",
    "total_mcmc_output = saved_mcmc_output + restart_mcmc_output\n",
    "    with open(f'total_mcmc_output_{timestampStr}.pkl', 'wb') as f:\n",
    "        pickle.dump(total_mcmc_output, f)"
   ]
  },
  {
   "cell_type": "code",
   "execution_count": null,
   "metadata": {},
   "outputs": [],
   "source": [
    "#### Plot the posterior distributions and walker paths\n",
    "\n",
    "# Uncomment below line if using the the sampler loaded from the save file\n",
    "#sampler=saved_sampler\n",
    "\n",
    "parameter_labels = sorted(list(galaxy.bounds.keys()))\n",
    "\n",
    "plot_posterior_distributions(sampler, labels=parameter_labels)\n",
    "\n",
    "plot_walker_paths(\n",
    "    sampler,\n",
    "    mcmc_params,\n",
    "    labels=parameter_labels)\n",
    "\n",
    "def get_fit_stats(sampler, labels=parameter_labels):\n",
    "    for i, label in enumerate(labels):\n",
    "        chain = sampler.chain[:, :, i].flatten()\n",
    "        print(f\"{label}: {np.mean(chain)} +/- {np.std(chain)}\")\n",
    "        \n",
    "get_fit_stats(sampler)"
   ]
  },
  {
   "cell_type": "code",
   "execution_count": null,
   "metadata": {},
   "outputs": [],
   "source": [
    "#blobs = np.reshape(sampler.blobs, (int(mcmc_params.niter/mcmc_params.nthin) * mcmc_params.nwalkers, 10))\n",
    "blobs = [] \n",
    "for subarr in sampler.blobs:\n",
    "    blobs += subarr\n",
    "blobs = np.array(blobs)\n",
    "v_dm = np.mean(blobs[:, 4])\n",
    "v_baryon = np.mean( blobs[:, 5])\n",
    "v_tot = np.mean( blobs[:, 7])\n",
    "\n",
    "plt.plot(radii_kpc, test_rotation_curve, linewidth=2., label=\"data\", color=\"black\")\n",
    "\n",
    "plt.plot(galaxy.radii, v_tot, label=\"total, model\")\n",
    "plt.plot(galaxy.radii, v_dm, label=\"dark matter, model\")\n",
    "plt.plot(galaxy.radii, v_baryon, label=\"baryons, model\")\n",
    "plt.xlabel(\"r [kpc]\")\n",
    "plt.ylabel(\"v [km/s]\")\n",
    "plt.legend()"
   ]
  }
 ],
 "metadata": {
  "kernelspec": {
   "display_name": "Python 3",
   "language": "python",
   "name": "python3"
  },
  "language_info": {
   "codemirror_mode": {
    "name": "ipython",
    "version": 3
   },
   "file_extension": ".py",
   "mimetype": "text/x-python",
   "name": "python",
   "nbconvert_exporter": "python",
   "pygments_lexer": "ipython3",
   "version": "3.7.6"
  }
 },
 "nbformat": 4,
 "nbformat_minor": 2
}

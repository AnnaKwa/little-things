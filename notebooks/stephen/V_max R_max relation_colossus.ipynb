{
 "cells": [
  {
   "cell_type": "code",
   "execution_count": 1,
   "metadata": {},
   "outputs": [],
   "source": [
    "import emcee\n",
    "from astropy.io import fits\n",
    "import dill as pickle\n",
    "from emcee import EnsembleSampler\n",
    "import numpy as np\n",
    "import os\n",
    "import sys\n",
    "import math\n",
    "from astropy.cosmology import WMAP9 as cosmo\n",
    "from colossus.halo import profile_nfw\n",
    "\n",
    "pwd = os.getcwd()\n",
    "little_things_root_dir = os.path.dirname(os.path.dirname(pwd))\n",
    "sys.path.append(little_things_root_dir)\n",
    "\n",
    "from little_things_lib.galaxy import Galaxy\n",
    "from little_things_lib.nfw_mcmc_fitter import (\n",
    "    EmceeParameters,\n",
    "    get_mcmc_start_position, \n",
    "    generate_nwalkers_start_points, \n",
    "    lnprob)\n",
    "from little_things_lib.plotting import plot_posterior_distributions, plot_walker_paths\n",
    "\n",
    "%matplotlib inline\n",
    "import matplotlib.pyplot as plt\n",
    "\n",
    "little_things_root_dir = little_things_root_dir + '/notebooks/stephen/'"
   ]
  },
  {
   "cell_type": "code",
   "execution_count": 2,
   "metadata": {},
   "outputs": [],
   "source": [
    "file_name = ['DDO43 pkl/sampler_04-Apr-2020.pkl', \n",
    "             'DDO52 pkl/sampler_03-Apr-2020.pkl', \n",
    "             'DDO168 pkl/sampler_15-Apr-2020.pkl', \n",
    "             'DDO154 pkl/sampler_16-Apr-2020.pkl', \n",
    "             'DDO46 pkl/sampler.pkl', \n",
    "             'UGC8508 pkl/sampler_20-May-2020.pkl',\n",
    "             'NGC2366 pkl/sampler_06-May-2020.pkl']\n",
    "\n",
    "galaxies = ['DDO43', 'DDO52', 'DDO168', 'DDO154', 'DDO46', 'UGC8508','NGC2366']\n",
    "\n",
    "p_nfw = []\n",
    "\n",
    "for i in file_name:\n",
    "   with open(little_things_root_dir + i, 'rb') as f:\n",
    "        sampler_i = pickle.load(f)\n",
    "        rhos_chain_i = sampler_i.chain[:, :, 0].flatten()\n",
    "        rs_chain_i = sampler_i.chain[:, :, 1].flatten()\n",
    "        \n",
    "        rhos_i = (10**(rhos_chain_i)) * (68**2)\n",
    "        rs_i = 10**(rs_chain_i) / 68\n",
    "        \n",
    "        nfw = profile_nfw.NFWProfile(rhos = np.median(rhos_i[-15:]), rs = np.median(rs_i[-15:]))\n",
    "        p_nfw.append(nfw.Vmax())"
   ]
  },
  {
   "cell_type": "code",
   "execution_count": 3,
   "metadata": {},
   "outputs": [
    {
     "name": "stdout",
     "output_type": "stream",
     "text": [
      "[35.755104028943684, 82.85708712515786, 121.92004278612583, 51.63888475324451, 85.48181101427991, 156.63071854975493, 47.87006487868268] [15.225789675315935, 35.79550556922931, 85.33453943369007, 19.111311244839456, 11.162212476279207, 242.19873397061295, 14.382595113979258]\n"
     ]
    }
   ],
   "source": [
    "Vmax = []\n",
    "rmax = []\n",
    "\n",
    "for i in p_nfw:\n",
    "    Vmax.append(i[0])\n",
    "    rmax.append(i[1])\n",
    "    \n",
    "Rmax = [r * 68 for r in rmax]\n",
    "\n",
    "print(Vmax, Rmax)"
   ]
  },
  {
   "cell_type": "code",
   "execution_count": 4,
   "metadata": {},
   "outputs": [],
   "source": [
    "V = np.array(range(100))\n",
    "R = 26*(V/(100))**1.4\n",
    "\n",
    "R_upper = 10**0.2*R\n",
    "R_lower = 10**-0.2*R"
   ]
  },
  {
   "cell_type": "code",
   "execution_count": 9,
   "metadata": {},
   "outputs": [
    {
     "data": {
      "image/png": "[encoded data removed]",
      "text/plain": [
       "<Figure size 432x288 with 1 Axes>"
      ]
     },
     "metadata": {
      "needs_background": "light"
     },
     "output_type": "display_data"
    }
   ],
   "source": [
    "plt.title('NFW Model vs Cosmological Relation')\n",
    "plt.xlabel('Vmax [km/s]')\n",
    "plt.ylabel('Rmax [kpc]')\n",
    "\n",
    "plt.loglog(10, 10, V, R_upper, color = 'b')\n",
    "plt.loglog(10, 10, V, R_lower, color = 'b')\n",
    "plt.xlim([10,200])\n",
    "plt.ylim([1,100])\n",
    "\n",
    "for i in range(len(Vmax)):\n",
    "    v = Vmax[i]\n",
    "    r = Rmax[i]\n",
    "    plt.errorbar(v,r, yerr = 4 , xerr = 4, capsize = 2, capthick = 1)\n",
    "    plt.text(v,r,galaxies[i])\n",
    "\n",
    "plt.show()"
   ]
  },
  {
   "cell_type": "code",
   "execution_count": null,
   "metadata": {},
   "outputs": [],
   "source": []
  }
 ],
 "metadata": {
  "kernelspec": {
   "display_name": "Python 3",
   "language": "python",
   "name": "python3"
  },
  "language_info": {
   "codemirror_mode": {
    "name": "ipython",
    "version": 3
   },
   "file_extension": ".py",
   "mimetype": "text/x-python",
   "name": "python",
   "nbconvert_exporter": "python",
   "pygments_lexer": "ipython3",
   "version": "3.7.4"
  }
 },
 "nbformat": 4,
 "nbformat_minor": 2
}

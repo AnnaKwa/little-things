{
 "cells": [
  {
   "cell_type": "markdown",
   "metadata": {},
   "source": [
    "#### Notes<br>\n",
    "<br>\n",
    "In order to change the parameter `a` that controls how the sampler moves during its walk, you need to update the `emcee` package to the most recent version. To do this, run `pip install --upgrade emcee`.<br>\n",
    "<br>\n",
    "Note that older notebooks will not work with this newer version, but any code that uses `fit2d` to run the MCMC will handle the version change. If you really need to run an older notebook (though it should be easy to port those parameters to a notebook based off this one) you can downgrade the version using `pip install emcee==2.2.1`.<br>\n",
    "<br>\n",
    "This notebook, and any other code using `fit2d`, can run on the older version of emcee but you won't be able to change the move parameter."
   ]
  },
  {
   "cell_type": "markdown",
   "metadata": {},
   "source": [
    "Rotating disk - 40 km/s<br>\n",
    "w/ structural params<br>\n",
    "1 bin for the entire galaxy<br>\n",
    "using fill nan"
   ]
  },
  {
   "cell_type": "markdown",
   "metadata": {},
   "source": [
    "making a 1-1 comparison b/w this and the mathematica notebook results (chisq-analytical7)"
   ]
  },
  {
   "cell_type": "markdown",
   "metadata": {},
   "source": [
    "Same as the sini fit w/ a cropped field, but fitting inc instead -- fixed vel AND pa"
   ]
  },
  {
   "cell_type": "markdown",
   "metadata": {},
   "source": [
    "In[1]:"
   ]
  },
  {
   "cell_type": "code",
   "execution_count": 1,
   "metadata": {
    "ExecuteTime": {
     "end_time": "2022-01-15T02:00:44.796734Z",
     "start_time": "2022-01-15T02:00:40.677200Z"
    }
   },
   "outputs": [],
   "source": [
    "from fit2d import Galaxy, RingModel\n",
    "from fit2d.mcmc import LinearPrior\n",
    "from fit2d.mcmc import emcee_lnlike, piecewise_start_points\n",
    "from fit2d.models import PiecewiseModel\n",
    "\n",
    "from astropy.io import fits\n",
    "import copy\n",
    "from datetime import datetime\n",
    "import glob\n",
    "import joblib\n",
    "import numpy as np\n",
    "import os\n",
    "\n",
    "import emcee\n",
    "from emcee import EnsembleSampler, moves"
   ]
  },
  {
   "cell_type": "markdown",
   "metadata": {},
   "source": [
    "In[2]:"
   ]
  },
  {
   "cell_type": "markdown",
   "metadata": {},
   "source": [
    "number of bins in fit"
   ]
  },
  {
   "cell_type": "code",
   "execution_count": 2,
   "metadata": {
    "ExecuteTime": {
     "end_time": "2022-01-15T02:00:44.841776Z",
     "start_time": "2022-01-15T02:00:44.804308Z"
    }
   },
   "outputs": [],
   "source": [
    "num_bins = 10\n",
    "# min and max bounds for each bin\n",
    "vmin, vmax = 0, 200\n",
    "\n",
    "# min and max inc, pos angle in RADIANS\n",
    "inc_min, inc_max = np.radians(0), np.radians(85)\n",
    "pos_angle_min, pos_angle_max = np.radians(0), np.radians(360)\n",
    "\n",
    "name = \"NGC2366\"\n",
    "distance = 3400. # [kpc]\n",
    "\n",
    "home_directory = \"/Users/stephencoffey/Downloads/little-things/data\"\n",
    "observed_2d_vel_field_fits_file = f\"{home_directory}/NGC2366_1mom_cropped.fits\"\n",
    "# to use the dispersion as a source of errors, provide this file name\n",
    "# observed_2d_dispersion_fits_file = f\"{home_directory}/NGC2366_2mom.fits\"\n",
    "deg_per_pixel=4.17e-4\n",
    "\n",
    "ring_param_file = f\"{home_directory}/NGC2366_ring_parameters_rohit.txt\"\n",
    "v_systemic = 100 #changed to 100 to equal exactly what we used in mathematica"
   ]
  },
  {
   "cell_type": "code",
   "execution_count": 3,
   "metadata": {
    "ExecuteTime": {
     "end_time": "2022-01-15T02:00:44.886156Z",
     "start_time": "2022-01-15T02:00:44.852136Z"
    }
   },
   "outputs": [],
   "source": [
    "# x and y dims are switched in ds9 fits display versus np array shape\n",
    "fits_ydim, fits_xdim = fits.open(observed_2d_vel_field_fits_file)[0].data.shape\n",
    "\n",
    "mask_sigma=1.\n",
    "random_seed = 1234\n",
    "\n",
    "mcmc_nwalkers = 30\n",
    "mcmc_niter = 500\n",
    "mcmc_ndim = 12  # Do not change this if fitting one ring at a time\n",
    "mcmc_nthreads = 40\n",
    "# Try increasing stretch scale factor a. version must be >=3 for this to be used.\n",
    "mcmc_moves = moves.StretchMove(a = 2)\n",
    "mcmc_version = float(emcee.__version__[0])\n",
    "\n",
    "# Option to save every batch_size iterations in case of crash<br>\n",
    "# Increase this; 2 is a very low value just for testing\n",
    "\n",
    "batch_size = 25\n",
    "\n",
    "# option to save outputs in a particular directory\n",
    "save_dir = \"/Users/stephencoffey/Downloads/little-things/notebooks/experiments/fake_gal/debugging/real_data/10rings/\""
   ]
  },
  {
   "cell_type": "markdown",
   "metadata": {},
   "source": [
    "### This is where you can provide a 2D array of pixel errors.<br>\n",
    "### Only one of these should be set- SET THE OTHER TO HAVE value `None`<br>\n",
    "<br>\n",
    "#### Note the order the parameters are specified in the `ring_param_bounds`:  index 1 corresponds to the inclination, index 2 corresponds to position angle."
   ]
  },
  {
   "cell_type": "markdown",
   "metadata": {},
   "source": [
    "In[3]:"
   ]
  },
  {
   "cell_type": "code",
   "execution_count": 4,
   "metadata": {
    "ExecuteTime": {
     "end_time": "2022-01-15T02:00:44.938491Z",
     "start_time": "2022-01-15T02:00:44.894951Z"
    }
   },
   "outputs": [],
   "source": [
    "galaxy = Galaxy(\n",
    "    name=name,\n",
    "    distance=distance,\n",
    "    observed_2d_vel_field_fits_file=observed_2d_vel_field_fits_file,\n",
    "    deg_per_pixel=deg_per_pixel,\n",
    "    v_systemic=v_systemic\n",
    ")"
   ]
  },
  {
   "cell_type": "code",
   "execution_count": 5,
   "metadata": {
    "ExecuteTime": {
     "end_time": "2022-01-15T02:00:44.961441Z",
     "start_time": "2022-01-15T02:00:44.943398Z"
    },
    "scrolled": false
   },
   "outputs": [],
   "source": [
    "ring_model = RingModel(\n",
    "    ring_param_file=ring_param_file,\n",
    "    fits_xdim=fits_xdim,\n",
    "    fits_ydim=fits_ydim,\n",
    "    distance=distance\n",
    ")\n",
    "\n",
    "ring_param_bounds = [(vmin, vmax), (vmin, vmax), (vmin, vmax), (vmin, vmax), (vmin, vmax), (vmin, vmax), (vmin, vmax), (vmin, vmax), (vmin, vmax), (vmin, vmax), (inc_min, inc_max), (pos_angle_min, pos_angle_max)]\n",
    "\n"
   ]
  },
  {
   "cell_type": "markdown",
   "metadata": {},
   "source": [
    "mapping of ring struct params to their index in the parameters (same as specified in bounds)<br>\n",
    "this is provided as an optional argument to lnlike to tell it which parameters to use as inc and pos_angle"
   ]
  },
  {
   "cell_type": "code",
   "execution_count": 6,
   "metadata": {
    "ExecuteTime": {
     "end_time": "2022-01-15T02:00:44.974977Z",
     "start_time": "2022-01-15T02:00:44.968078Z"
    }
   },
   "outputs": [],
   "source": [
    "fit_structural_params = {\"inc\": 10, \"pos_angle\": 11}"
   ]
  },
  {
   "cell_type": "code",
   "execution_count": 7,
   "metadata": {
    "ExecuteTime": {
     "end_time": "2022-01-15T02:00:45.031286Z",
     "start_time": "2022-01-15T02:00:44.984821Z"
    }
   },
   "outputs": [
    {
     "name": "stderr",
     "output_type": "stream",
     "text": [
      "/Users/stephencoffey/anaconda2/envs/anna_env/lib/python3.7/site-packages/numpy/core/fromnumeric.py:3257: RuntimeWarning: Mean of empty slice.\n",
      "  out=out, **kwargs)\n",
      "/Users/stephencoffey/anaconda2/envs/anna_env/lib/python3.7/site-packages/numpy/core/_methods.py:161: RuntimeWarning: invalid value encountered in double_scalars\n",
      "  ret = ret.dtype.type(ret / rcount)\n"
     ]
    }
   ],
   "source": [
    "vels, incs, pos_angles = np.loadtxt(ring_param_file, usecols=(2, 4, 5)).T\n",
    "v_rot = []\n",
    "bin_indices = np.linspace(0, len(ring_model.radii_kpc_interp)-1, num_bins + 1)\n",
    "bin_edges = []\n",
    "for i in bin_indices:\n",
    "    bin_edges.append(ring_model.radii_kpc_interp[int(i)])\n",
    "for i in range(len(bin_indices)-1):\n",
    "    v_rot.append(np.mean(vels[int(bin_indices[i]):int(bin_indices[i+1])]))"
   ]
  },
  {
   "cell_type": "markdown",
   "metadata": {},
   "source": [
    "In[4]:"
   ]
  },
  {
   "cell_type": "markdown",
   "metadata": {},
   "source": [
    "One, but not both, should be provided to lnlike"
   ]
  },
  {
   "cell_type": "code",
   "execution_count": 8,
   "metadata": {
    "ExecuteTime": {
     "end_time": "2022-01-15T02:00:45.064674Z",
     "start_time": "2022-01-15T02:00:45.049347Z"
    }
   },
   "outputs": [
    {
     "name": "stdout",
     "output_type": "stream",
     "text": [
      "[12.612, 31.484, 44.101800000000004, 52.24366666666666, 53.532000000000004, 53.377, nan, nan, nan, nan]\n"
     ]
    }
   ],
   "source": [
    "print(v_rot)"
   ]
  },
  {
   "cell_type": "code",
   "execution_count": 9,
   "metadata": {
    "ExecuteTime": {
     "end_time": "2022-01-15T02:00:45.084298Z",
     "start_time": "2022-01-15T02:00:45.077553Z"
    }
   },
   "outputs": [],
   "source": [
    "v_err_const = 10. # [km/s] constant error per pixel\n",
    "v_err_2d = None"
   ]
  },
  {
   "cell_type": "markdown",
   "metadata": {},
   "source": [
    "to use the 2nd moment map,<br>\n",
    "v_err_const = None<br>\n",
    "v_err_2d = galaxy.observed_2d_dispersion"
   ]
  },
  {
   "cell_type": "markdown",
   "metadata": {},
   "source": [
    "The code below has been altered to change the \"observations\" to a fake array<br>\n",
    "with a constant circular velocity at all radii.<br>\n",
    "<br>\n",
    "Set the variable `v_rot_fake` to the constant velocity<br>\n"
   ]
  },
  {
   "cell_type": "markdown",
   "metadata": {},
   "source": [
    "In[ ]:"
   ]
  },
  {
   "cell_type": "code",
   "execution_count": 10,
   "metadata": {
    "ExecuteTime": {
     "end_time": "2022-01-15T02:00:45.114246Z",
     "start_time": "2022-01-15T02:00:45.091090Z"
    }
   },
   "outputs": [],
   "source": [
    "import warnings\n",
    "warnings.simplefilter('ignore')\n",
    "from joblib import Parallel, delayed\n",
    "from fit2d._velocity_field_generator import create_2d_velocity_field\n",
    "\n",
    "inc = np.radians(60)  # fill this in with something within the priors\n",
    "pos_angle = np.radians(40) # fill this in with something within the priors\n",
    "\n",
    "# if inc and/or pos_angle are not being fit in the MCMC, they will be fixed to constant values inc_fake, pos_angle_fake\n",
    "\n",
    "ring_model.update_structural_parameters(inc=inc, pos_angle=pos_angle)"
   ]
  },
  {
   "cell_type": "code",
   "execution_count": 11,
   "metadata": {
    "ExecuteTime": {
     "end_time": "2022-01-15T02:00:45.183425Z",
     "start_time": "2022-01-15T02:00:45.123608Z"
    }
   },
   "outputs": [],
   "source": [
    "from fit2d.mcmc._likelihood import chisq_2d, lnlike\n",
    "import matplotlib.pyplot as plt\n",
    "#from mpl_toolkits import mplot3d\n",
    "#%matplotlib notebook\n",
    "\n",
    "\"\"\"fake_observed_2d_vel_field = create_2d_velocity_field(\n",
    "        radii = [bin_edges[0], bin_edges[-1]],\n",
    "        v_rot = [40, 40],  # just fill in any velocity\n",
    "        i = inc_fake,\n",
    "        pa = pos_angle_fake,\n",
    "        v_sys = galaxy.v_systemic,\n",
    "        x_dim = galaxy.image_xdim,\n",
    "        y_dim = galaxy.image_ydim,\n",
    "        x_center = fits_xdim/2,\n",
    "        y_center = fits_ydim/2,\n",
    "        kpc_per_pixel = galaxy.kpc_per_pixel\n",
    "        )\n",
    "plt.imshow(fake_observed_2d_vel_field)\n",
    "plt.colorbar()\n",
    "plt.title(\"fake data\")\n",
    "plt.show()\"\"\"\n",
    "\n",
    "\n",
    "bin_min, bin_max = bin_edges[0], bin_edges[-1]\n",
    "\n",
    "galaxy.observed_2d_vel_field = fits.open(observed_2d_vel_field_fits_file)[0].data\n",
    "dimensions = galaxy.observed_2d_vel_field.shape\n",
    "\n",
    "piecewise_model = PiecewiseModel(num_bins=num_bins)\n",
    "piecewise_model.set_bounds(array_bounds=ring_param_bounds)\n",
    "piecewise_model.set_bin_edges(rmin=bin_min, rmax=bin_max)\n",
    "radii_to_interpolate = np.array([r for r in ring_model.radii_kpc_interp if bin_min<=r<=bin_max])\n",
    "prior = LinearPrior(bounds=piecewise_model.bounds)\n",
    "prior_transform = prior.transform_from_unit_cube\n",
    "\n",
    "# instead of using piecewise_model.bounds, we've manually input bounds for the starting positions so the walkers start out much closer to the value we're looking for\n",
    "start_positions = piecewise_start_points(mcmc_nwalkers, bounds = [(9,11), (16,18), (20, 22), (29,31), (39, 41), (44, 46), (49, 51), (51, 53), (53, 55), (53, 55), (inc - 0.1, inc + 0.1), (pos_angle - 0.1, pos_angle + 0.1)], random_seed=random_seed)\n",
    "fit_inputs = {\n",
    "    \"piecewise_model\": piecewise_model,\n",
    "    \"galaxy\": galaxy,\n",
    "    \"ring_model\": ring_model,\n",
    "    \"prior_transform\": prior_transform\n",
    "}\n",
    "#print(f\"Fitting ring {bin_index}\")\n",
    "rotation_curve_func_kwargs = {\n",
    "    \"radii_to_interpolate\": radii_to_interpolate}\n",
    "lnlike_args = {\n",
    "    \"model\": piecewise_model,\n",
    "    \"rotation_curve_func_kwargs\": rotation_curve_func_kwargs,\n",
    "    \"galaxy\": galaxy,\n",
    "    \"ring_model\": ring_model,\n",
    "    \"mask_sigma\": mask_sigma,\n",
    "    \"v_err_const\": v_err_const,\n",
    "    \"v_err_2d\": v_err_2d,\n",
    "    \"fit_structural_params\": fit_structural_params\n",
    "}\n",
    "\n",
    "\"\"\"fig = plt.figure()\n",
    "ax = plt.axes(projection = '3d')\n",
    "inc = np.linspace(0.1, np.pi/2 - 0.1, 10)\n",
    "pa = np.linspace(0.1, 2*np.pi - 0.1, 10)\n",
    "lnlikes = np.empty((len(inc), len(pa)))\n",
    "for y in range(len(pa)):\n",
    "    for x in range(len(inc)):\n",
    "        lnlikes[x,y] = lnlike([v_rot[bin_index], inc[x], pa[y]], **lnlike_args) \n",
    "ax.plot_surface(inc, pa, lnlikes)\n",
    "\n",
    "print(lnlikes)\"\"\"\n",
    "sampler = EnsembleSampler(\n",
    "    mcmc_nwalkers,\n",
    "    mcmc_ndim,\n",
    "    emcee_lnlike,\n",
    "    args=[mcmc_version, lnlike_args],\n",
    "    threads=mcmc_nthreads,\n",
    ")\n",
    "if mcmc_version >= 3:\n",
    "    sampler._moves = [mcmc_moves]\n",
    "sampler_output_file = os.path.join(\n",
    "    save_dir or \"\", f\"sampler_{galaxy.name}.pkl\")"
   ]
  },
  {
   "cell_type": "code",
   "execution_count": 12,
   "metadata": {
    "ExecuteTime": {
     "end_time": "2022-01-15T02:12:40.880237Z",
     "start_time": "2022-01-15T02:00:45.190535Z"
    },
    "scrolled": false
   },
   "outputs": [
    {
     "name": "stdout",
     "output_type": "stream",
     "text": [
      "Done with steps 0 - 25 out of 500\n",
      "Done with steps 25 - 50 out of 500\n",
      "Done with steps 50 - 75 out of 500\n",
      "Done with steps 75 - 100 out of 500\n",
      "Done with steps 100 - 125 out of 500\n",
      "Done with steps 125 - 150 out of 500\n",
      "Done with steps 150 - 175 out of 500\n",
      "Done with steps 175 - 200 out of 500\n",
      "Done with steps 200 - 225 out of 500\n",
      "Done with steps 225 - 250 out of 500\n",
      "Done with steps 250 - 275 out of 500\n",
      "Done with steps 275 - 300 out of 500\n",
      "Done with steps 300 - 325 out of 500\n",
      "Done with steps 325 - 350 out of 500\n",
      "Done with steps 350 - 375 out of 500\n",
      "Done with steps 375 - 400 out of 500\n",
      "Done with steps 400 - 425 out of 500\n",
      "Done with steps 425 - 450 out of 500\n",
      "Done with steps 450 - 475 out of 500\n",
      "Done with steps 475 - 500 out of 500\n"
     ]
    }
   ],
   "source": [
    "for batch in range(mcmc_niter // batch_size):\n",
    "    if batch == 0:\n",
    "        batch_start = start_positions\n",
    "    else:\n",
    "        batch_start = None\n",
    "        sampler.pool = temp_pool\n",
    "    sampler.run_mcmc(batch_start, batch_size)\n",
    "    temp_pool = sampler.pool\n",
    "    del sampler.pool\n",
    "    with open(sampler_output_file, 'wb') as f:\n",
    "        sampler_copy = copy.copy(sampler)\n",
    "        del sampler_copy.log_prob_fn\n",
    "        joblib.dump(sampler_copy, f)\n",
    "\n",
    "    print(f\"Done with steps {batch*batch_size} - {(batch+1)*batch_size} out of {mcmc_niter}\")"
   ]
  },
  {
   "cell_type": "code",
   "execution_count": 13,
   "metadata": {
    "ExecuteTime": {
     "end_time": "2022-01-15T02:12:41.012893Z",
     "start_time": "2022-01-15T02:12:40.897691Z"
    }
   },
   "outputs": [
    {
     "name": "stdout",
     "output_type": "stream",
     "text": [
      "Done with emcee fit for NGC2366\n"
     ]
    }
   ],
   "source": [
    "print(f\"Done with emcee fit for {galaxy.name}\")"
   ]
  },
  {
   "cell_type": "code",
   "execution_count": 14,
   "metadata": {
    "ExecuteTime": {
     "end_time": "2022-01-15T02:12:41.039655Z",
     "start_time": "2022-01-15T02:12:41.023847Z"
    }
   },
   "outputs": [
    {
     "data": {
      "text/plain": [
       "'log_probs = sampler.get_log_prob()\\nprint(\"log prob of best fit point:\", np.amax(log_probs))\\nlog_max = np.where(log_probs == np.amax(log_probs))\\nparam_vals = sampler.get_chain()[log_max]\\nprint(\"vel, inc, vsini of best fit point:\", (param_vals[0][0], param_vals[0][1],param_vals[0][0]*np.sin(param_vals[0][1]) ))\\nprint(\"Mean acceptance fraction: {0:.3f}\".format(np.mean(sampler.acceptance_fraction)))\\n#print(\"Mean autocorrelation time: {0:.3f} steps\".format(np.mean(sampler.get_autocorr_time())))'"
      ]
     },
     "execution_count": 14,
     "metadata": {},
     "output_type": "execute_result"
    }
   ],
   "source": [
    "\"\"\"log_probs = sampler.get_log_prob()\n",
    "print(\"log prob of best fit point:\", np.amax(log_probs))\n",
    "log_max = np.where(log_probs == np.amax(log_probs))\n",
    "param_vals = sampler.get_chain()[log_max]\n",
    "print(\"vel, inc, vsini of best fit point:\", (param_vals[0][0], param_vals[0][1],param_vals[0][0]*np.sin(param_vals[0][1]) ))\n",
    "print(\"Mean acceptance fraction: {0:.3f}\".format(np.mean(sampler.acceptance_fraction)))\n",
    "#print(\"Mean autocorrelation time: {0:.3f} steps\".format(np.mean(sampler.get_autocorr_time())))\"\"\""
   ]
  },
  {
   "cell_type": "code",
   "execution_count": 15,
   "metadata": {
    "ExecuteTime": {
     "end_time": "2022-01-15T02:12:41.087624Z",
     "start_time": "2022-01-15T02:12:41.047930Z"
    }
   },
   "outputs": [],
   "source": [
    "from fit2d._velocity_field_generator import create_2d_velocity_field\n",
    "\n",
    "from astropy.io import fits\n",
    "import matplotlib.pyplot as plt\n",
    "from mpl_toolkits.axes_grid1 import make_axes_locatable"
   ]
  },
  {
   "cell_type": "code",
   "execution_count": 16,
   "metadata": {
    "ExecuteTime": {
     "end_time": "2022-01-15T02:12:41.772163Z",
     "start_time": "2022-01-15T02:12:41.096067Z"
    }
   },
   "outputs": [
    {
     "data": {
      "text/plain": [
       "'fake_data = create_2d_velocity_field(\\n    radii = [bin_edges[0], bin_edges[-3]],\\n    v_rot = [40,40],  # just fill in any velocity\\n        i=inc_fake,\\n        pa=pos_angle_fake,\\n        v_sys = 100,\\n        x_dim = galaxy.image_xdim,\\n        y_dim = galaxy.image_ydim,\\n        x_center = fits_xdim/2,\\n        y_center = fits_ydim/2, \\n        kpc_per_pixel=0.024745278134775603\\n)'"
      ]
     },
     "execution_count": 16,
     "metadata": {},
     "output_type": "execute_result"
    },
    {
     "data": {
      "image/png": "[encoded data removed]",
      "text/plain": [
       "<Figure size 432x288 with 2 Axes>"
      ]
     },
     "metadata": {
      "needs_background": "light"
     },
     "output_type": "display_data"
    }
   ],
   "source": [
    "model = create_2d_velocity_field(\n",
    "    radii = [bin_edges[0], bin_edges[1]],\n",
    "    v_rot = [v_rot[0], v_rot[0]],  # just fill in any velocity\n",
    "        i= np.radians(0),\n",
    "        pa= pos_angle,\n",
    "        v_sys = 100,\n",
    "        x_dim = galaxy.image_xdim,\n",
    "        y_dim = galaxy.image_ydim,\n",
    "        x_center = fits_xdim/2,\n",
    "        y_center = fits_ydim/2, \n",
    "        kpc_per_pixel=0.024745278134775603\n",
    ")\n",
    "\n",
    "plt.imshow(model)\n",
    "plt.colorbar()\n",
    "\"\"\"fake_data = create_2d_velocity_field(\n",
    "    radii = [bin_edges[0], bin_edges[-3]],\n",
    "    v_rot = [40,40],  # just fill in any velocity\n",
    "        i=inc_fake,\n",
    "        pa=pos_angle_fake,\n",
    "        v_sys = 100,\n",
    "        x_dim = galaxy.image_xdim,\n",
    "        y_dim = galaxy.image_ydim,\n",
    "        x_center = fits_xdim/2,\n",
    "        y_center = fits_ydim/2, \n",
    "        kpc_per_pixel=0.024745278134775603\n",
    ")\"\"\""
   ]
  },
  {
   "cell_type": "code",
   "execution_count": 17,
   "metadata": {
    "ExecuteTime": {
     "end_time": "2022-01-15T02:12:42.845723Z",
     "start_time": "2022-01-15T02:12:41.779215Z"
    }
   },
   "outputs": [
    {
     "ename": "NameError",
     "evalue": "name 'fake_data' is not defined",
     "output_type": "error",
     "traceback": [
      "\u001b[0;31m---------------------------------------------------------------------------\u001b[0m",
      "\u001b[0;31mNameError\u001b[0m                                 Traceback (most recent call last)",
      "\u001b[0;32m<ipython-input-17-037e4d9772f8>\u001b[0m in \u001b[0;36m<module>\u001b[0;34m\u001b[0m\n\u001b[1;32m      4\u001b[0m \u001b[0max3\u001b[0m\u001b[0;34m.\u001b[0m\u001b[0mset_title\u001b[0m\u001b[0;34m(\u001b[0m\u001b[0;34m\"Overlay\"\u001b[0m\u001b[0;34m)\u001b[0m\u001b[0;34m\u001b[0m\u001b[0;34m\u001b[0m\u001b[0m\n\u001b[1;32m      5\u001b[0m \u001b[0mim1\u001b[0m \u001b[0;34m=\u001b[0m \u001b[0max1\u001b[0m\u001b[0;34m.\u001b[0m\u001b[0mimshow\u001b[0m\u001b[0;34m(\u001b[0m\u001b[0mmodel\u001b[0m\u001b[0;34m)\u001b[0m\u001b[0;34m\u001b[0m\u001b[0;34m\u001b[0m\u001b[0m\n\u001b[0;32m----> 6\u001b[0;31m \u001b[0mim2\u001b[0m \u001b[0;34m=\u001b[0m \u001b[0max2\u001b[0m\u001b[0;34m.\u001b[0m\u001b[0mimshow\u001b[0m\u001b[0;34m(\u001b[0m\u001b[0mfake_data\u001b[0m\u001b[0;34m)\u001b[0m\u001b[0;34m\u001b[0m\u001b[0;34m\u001b[0m\u001b[0m\n\u001b[0m\u001b[1;32m      7\u001b[0m \u001b[0max3\u001b[0m\u001b[0;34m.\u001b[0m\u001b[0mimshow\u001b[0m\u001b[0;34m(\u001b[0m\u001b[0mmodel\u001b[0m\u001b[0;34m,\u001b[0m \u001b[0malpha\u001b[0m \u001b[0;34m=\u001b[0m \u001b[0;36m0.75\u001b[0m\u001b[0;34m,\u001b[0m \u001b[0mcmap\u001b[0m \u001b[0;34m=\u001b[0m \u001b[0;34m'Reds'\u001b[0m\u001b[0;34m)\u001b[0m\u001b[0;34m\u001b[0m\u001b[0;34m\u001b[0m\u001b[0m\n\u001b[1;32m      8\u001b[0m \u001b[0max3\u001b[0m\u001b[0;34m.\u001b[0m\u001b[0mimshow\u001b[0m\u001b[0;34m(\u001b[0m\u001b[0mfake_data\u001b[0m\u001b[0;34m,\u001b[0m \u001b[0malpha\u001b[0m \u001b[0;34m=\u001b[0m \u001b[0;36m0.5\u001b[0m\u001b[0;34m,\u001b[0m \u001b[0mcmap\u001b[0m \u001b[0;34m=\u001b[0m \u001b[0;34m'Blues'\u001b[0m\u001b[0;34m)\u001b[0m\u001b[0;34m\u001b[0m\u001b[0;34m\u001b[0m\u001b[0m\n",
      "\u001b[0;31mNameError\u001b[0m: name 'fake_data' is not defined"
     ]
    },
    {
     "data": {
      "image/png": "[encoded data removed]",
      "text/plain": [
       "<Figure size 1440x1080 with 3 Axes>"
      ]
     },
     "metadata": {
      "needs_background": "light"
     },
     "output_type": "display_data"
    }
   ],
   "source": [
    "fig, (ax1, ax2, ax3) = plt.subplots(1, 3, figsize = (20,15))\n",
    "ax1.set_title(\"Model\")\n",
    "ax2.set_title(\"Fake data\")\n",
    "ax3.set_title(\"Overlay\")\n",
    "im1 = ax1.imshow(model)\n",
    "im2 = ax2.imshow(fake_data)\n",
    "ax3.imshow(model, alpha = 0.75, cmap = 'Reds')\n",
    "ax3.imshow(fake_data, alpha = 0.5, cmap = 'Blues')\n",
    "\n",
    "divider = make_axes_locatable(ax1)\n",
    "cax = divider.append_axes('right', size='5%', pad=0.1)\n",
    "fig.colorbar(im1, cax=cax, orientation='vertical')\n",
    "\n",
    "divider = make_axes_locatable(ax2)\n",
    "cax = divider.append_axes('right', size='5%', pad=0.1)\n",
    "fig.colorbar(im2, cax=cax, orientation='vertical')"
   ]
  },
  {
   "cell_type": "code",
   "execution_count": null,
   "metadata": {
    "ExecuteTime": {
     "end_time": "2022-01-15T02:12:42.850318Z",
     "start_time": "2022-01-15T02:00:40.745Z"
    }
   },
   "outputs": [],
   "source": [
    "plt.imshow(model - fake_data)\n",
    "plt.title(\"Model - fake data\")\n",
    "plt.colorbar()\n",
    "plt.show()"
   ]
  },
  {
   "cell_type": "code",
   "execution_count": null,
   "metadata": {
    "ExecuteTime": {
     "end_time": "2022-01-15T02:12:42.857792Z",
     "start_time": "2022-01-15T02:00:40.749Z"
    },
    "scrolled": false
   },
   "outputs": [],
   "source": [
    "from mpl_toolkits import mplot3d\n",
    "%matplotlib notebook\n",
    "\n",
    "log_probs = sampler.get_log_prob()\n",
    "chain = sampler.get_chain()\n",
    "\n",
    "fig = plt.figure()\n",
    "ax = plt.axes(projection = '3d')\n",
    "for i in range(mcmc_nwalkers):\n",
    "    vrot = chain[:,i,0]\n",
    "    incs = chain[:,i,1]\n",
    "    ax.plot3D(vrot, incs, log_probs[:,i])\n",
    "    ax.set_xlabel('vrots')\n",
    "    ax.set_ylabel('incs')\n",
    "    ax.set_zlabel('log probs')\n",
    "    \n",
    "\n",
    "#print(\"log prob of first point:\", log_probs[0][0])\n",
    "#print(\"param vals of first point:\", chain[0])\n",
    "\n",
    "#print(\"log prob of best fit point:\", np.amax(log_probs))\n",
    "log_max = np.where(log_probs == np.amax(log_probs))\n",
    "param_vals = chain[log_max] # indexing is [iteration,walker,param]\n",
    "#print(\"List of indices of best fit point:\",log_min[0])\n",
    "#print(\"sin(inc) of best fit point:\", (param_vals[0][1])) "
   ]
  },
  {
   "cell_type": "markdown",
   "metadata": {},
   "source": [
    "### "
   ]
  }
 ],
 "metadata": {
  "kernelspec": {
   "display_name": "Python 3",
   "language": "python",
   "name": "python3"
  },
  "language_info": {
   "codemirror_mode": {
    "name": "ipython",
    "version": 3
   },
   "file_extension": ".py",
   "mimetype": "text/x-python",
   "name": "python",
   "nbconvert_exporter": "python",
   "pygments_lexer": "ipython3",
   "version": "3.7.4"
  }
 },
 "nbformat": 4,
 "nbformat_minor": 2
}

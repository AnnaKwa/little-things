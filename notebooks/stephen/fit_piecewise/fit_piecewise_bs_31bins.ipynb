{
 "cells": [
  {
   "cell_type": "markdown",
   "metadata": {},
   "source": [
    "#### Notes\n",
    "\n",
    "The difference b/w this and the 14bins run is that we did a corresponding BBarolo run to better match our MCMC runs. The changes to the BBarolo run are:\n",
    "\n",
    "- 28 bins\n",
    "- 1 value of inc and pa for entire galaxy\n",
    "- vdisp = 10\n",
    "- better center: (511, 488) --> (511, 512)\n",
    "- 2d fit\n",
    "\n",
    "Because of this, the ringlog in the new run goes out only to ~ 5 kpc. We're fitting 31 bins here because we're fitting 28 bins out to the ringlog rmax and then 3 more bins to extend out and then another \"infinite\" bin to 10,000 kpc.\n",
    "\n",
    "note: I haven't cropped the new 1st mom map yet\n",
    "\n",
    "\n",
    "#### using 2DFIT task from BBarolo to make it apples to apples"
   ]
  },
  {
   "cell_type": "code",
   "execution_count": 1,
   "metadata": {
    "ExecuteTime": {
     "end_time": "2022-07-18T10:20:55.448891Z",
     "start_time": "2022-07-18T10:20:43.456113Z"
    }
   },
   "outputs": [],
   "source": [
    "from fit2d import Galaxy, RingModel\n",
    "from fit2d.mcmc import LinearPrior\n",
    "from fit2d.mcmc import emcee_lnlike, piecewise_start_points\n",
    "from fit2d.models import PiecewiseModel\n",
    "\n",
    "from astropy.io import fits\n",
    "import copy\n",
    "from datetime import datetime\n",
    "import glob\n",
    "import joblib\n",
    "import numpy as np\n",
    "import matplotlib.pyplot as plt\n",
    "import os\n",
    "\n",
    "import emcee\n",
    "from emcee import EnsembleSampler, moves"
   ]
  },
  {
   "cell_type": "code",
   "execution_count": 2,
   "metadata": {
    "ExecuteTime": {
     "end_time": "2022-07-18T10:20:55.481260Z",
     "start_time": "2022-07-18T10:20:55.451922Z"
    }
   },
   "outputs": [],
   "source": [
    "num_bins = 31\n",
    "# min and max bounds for each bin\n",
    "vmin, vmax = 0, 200\n",
    "\n",
    "# min and max inc, pos angle in RADIANS\n",
    "inc_min, inc_max = np.radians(45), np.radians(75)\n",
    "pos_angle_min, pos_angle_max = np.radians(0), np.radians(360)\n",
    "\n",
    "name = \"NGC2366\"\n",
    "distance = 3400. # [kpc]\n",
    "\n",
    "home_directory = \"/Users/stephencoffey/Downloads/little-things/BBarolo_runs/2D_output\"\n",
    "observed_2d_vel_field_fits_file = f\"{home_directory}/{name}/{name}map_1st.fits\"\n",
    "observed_2d_intensity_field_fits_file = \"/Users/stephencoffey/Downloads/little-things/BBarolo_runs/3D_output/NGC2366_ftype1/maps/NGC2366_0mom.fits\"\n",
    "\n",
    "# to use the dispersion as a source of errors, provide this file name\n",
    "# observed_2d_dispersion_fits_file = f\"{home_directory}/NGC2366_2mom.fits\"\n",
    "deg_per_pixel=4.17e-4\n",
    "\n",
    "ring_param_file = f\"{home_directory}/{name}/{name}_2dtrm.txt\"\n",
    "v_systemic = 100 #changed to 100 to equal exactly what we used in mathematica"
   ]
  },
  {
   "cell_type": "code",
   "execution_count": 3,
   "metadata": {
    "ExecuteTime": {
     "end_time": "2022-07-18T10:20:55.522344Z",
     "start_time": "2022-07-18T10:20:55.495261Z"
    }
   },
   "outputs": [],
   "source": [
    "# x and y dims are switched in ds9 fits display versus np array shape\n",
    "fits_ydim, fits_xdim = fits.open(observed_2d_vel_field_fits_file)[0].data.shape\n",
    "\n",
    "mask_sigma=1.\n",
    "random_seed = 1234\n",
    "\n",
    "mcmc_nwalkers = 70\n",
    "mcmc_niter = 1000\n",
    "mcmc_ndim = num_bins + 2  # Do not change this if fitting one ring at a time\n",
    "mcmc_nthreads = 40\n",
    "# Try increasing stretch scale factor a. version must be >=3 for this to be used.\n",
    "mcmc_moves = moves.StretchMove(a = 2)\n",
    "mcmc_version = float(emcee.__version__[0])\n",
    "\n",
    "# Option to save every batch_size iterations in case of crash<br>\n",
    "# Increase this; 2 is a very low value just for testing\n",
    "\n",
    "batch_size = 50\n",
    "\n",
    "# option to save outputs in a particular directory\n",
    "save_dir = \"/Users/stephencoffey/Downloads/little-things/mcmc_pickles/bs_31bins/\""
   ]
  },
  {
   "cell_type": "code",
   "execution_count": 4,
   "metadata": {
    "ExecuteTime": {
     "end_time": "2022-07-18T10:20:59.702019Z",
     "start_time": "2022-07-18T10:20:55.528004Z"
    }
   },
   "outputs": [],
   "source": [
    "galaxy = Galaxy(\n",
    "    name=name,\n",
    "    distance=distance,\n",
    "    observed_2d_vel_field_fits_file=observed_2d_vel_field_fits_file,\n",
    "    deg_per_pixel=deg_per_pixel,\n",
    "    v_systemic=v_systemic,\n",
    "    observed_2d_intensity_field_fits_file=observed_2d_intensity_field_fits_file\n",
    ")"
   ]
  },
  {
   "cell_type": "code",
   "execution_count": 5,
   "metadata": {
    "ExecuteTime": {
     "end_time": "2022-07-18T10:20:59.733256Z",
     "start_time": "2022-07-18T10:20:59.704380Z"
    },
    "scrolled": false
   },
   "outputs": [],
   "source": [
    "ring_model = RingModel(\n",
    "    ring_param_file=ring_param_file,\n",
    "    fits_xdim=fits_xdim,\n",
    "    fits_ydim=fits_ydim,\n",
    "    distance=distance\n",
    ")\n",
    "\n",
    "ring_param_bounds = [(vmin, vmax)] * num_bins + [(inc_min, inc_max), (pos_angle_min, pos_angle_max)]"
   ]
  },
  {
   "cell_type": "code",
   "execution_count": 6,
   "metadata": {
    "ExecuteTime": {
     "end_time": "2022-07-18T10:20:59.742533Z",
     "start_time": "2022-07-18T10:20:59.737223Z"
    }
   },
   "outputs": [],
   "source": [
    "fit_structural_params = {\"inc\": -2, \"pos_angle\": -1}"
   ]
  },
  {
   "cell_type": "code",
   "execution_count": 7,
   "metadata": {
    "ExecuteTime": {
     "end_time": "2022-07-18T10:20:59.762450Z",
     "start_time": "2022-07-18T10:20:59.746229Z"
    }
   },
   "outputs": [],
   "source": [
    "vels, pos_angles, incs = np.loadtxt(ring_param_file, usecols=(3, 5, 6)).T\n",
    "radsep = ring_model.radii_kpc[-1] - ring_model.radii_kpc[-2]\n",
    "\n",
    "bin_edges = [0 + i*radsep for i in range(len(ring_model.radii_kpc)+1)]\n",
    "bin_edges = np.append(bin_edges, np.linspace(bin_edges[-1], 2 * bin_edges[-1], 4)[-3:])\n",
    "bin_edges = np.append(bin_edges, 10000)\n",
    "v_rot = np.append(vels, [vels[-1] for i in range(4)])\n",
    "outer_bin_centers = [np.mean([bin_edges[i], bin_edges[i+1]]) for i in range(27,31)]"
   ]
  },
  {
   "cell_type": "code",
   "execution_count": 8,
   "metadata": {
    "ExecuteTime": {
     "end_time": "2022-07-18T10:20:59.775646Z",
     "start_time": "2022-07-18T10:20:59.771868Z"
    }
   },
   "outputs": [],
   "source": [
    "v_err_const = 10. # [km/s] constant error per pixel\n",
    "v_err_2d = None\n",
    "#v_err_2d = galaxy.observed_2d_dispersion"
   ]
  },
  {
   "cell_type": "code",
   "execution_count": 9,
   "metadata": {
    "ExecuteTime": {
     "end_time": "2022-07-18T10:20:59.790618Z",
     "start_time": "2022-07-18T10:20:59.781970Z"
    }
   },
   "outputs": [],
   "source": [
    "import warnings\n",
    "warnings.simplefilter('ignore')\n",
    "from fit2d._velocity_field_generator import create_2d_velocity_field\n",
    "\n",
    "inc = np.radians(incs[0])  # grabbing one point in ringlog, since in BB it's const\n",
    "pos_angle = np.radians(pos_angles[0]) # grabbing one point in ringlog, since in BB it's const\n",
    "\n",
    "# if inc and/or pos_angle are not being fit in the MCMC, they will be fixed to constant values inc_fake, pos_angle_fake\n",
    "ring_model.update_structural_parameters(inc=inc, pos_angle=pos_angle)"
   ]
  },
  {
   "cell_type": "code",
   "execution_count": 10,
   "metadata": {
    "ExecuteTime": {
     "end_time": "2022-07-18T10:20:59.805391Z",
     "start_time": "2022-07-18T10:20:59.794404Z"
    }
   },
   "outputs": [],
   "source": [
    "# creating the starting position bounds\n",
    "bounds = []\n",
    "for i in range(len(v_rot)):\n",
    "    bounds.append((v_rot[i] - 1, v_rot[i] + 1))\n",
    "bounds.extend([(inc - 0.1, inc + 0.1), (pos_angle - 0.1, pos_angle + 0.1)]) # only use if fitting inc and pa"
   ]
  },
  {
   "cell_type": "code",
   "execution_count": 11,
   "metadata": {
    "ExecuteTime": {
     "end_time": "2022-07-18T10:20:59.877134Z",
     "start_time": "2022-07-18T10:20:59.810704Z"
    }
   },
   "outputs": [],
   "source": [
    "from fit2d.mcmc._likelihood import chisq_2d, lnlike\n",
    "\n",
    "bin_min, bin_max = bin_edges[0], bin_edges[-1]\n",
    "\n",
    "# 1st moment map\n",
    "galaxy.observed_2d_vel_field = fits.open(observed_2d_vel_field_fits_file)[0].data\n",
    "mask = np.nan_to_num(galaxy.observed_2d_vel_field/galaxy.observed_2d_vel_field, nan=0.)\n",
    "dimensions = galaxy.observed_2d_vel_field.shape\n",
    "\n",
    "# 0th moment map\n",
    "observed_2d_intensity = fits.open(observed_2d_intensity_field_fits_file)[0].data\n",
    "\n",
    "\n",
    "piecewise_model = PiecewiseModel(num_bins=num_bins)\n",
    "piecewise_model.set_bounds(array_bounds=ring_param_bounds)\n",
    "#piecewise_model.set_bin_edges(rmin=bin_min, rmax=bin_max)\n",
    "piecewise_model.bin_edges = bin_edges\n",
    "radii_to_interpolate = np.append(ring_model.radii_kpc, outer_bin_centers) # manually gave bin centers to be the BB values + 4 outer bin centers\n",
    "#print(\"bin centers:\", radii_to_interpolate)\n",
    "#radii_to_interpolate = np.array([r for r in bin_edges if bin_min<=r<=bin_max])\n",
    "prior = LinearPrior(bounds=piecewise_model.bounds)\n",
    "prior_transform = prior.transform_from_unit_cube\n",
    "# instead of using piecewise_model.bounds, we've manually input bounds for the starting positions so the walkers start out much closer to the value we're looking for\n",
    "start_positions = piecewise_start_points(mcmc_nwalkers, bounds = bounds, random_seed=random_seed)\n",
    "fit_inputs = {\n",
    "    \"piecewise_model\": piecewise_model,\n",
    "    \"galaxy\": galaxy,\n",
    "    \"ring_model\": ring_model,\n",
    "    \"prior_transform\": prior_transform\n",
    "}\n",
    "\n",
    "\n",
    "rotation_curve_func_kwargs = {\n",
    "    \"radii_to_interpolate\": radii_to_interpolate}\n",
    "lnlike_args = {\n",
    "    \"model\": piecewise_model,\n",
    "    \"rotation_curve_func_kwargs\": rotation_curve_func_kwargs,\n",
    "    \"galaxy\": galaxy,\n",
    "    \"ring_model\": ring_model,\n",
    "    \"mask_sigma\": mask_sigma,\n",
    "    \"v_err_const\": v_err_const,\n",
    "    \"v_err_2d\": v_err_2d,\n",
    "    \"fit_structural_params\": fit_structural_params\n",
    "}\n",
    "\n",
    "sampler = EnsembleSampler(\n",
    "    mcmc_nwalkers,\n",
    "    mcmc_ndim,\n",
    "    emcee_lnlike,\n",
    "    args=[mcmc_version, lnlike_args],\n",
    "    threads=mcmc_nthreads,\n",
    ")\n",
    "if mcmc_version >= 3:\n",
    "    sampler._moves = [mcmc_moves]\n",
    "sampler_output_file = os.path.join(\n",
    "    save_dir or \"\", f\"sampler_{galaxy.name}_{mcmc_niter}iter.pkl\")"
   ]
  },
  {
   "cell_type": "code",
   "execution_count": 12,
   "metadata": {
    "ExecuteTime": {
     "end_time": "2022-07-18T15:16:20.627974Z",
     "start_time": "2022-07-18T10:20:59.880456Z"
    },
    "scrolled": false
   },
   "outputs": [
    {
     "name": "stdout",
     "output_type": "stream",
     "text": [
      "Done with steps 0 - 50 out of 1000\n",
      "Done with steps 50 - 100 out of 1000\n",
      "Done with steps 100 - 150 out of 1000\n",
      "Done with steps 150 - 200 out of 1000\n",
      "Done with steps 200 - 250 out of 1000\n",
      "Done with steps 250 - 300 out of 1000\n",
      "Done with steps 300 - 350 out of 1000\n",
      "Done with steps 350 - 400 out of 1000\n",
      "Done with steps 400 - 450 out of 1000\n",
      "Done with steps 450 - 500 out of 1000\n",
      "Done with steps 500 - 550 out of 1000\n",
      "Done with steps 550 - 600 out of 1000\n",
      "Done with steps 600 - 650 out of 1000\n",
      "Done with steps 650 - 700 out of 1000\n",
      "Done with steps 700 - 750 out of 1000\n",
      "Done with steps 750 - 800 out of 1000\n",
      "Done with steps 800 - 850 out of 1000\n",
      "Done with steps 850 - 900 out of 1000\n",
      "Done with steps 900 - 950 out of 1000\n",
      "Done with steps 950 - 1000 out of 1000\n"
     ]
    }
   ],
   "source": [
    "for batch in range(mcmc_niter // batch_size):\n",
    "    if batch == 0:\n",
    "        batch_start = start_positions\n",
    "    else:\n",
    "        batch_start = None\n",
    "        sampler.pool = temp_pool\n",
    "    sampler.run_mcmc(batch_start, batch_size)\n",
    "    temp_pool = sampler.pool\n",
    "    del sampler.pool\n",
    "    with open(sampler_output_file, 'wb') as f:\n",
    "        sampler_copy = copy.copy(sampler)\n",
    "        del sampler_copy.log_prob_fn\n",
    "        joblib.dump(sampler_copy, f)\n",
    "\n",
    "    print(f\"Done with steps {batch*batch_size} - {(batch+1)*batch_size} out of {mcmc_niter}\")"
   ]
  },
  {
   "cell_type": "code",
   "execution_count": 13,
   "metadata": {
    "ExecuteTime": {
     "end_time": "2022-07-18T15:16:20.677376Z",
     "start_time": "2022-07-18T15:16:20.632109Z"
    }
   },
   "outputs": [
    {
     "name": "stdout",
     "output_type": "stream",
     "text": [
      "Done with emcee fit for NGC2366\n"
     ]
    }
   ],
   "source": [
    "print(f\"Done with emcee fit for {galaxy.name}\")"
   ]
  },
  {
   "cell_type": "code",
   "execution_count": 14,
   "metadata": {
    "ExecuteTime": {
     "end_time": "2022-07-18T15:16:20.708581Z",
     "start_time": "2022-07-18T15:16:20.689932Z"
    }
   },
   "outputs": [
    {
     "data": {
      "text/plain": [
       "'log_probs = sampler.get_log_prob()\\nprint(\"log prob of best fit point:\", np.amax(log_probs))\\nlog_max = np.where(log_probs == np.amax(log_probs))\\nparam_vals = sampler.get_chain()[log_max]\\nprint(\"vel, inc, vsini of best fit point:\", (param_vals[0][0], param_vals[0][1],param_vals[0][0]*np.sin(param_vals[0][1]) ))\\nprint(\"Mean acceptance fraction: {0:.3f}\".format(np.mean(sampler.acceptance_fraction)))\\n#print(\"Mean autocorrelation time: {0:.3f} steps\".format(np.mean(sampler.get_autocorr_time())))'"
      ]
     },
     "execution_count": 14,
     "metadata": {},
     "output_type": "execute_result"
    }
   ],
   "source": [
    "\"\"\"log_probs = sampler.get_log_prob()\n",
    "print(\"log prob of best fit point:\", np.amax(log_probs))\n",
    "log_max = np.where(log_probs == np.amax(log_probs))\n",
    "param_vals = sampler.get_chain()[log_max]\n",
    "print(\"vel, inc, vsini of best fit point:\", (param_vals[0][0], param_vals[0][1],param_vals[0][0]*np.sin(param_vals[0][1]) ))\n",
    "print(\"Mean acceptance fraction: {0:.3f}\".format(np.mean(sampler.acceptance_fraction)))\n",
    "#print(\"Mean autocorrelation time: {0:.3f} steps\".format(np.mean(sampler.get_autocorr_time())))\"\"\""
   ]
  }
 ],
 "metadata": {
  "kernelspec": {
   "display_name": "Python 3",
   "language": "python",
   "name": "python3"
  },
  "language_info": {
   "codemirror_mode": {
    "name": "ipython",
    "version": 3
   },
   "file_extension": ".py",
   "mimetype": "text/x-python",
   "name": "python",
   "nbconvert_exporter": "python",
   "pygments_lexer": "ipython3",
   "version": "3.7.4"
  }
 },
 "nbformat": 4,
 "nbformat_minor": 2
}

{
 "cells": [
  {
   "cell_type": "markdown",
   "metadata": {},
   "source": [
    "#### Notes\n",
    "\n",
    "The difference b/w this and the 14bins run is that we did a corresponding BBarolo run to better match our MCMC runs. The changes to the BBarolo run are:\n",
    "\n",
    "- 28 bins\n",
    "- 1 value of inc and pa for entire galaxy\n",
    "- vdisp = 10\n",
    "- better center: (511, 488) --> (511, 512)\n",
    "- 2d fit\n",
    "\n",
    "Because of this, the ringlog in the new run goes out only to ~ 5 kpc. We're fitting 31 bins here because we're fitting 28 bins out to the ringlog rmax and then 3 more bins to extend out and then another \"infinite\" bin to 10,000 kpc.\n",
    "\n",
    "note: I haven't cropped the new 1st mom map yet\n",
    "\n",
    "\n",
    "#### different from bbarolo_match because I'm not varying inc and pa here, just setting them equal to what BBarolo gives\n",
    "\n",
    "#### using 2DFIT task from BBarolo to make it apples to apples"
   ]
  },
  {
   "cell_type": "code",
   "execution_count": 1,
   "metadata": {
    "ExecuteTime": {
     "end_time": "2022-03-15T01:41:37.276436Z",
     "start_time": "2022-03-15T01:41:32.782436Z"
    }
   },
   "outputs": [],
   "source": [
    "from fit2d import Galaxy, RingModel\n",
    "from fit2d.mcmc import LinearPrior\n",
    "from fit2d.mcmc import emcee_lnlike, piecewise_start_points\n",
    "from fit2d.models import PiecewiseModel\n",
    "\n",
    "from astropy.io import fits\n",
    "import copy\n",
    "from datetime import datetime\n",
    "import glob\n",
    "import joblib\n",
    "import numpy as np\n",
    "import matplotlib.pyplot as plt\n",
    "import os\n",
    "\n",
    "import emcee\n",
    "from emcee import EnsembleSampler, moves"
   ]
  },
  {
   "cell_type": "code",
   "execution_count": 2,
   "metadata": {
    "ExecuteTime": {
     "end_time": "2022-03-15T01:41:37.291363Z",
     "start_time": "2022-03-15T01:41:37.281616Z"
    }
   },
   "outputs": [],
   "source": [
    "num_bins = 31\n",
    "# min and max bounds for each bin\n",
    "vmin, vmax = 0, 200\n",
    "\n",
    "# min and max inc, pos angle in RADIANS\n",
    "inc_min, inc_max = np.radians(45), np.radians(75)\n",
    "pos_angle_min, pos_angle_max = np.radians(0), np.radians(360)\n",
    "\n",
    "name = \"NGC2366\"\n",
    "distance = 3400. # [kpc]\n",
    "\n",
    "home_directory = \"/Users/stephencoffey/Downloads/little-things/BBarolo_runs/2D_output\"\n",
    "observed_2d_vel_field_fits_file = f\"{home_directory}/{name}/{name}map_1st.fits\"\n",
    "# to use the dispersion as a source of errors, provide this file name\n",
    "# observed_2d_dispersion_fits_file = f\"{home_directory}/NGC2366_2mom.fits\"\n",
    "deg_per_pixel=4.17e-4\n",
    "\n",
    "ring_param_file = f\"{home_directory}/{name}/{name}_2dtrm.txt\"\n",
    "v_systemic = 100 #changed to 100 to equal exactly what we used in mathematica"
   ]
  },
  {
   "cell_type": "code",
   "execution_count": 3,
   "metadata": {
    "ExecuteTime": {
     "end_time": "2022-03-15T01:41:37.335268Z",
     "start_time": "2022-03-15T01:41:37.305569Z"
    }
   },
   "outputs": [],
   "source": [
    "# x and y dims are switched in ds9 fits display versus np array shape\n",
    "fits_ydim, fits_xdim = fits.open(observed_2d_vel_field_fits_file)[0].data.shape\n",
    "\n",
    "mask_sigma=1.\n",
    "random_seed = 1234\n",
    "\n",
    "mcmc_nwalkers = 65\n",
    "mcmc_niter = 2000\n",
    "mcmc_ndim = num_bins  # Do not change this if fitting one ring at a time\n",
    "mcmc_nthreads = 40\n",
    "# Try increasing stretch scale factor a. version must be >=3 for this to be used.\n",
    "mcmc_moves = moves.StretchMove(a = 2)\n",
    "mcmc_version = float(emcee.__version__[0])\n",
    "\n",
    "# Option to save every batch_size iterations in case of crash<br>\n",
    "# Increase this; 2 is a very low value just for testing\n",
    "\n",
    "batch_size = 50\n",
    "\n",
    "# option to save outputs in a particular directory\n",
    "save_dir = \"/Users/stephencoffey/Downloads/little-things/mcmc_pickles/bb_comparison/31bins_4/\""
   ]
  },
  {
   "cell_type": "code",
   "execution_count": 4,
   "metadata": {
    "ExecuteTime": {
     "end_time": "2022-03-15T01:41:37.390914Z",
     "start_time": "2022-03-15T01:41:37.339765Z"
    }
   },
   "outputs": [],
   "source": [
    "galaxy = Galaxy(\n",
    "    name=name,\n",
    "    distance=distance,\n",
    "    observed_2d_vel_field_fits_file=observed_2d_vel_field_fits_file,\n",
    "    deg_per_pixel=deg_per_pixel,\n",
    "    v_systemic=v_systemic\n",
    ")"
   ]
  },
  {
   "cell_type": "code",
   "execution_count": 5,
   "metadata": {
    "ExecuteTime": {
     "end_time": "2022-03-15T01:41:37.404984Z",
     "start_time": "2022-03-15T01:41:37.393918Z"
    },
    "scrolled": false
   },
   "outputs": [],
   "source": [
    "ring_model = RingModel(\n",
    "    ring_param_file=ring_param_file,\n",
    "    fits_xdim=fits_xdim,\n",
    "    fits_ydim=fits_ydim,\n",
    "    distance=distance\n",
    ")\n",
    "\n",
    "ring_param_bounds = [(vmin, vmax)] * num_bins"
   ]
  },
  {
   "cell_type": "code",
   "execution_count": 6,
   "metadata": {
    "ExecuteTime": {
     "end_time": "2022-03-15T01:41:37.423636Z",
     "start_time": "2022-03-15T01:41:37.408194Z"
    }
   },
   "outputs": [],
   "source": [
    "vels, pos_angles, incs = np.loadtxt(ring_param_file, usecols=(3, 5, 6)).T\n",
    "radsep = ring_model.radii_kpc[-1] - ring_model.radii_kpc[-2]\n",
    "\n",
    "bin_edges = [0 + i*radsep for i in range(len(ring_model.radii_kpc)+1)]\n",
    "bin_edges = np.append(bin_edges, np.linspace(bin_edges[-1], 2 * bin_edges[-1], 4)[-3:])\n",
    "bin_edges = np.append(bin_edges, 10000)\n",
    "v_rot = np.append(vels, [vels[-1] for i in range(4)])\n",
    "outer_bin_centers = [np.mean([bin_edges[i], bin_edges[i+1]]) for i in range(27,31)]"
   ]
  },
  {
   "cell_type": "code",
   "execution_count": 7,
   "metadata": {
    "ExecuteTime": {
     "end_time": "2022-03-15T01:41:37.439302Z",
     "start_time": "2022-03-15T01:41:37.426533Z"
    }
   },
   "outputs": [
    {
     "name": "stdout",
     "output_type": "stream",
     "text": [
      "BBarolo radii: [0.10763833 0.32275016 0.53786199 0.75313866 0.96825049 1.18336232\n",
      " 1.39847415 1.61375082 1.82886265 2.04397448 2.25925115 2.47436298\n",
      " 2.68947481 2.90475147 3.1198633  3.33497513 3.55008697 3.76536363\n",
      " 3.98047546 4.19558729 4.41086396 4.62597579 4.84108762 5.05636429\n",
      " 5.27147612 5.48658795 5.70169978]\n",
      "bin edges: [0.0, 0.2151118303083006, 0.4302236606166012, 0.6453354909249018, 0.8604473212332024, 1.075559151541503, 1.2906709818498037, 1.5057828121581043, 1.720894642466405, 1.9360064727747055, 2.151118303083006, 2.3662301333913067, 2.5813419636996073, 2.796453794007908, 3.0115656243162086, 3.226677454624509, 3.44178928493281, 3.6569011152411104, 3.872012945549411, 4.087124775857712, 4.302236606166012, 4.517348436474313, 4.7324602667826134, 4.947572097090914, 5.162683927399215, 5.377795757707515, 5.592907588015816, 5.8080194183241165, 7.744025891098822, 9.680032363873528, 11.616038836648233, 10000.0]\n"
     ]
    }
   ],
   "source": [
    "print(\"BBarolo radii:\", ring_model.radii_kpc)\n",
    "print(\"bin edges:\", bin_edges.tolist())"
   ]
  },
  {
   "cell_type": "code",
   "execution_count": 8,
   "metadata": {
    "ExecuteTime": {
     "end_time": "2022-03-15T01:41:37.455429Z",
     "start_time": "2022-03-15T01:41:37.451223Z"
    }
   },
   "outputs": [],
   "source": [
    "v_err_const = 10. # [km/s] constant error per pixel\n",
    "v_err_2d = None\n",
    "#v_err_2d = galaxy.observed_2d_dispersion"
   ]
  },
  {
   "cell_type": "code",
   "execution_count": 9,
   "metadata": {
    "ExecuteTime": {
     "end_time": "2022-03-15T01:41:37.489249Z",
     "start_time": "2022-03-15T01:41:37.475946Z"
    }
   },
   "outputs": [],
   "source": [
    "import warnings\n",
    "warnings.simplefilter('ignore')\n",
    "from fit2d._velocity_field_generator import create_2d_velocity_field\n",
    "\n",
    "inc = np.radians(incs[0])  # grabbing one point in ringlog, since in BB it's const\n",
    "pos_angle = np.radians(pos_angles[0]) # grabbing one point in ringlog, since in BB it's const\n",
    "\n",
    "# if inc and/or pos_angle are not being fit in the MCMC, they will be fixed to constant values inc_fake, pos_angle_fake\n",
    "ring_model.update_structural_parameters(inc=inc, pos_angle=pos_angle)"
   ]
  },
  {
   "cell_type": "code",
   "execution_count": 10,
   "metadata": {
    "ExecuteTime": {
     "end_time": "2022-03-15T01:41:37.505225Z",
     "start_time": "2022-03-15T01:41:37.493463Z"
    }
   },
   "outputs": [],
   "source": [
    "# creating the starting position bounds\n",
    "bounds = []\n",
    "for i in range(len(v_rot)):\n",
    "    bounds.append((v_rot[i] - 1, v_rot[i] + 1))\n",
    "#bounds.extend([(inc - 0.1, inc + 0.1), (pos_angle - 0.1, pos_angle + 0.1)]) # only use if fitting inc and pa"
   ]
  },
  {
   "cell_type": "code",
   "execution_count": 11,
   "metadata": {
    "ExecuteTime": {
     "end_time": "2022-03-15T01:41:37.575708Z",
     "start_time": "2022-03-15T01:41:37.513378Z"
    }
   },
   "outputs": [
    {
     "name": "stdout",
     "output_type": "stream",
     "text": [
      "bin centers: [1.07638333e-01 3.22750164e-01 5.37861994e-01 7.53138661e-01\n",
      " 9.68250491e-01 1.18336232e+00 1.39847415e+00 1.61375082e+00\n",
      " 1.82886265e+00 2.04397448e+00 2.25925115e+00 2.47436298e+00\n",
      " 2.68947481e+00 2.90475147e+00 3.11986330e+00 3.33497513e+00\n",
      " 3.55008697e+00 3.76536363e+00 3.98047546e+00 4.19558729e+00\n",
      " 4.41086396e+00 4.62597579e+00 4.84108762e+00 5.05636429e+00\n",
      " 5.27147612e+00 5.48658795e+00 5.70169978e+00 6.77602265e+00\n",
      " 8.71202913e+00 1.06480356e+01 5.00580802e+03]\n"
     ]
    }
   ],
   "source": [
    "from fit2d.mcmc._likelihood import chisq_2d, lnlike\n",
    "\n",
    "bin_min, bin_max = bin_edges[0], bin_edges[-1]\n",
    "\n",
    "galaxy.observed_2d_vel_field = fits.open(observed_2d_vel_field_fits_file)[0].data\n",
    "mask = np.nan_to_num(galaxy.observed_2d_vel_field/galaxy.observed_2d_vel_field, nan=0.)\n",
    "\n",
    "dimensions = galaxy.observed_2d_vel_field.shape\n",
    "\n",
    "piecewise_model = PiecewiseModel(num_bins=num_bins)\n",
    "piecewise_model.set_bounds(array_bounds=ring_param_bounds)\n",
    "#piecewise_model.set_bin_edges(rmin=bin_min, rmax=bin_max)\n",
    "piecewise_model.bin_edges = bin_edges\n",
    "radii_to_interpolate = np.append(ring_model.radii_kpc, outer_bin_centers) # manually gave bin centers to be the BB values + 4 outer bin centers\n",
    "print(\"bin centers:\", radii_to_interpolate)\n",
    "#radii_to_interpolate = np.array([r for r in bin_edges if bin_min<=r<=bin_max])\n",
    "prior = LinearPrior(bounds=piecewise_model.bounds)\n",
    "prior_transform = prior.transform_from_unit_cube\n",
    "# instead of using piecewise_model.bounds, we've manually input bounds for the starting positions so the walkers start out much closer to the value we're looking for\n",
    "start_positions = piecewise_start_points(mcmc_nwalkers, bounds = bounds, random_seed=random_seed)\n",
    "fit_inputs = {\n",
    "    \"piecewise_model\": piecewise_model,\n",
    "    \"galaxy\": galaxy,\n",
    "    \"ring_model\": ring_model,\n",
    "    \"prior_transform\": prior_transform\n",
    "}\n",
    "\n",
    "\n",
    "rotation_curve_func_kwargs = {\n",
    "    \"radii_to_interpolate\": radii_to_interpolate}\n",
    "lnlike_args = {\n",
    "    \"model\": piecewise_model,\n",
    "    \"rotation_curve_func_kwargs\": rotation_curve_func_kwargs,\n",
    "    \"galaxy\": galaxy,\n",
    "    \"ring_model\": ring_model,\n",
    "    \"mask_sigma\": mask_sigma,\n",
    "    \"v_err_const\": v_err_const,\n",
    "    \"v_err_2d\": v_err_2d\n",
    "}\n",
    "\n",
    "sampler = EnsembleSampler(\n",
    "    mcmc_nwalkers,\n",
    "    mcmc_ndim,\n",
    "    emcee_lnlike,\n",
    "    args=[mcmc_version, lnlike_args],\n",
    "    threads=mcmc_nthreads,\n",
    ")\n",
    "if mcmc_version >= 3:\n",
    "    sampler._moves = [mcmc_moves]\n",
    "sampler_output_file = os.path.join(\n",
    "    save_dir or \"\", f\"sampler_{galaxy.name}_{mcmc_niter}iter.pkl\")"
   ]
  },
  {
   "cell_type": "code",
   "execution_count": 12,
   "metadata": {
    "ExecuteTime": {
     "end_time": "2022-03-15T01:41:37.879813Z",
     "start_time": "2022-03-15T01:41:37.578758Z"
    },
    "scrolled": false
   },
   "outputs": [
    {
     "name": "stdout",
     "output_type": "stream",
     "text": [
      "my vels: [ 3.9330389   9.80421754 14.13545548 18.94071717 22.98995162 26.49518521\n",
      " 30.53292851 35.85374436 39.25627871 41.96186527 42.66563454 45.07199025\n",
      " 47.79692587 48.71540405 49.06050151 50.71239237 51.59616633 52.4475369\n",
      " 56.19565324 57.87528238 55.93977197 55.07079236 51.89076248 51.57764801\n",
      " 53.3262802  53.25275629 52.63440516 53.41746029 52.47367224 52.97619731\n",
      " 53.57825478]\n",
      "anna vels: [3.9330389007577846]\n",
      "emcee: Exception while calling your likelihood function:\n",
      "  params: [ 3.9330389   9.80421754 14.13545548 18.94071717 22.98995162 26.49518521\n",
      " 30.53292851 35.85374436 39.25627871 41.96186527 42.66563454 45.07199025\n",
      " 47.79692587 48.71540405 49.06050151 50.71239237 51.59616633 52.4475369\n",
      " 56.19565324 57.87528238 55.93977197 55.07079236 51.89076248 51.57764801\n",
      " 53.3262802  53.25275629 52.63440516 53.41746029 52.47367224 52.97619731\n",
      " 53.57825478]\n",
      "  args: [3.0, {'model': <fit2d.models._models.PiecewiseModel object at 0x7fb8a84a50d0>, 'rotation_curve_func_kwargs': {'radii_to_interpolate': array([1.07638333e-01, 3.22750164e-01, 5.37861994e-01, 7.53138661e-01,\n",
      "       9.68250491e-01, 1.18336232e+00, 1.39847415e+00, 1.61375082e+00,\n",
      "       1.82886265e+00, 2.04397448e+00, 2.25925115e+00, 2.47436298e+00,\n",
      "       2.68947481e+00, 2.90475147e+00, 3.11986330e+00, 3.33497513e+00,\n",
      "       3.55008697e+00, 3.76536363e+00, 3.98047546e+00, 4.19558729e+00,\n",
      "       4.41086396e+00, 4.62597579e+00, 4.84108762e+00, 5.05636429e+00,\n",
      "       5.27147612e+00, 5.48658795e+00, 5.70169978e+00, 6.77602265e+00,\n",
      "       8.71202913e+00, 1.06480356e+01, 5.00580802e+03])}, 'galaxy': Galaxy(name='NGC2366', distance=3400.0, observed_2d_vel_field_fits_file='/Users/stephencoffey/Downloads/little-things/BBarolo_runs/2D_output/NGC2366/NGC2366map_1st.fits', deg_per_pixel=0.000417, v_systemic=100, gas_radii=[0.0], gas_velocities=[0.0], stellar_radii=[0.0], stellar_velocities=[0.0], age=None, observed_2d_dispersion_fits_file=None, min_dispersion=0.01), 'ring_model': <fit2d._galaxy.RingModel object at 0x7fb8a7b6a9d0>, 'mask_sigma': 1.0, 'v_err_const': 10.0, 'v_err_2d': None}]\n",
      "  kwargs: {}\n",
      "  exception:\n"
     ]
    },
    {
     "name": "stderr",
     "output_type": "stream",
     "text": [
      "Traceback (most recent call last):\n",
      "  File \"/Users/stephencoffey/anaconda2/envs/anna_env/lib/python3.7/site-packages/emcee/ensemble.py\", line 545, in __call__\n",
      "    return self.f(x, *self.args, **self.kwargs)\n",
      "  File \"/Users/stephencoffey/Downloads/little-things/fit2d/fit2d/mcmc/_likelihood.py\", line 22, in emcee_lnlike\n",
      "    lnl = lnlike(params, **lnlike_args)\n",
      "  File \"/Users/stephencoffey/Downloads/little-things/fit2d/fit2d/mcmc/_likelihood.py\", line 159, in lnlike\n",
      "    temp_inc = ring_model_copy.interp_ring_parameters[\"inc\"](r_m[1])\n",
      "IndexError: index 1 is out of bounds for axis 0 with size 0\n"
     ]
    },
    {
     "ename": "IndexError",
     "evalue": "index 1 is out of bounds for axis 0 with size 0",
     "output_type": "error",
     "traceback": [
      "\u001b[0;31m---------------------------------------------------------------------------\u001b[0m",
      "\u001b[0;31mIndexError\u001b[0m                                Traceback (most recent call last)",
      "\u001b[0;32m<ipython-input-12-cced39fbfb4e>\u001b[0m in \u001b[0;36m<module>\u001b[0;34m\u001b[0m\n\u001b[1;32m      5\u001b[0m         \u001b[0mbatch_start\u001b[0m \u001b[0;34m=\u001b[0m \u001b[0;32mNone\u001b[0m\u001b[0;34m\u001b[0m\u001b[0;34m\u001b[0m\u001b[0m\n\u001b[1;32m      6\u001b[0m         \u001b[0msampler\u001b[0m\u001b[0;34m.\u001b[0m\u001b[0mpool\u001b[0m \u001b[0;34m=\u001b[0m \u001b[0mtemp_pool\u001b[0m\u001b[0;34m\u001b[0m\u001b[0;34m\u001b[0m\u001b[0m\n\u001b[0;32m----> 7\u001b[0;31m     \u001b[0msampler\u001b[0m\u001b[0;34m.\u001b[0m\u001b[0mrun_mcmc\u001b[0m\u001b[0;34m(\u001b[0m\u001b[0mbatch_start\u001b[0m\u001b[0;34m,\u001b[0m \u001b[0mbatch_size\u001b[0m\u001b[0;34m)\u001b[0m\u001b[0;34m\u001b[0m\u001b[0;34m\u001b[0m\u001b[0m\n\u001b[0m\u001b[1;32m      8\u001b[0m     \u001b[0mtemp_pool\u001b[0m \u001b[0;34m=\u001b[0m \u001b[0msampler\u001b[0m\u001b[0;34m.\u001b[0m\u001b[0mpool\u001b[0m\u001b[0;34m\u001b[0m\u001b[0;34m\u001b[0m\u001b[0m\n\u001b[1;32m      9\u001b[0m     \u001b[0;32mdel\u001b[0m \u001b[0msampler\u001b[0m\u001b[0;34m.\u001b[0m\u001b[0mpool\u001b[0m\u001b[0;34m\u001b[0m\u001b[0;34m\u001b[0m\u001b[0m\n",
      "\u001b[0;32m~/anaconda2/envs/anna_env/lib/python3.7/site-packages/emcee/ensemble.py\u001b[0m in \u001b[0;36mrun_mcmc\u001b[0;34m(self, initial_state, nsteps, **kwargs)\u001b[0m\n\u001b[1;32m    382\u001b[0m \u001b[0;34m\u001b[0m\u001b[0m\n\u001b[1;32m    383\u001b[0m         \u001b[0mresults\u001b[0m \u001b[0;34m=\u001b[0m \u001b[0;32mNone\u001b[0m\u001b[0;34m\u001b[0m\u001b[0;34m\u001b[0m\u001b[0m\n\u001b[0;32m--> 384\u001b[0;31m         \u001b[0;32mfor\u001b[0m \u001b[0mresults\u001b[0m \u001b[0;32min\u001b[0m \u001b[0mself\u001b[0m\u001b[0;34m.\u001b[0m\u001b[0msample\u001b[0m\u001b[0;34m(\u001b[0m\u001b[0minitial_state\u001b[0m\u001b[0;34m,\u001b[0m \u001b[0miterations\u001b[0m\u001b[0;34m=\u001b[0m\u001b[0mnsteps\u001b[0m\u001b[0;34m,\u001b[0m \u001b[0;34m**\u001b[0m\u001b[0mkwargs\u001b[0m\u001b[0;34m)\u001b[0m\u001b[0;34m:\u001b[0m\u001b[0;34m\u001b[0m\u001b[0;34m\u001b[0m\u001b[0m\n\u001b[0m\u001b[1;32m    385\u001b[0m             \u001b[0;32mpass\u001b[0m\u001b[0;34m\u001b[0m\u001b[0;34m\u001b[0m\u001b[0m\n\u001b[1;32m    386\u001b[0m \u001b[0;34m\u001b[0m\u001b[0m\n",
      "\u001b[0;32m~/anaconda2/envs/anna_env/lib/python3.7/site-packages/emcee/ensemble.py\u001b[0m in \u001b[0;36msample\u001b[0;34m(self, initial_state, log_prob0, rstate0, blobs0, iterations, tune, skip_initial_state_check, thin_by, thin, store, progress)\u001b[0m\n\u001b[1;32m    283\u001b[0m             \u001b[0mstate\u001b[0m\u001b[0;34m.\u001b[0m\u001b[0mblobs\u001b[0m \u001b[0;34m=\u001b[0m \u001b[0mblobs0\u001b[0m\u001b[0;34m\u001b[0m\u001b[0;34m\u001b[0m\u001b[0m\n\u001b[1;32m    284\u001b[0m         \u001b[0;32mif\u001b[0m \u001b[0mstate\u001b[0m\u001b[0;34m.\u001b[0m\u001b[0mlog_prob\u001b[0m \u001b[0;32mis\u001b[0m \u001b[0;32mNone\u001b[0m\u001b[0;34m:\u001b[0m\u001b[0;34m\u001b[0m\u001b[0;34m\u001b[0m\u001b[0m\n\u001b[0;32m--> 285\u001b[0;31m             \u001b[0mstate\u001b[0m\u001b[0;34m.\u001b[0m\u001b[0mlog_prob\u001b[0m\u001b[0;34m,\u001b[0m \u001b[0mstate\u001b[0m\u001b[0;34m.\u001b[0m\u001b[0mblobs\u001b[0m \u001b[0;34m=\u001b[0m \u001b[0mself\u001b[0m\u001b[0;34m.\u001b[0m\u001b[0mcompute_log_prob\u001b[0m\u001b[0;34m(\u001b[0m\u001b[0mstate\u001b[0m\u001b[0;34m.\u001b[0m\u001b[0mcoords\u001b[0m\u001b[0;34m)\u001b[0m\u001b[0;34m\u001b[0m\u001b[0;34m\u001b[0m\u001b[0m\n\u001b[0m\u001b[1;32m    286\u001b[0m         \u001b[0;32mif\u001b[0m \u001b[0mnp\u001b[0m\u001b[0;34m.\u001b[0m\u001b[0mshape\u001b[0m\u001b[0;34m(\u001b[0m\u001b[0mstate\u001b[0m\u001b[0;34m.\u001b[0m\u001b[0mlog_prob\u001b[0m\u001b[0;34m)\u001b[0m \u001b[0;34m!=\u001b[0m \u001b[0;34m(\u001b[0m\u001b[0mself\u001b[0m\u001b[0;34m.\u001b[0m\u001b[0mnwalkers\u001b[0m\u001b[0;34m,\u001b[0m\u001b[0;34m)\u001b[0m\u001b[0;34m:\u001b[0m\u001b[0;34m\u001b[0m\u001b[0;34m\u001b[0m\u001b[0m\n\u001b[1;32m    287\u001b[0m             \u001b[0;32mraise\u001b[0m \u001b[0mValueError\u001b[0m\u001b[0;34m(\u001b[0m\u001b[0;34m\"incompatible input dimensions\"\u001b[0m\u001b[0;34m)\u001b[0m\u001b[0;34m\u001b[0m\u001b[0;34m\u001b[0m\u001b[0m\n",
      "\u001b[0;32m~/anaconda2/envs/anna_env/lib/python3.7/site-packages/emcee/ensemble.py\u001b[0m in \u001b[0;36mcompute_log_prob\u001b[0;34m(self, coords)\u001b[0m\n\u001b[1;32m    425\u001b[0m                 \u001b[0mmap_func\u001b[0m \u001b[0;34m=\u001b[0m \u001b[0mmap\u001b[0m\u001b[0;34m\u001b[0m\u001b[0;34m\u001b[0m\u001b[0m\n\u001b[1;32m    426\u001b[0m             results = list(\n\u001b[0;32m--> 427\u001b[0;31m                 \u001b[0mmap_func\u001b[0m\u001b[0;34m(\u001b[0m\u001b[0mself\u001b[0m\u001b[0;34m.\u001b[0m\u001b[0mlog_prob_fn\u001b[0m\u001b[0;34m,\u001b[0m \u001b[0;34m(\u001b[0m\u001b[0mp\u001b[0m\u001b[0;34m[\u001b[0m\u001b[0mi\u001b[0m\u001b[0;34m]\u001b[0m \u001b[0;32mfor\u001b[0m \u001b[0mi\u001b[0m \u001b[0;32min\u001b[0m \u001b[0mrange\u001b[0m\u001b[0;34m(\u001b[0m\u001b[0mlen\u001b[0m\u001b[0;34m(\u001b[0m\u001b[0mp\u001b[0m\u001b[0;34m)\u001b[0m\u001b[0;34m)\u001b[0m\u001b[0;34m)\u001b[0m\u001b[0;34m)\u001b[0m\u001b[0;34m\u001b[0m\u001b[0;34m\u001b[0m\u001b[0m\n\u001b[0m\u001b[1;32m    428\u001b[0m             )\n\u001b[1;32m    429\u001b[0m \u001b[0;34m\u001b[0m\u001b[0m\n",
      "\u001b[0;32m~/anaconda2/envs/anna_env/lib/python3.7/site-packages/emcee/ensemble.py\u001b[0m in \u001b[0;36m__call__\u001b[0;34m(self, x)\u001b[0m\n\u001b[1;32m    543\u001b[0m     \u001b[0;32mdef\u001b[0m \u001b[0m__call__\u001b[0m\u001b[0;34m(\u001b[0m\u001b[0mself\u001b[0m\u001b[0;34m,\u001b[0m \u001b[0mx\u001b[0m\u001b[0;34m)\u001b[0m\u001b[0;34m:\u001b[0m\u001b[0;34m\u001b[0m\u001b[0;34m\u001b[0m\u001b[0m\n\u001b[1;32m    544\u001b[0m         \u001b[0;32mtry\u001b[0m\u001b[0;34m:\u001b[0m\u001b[0;34m\u001b[0m\u001b[0;34m\u001b[0m\u001b[0m\n\u001b[0;32m--> 545\u001b[0;31m             \u001b[0;32mreturn\u001b[0m \u001b[0mself\u001b[0m\u001b[0;34m.\u001b[0m\u001b[0mf\u001b[0m\u001b[0;34m(\u001b[0m\u001b[0mx\u001b[0m\u001b[0;34m,\u001b[0m \u001b[0;34m*\u001b[0m\u001b[0mself\u001b[0m\u001b[0;34m.\u001b[0m\u001b[0margs\u001b[0m\u001b[0;34m,\u001b[0m \u001b[0;34m**\u001b[0m\u001b[0mself\u001b[0m\u001b[0;34m.\u001b[0m\u001b[0mkwargs\u001b[0m\u001b[0;34m)\u001b[0m\u001b[0;34m\u001b[0m\u001b[0;34m\u001b[0m\u001b[0m\n\u001b[0m\u001b[1;32m    546\u001b[0m         \u001b[0;32mexcept\u001b[0m\u001b[0;34m:\u001b[0m  \u001b[0;31m# pragma: no cover\u001b[0m\u001b[0;34m\u001b[0m\u001b[0;34m\u001b[0m\u001b[0m\n\u001b[1;32m    547\u001b[0m             \u001b[0;32mimport\u001b[0m \u001b[0mtraceback\u001b[0m\u001b[0;34m\u001b[0m\u001b[0;34m\u001b[0m\u001b[0m\n",
      "\u001b[0;32m~/Downloads/little-things/fit2d/fit2d/mcmc/_likelihood.py\u001b[0m in \u001b[0;36memcee_lnlike\u001b[0;34m(params, emcee_version, lnlike_args)\u001b[0m\n\u001b[1;32m     20\u001b[0m         \u001b[0mlnl\u001b[0m \u001b[0;34m=\u001b[0m \u001b[0mlnlike\u001b[0m\u001b[0;34m(\u001b[0m\u001b[0mparams\u001b[0m\u001b[0;34m,\u001b[0m \u001b[0;34m*\u001b[0m\u001b[0mlnlike_args\u001b[0m\u001b[0;34m)\u001b[0m\u001b[0;34m,\u001b[0m \u001b[0;32mNone\u001b[0m\u001b[0;34m\u001b[0m\u001b[0;34m\u001b[0m\u001b[0m\n\u001b[1;32m     21\u001b[0m     \u001b[0;32melse\u001b[0m\u001b[0;34m:\u001b[0m\u001b[0;34m\u001b[0m\u001b[0;34m\u001b[0m\u001b[0m\n\u001b[0;32m---> 22\u001b[0;31m         \u001b[0mlnl\u001b[0m \u001b[0;34m=\u001b[0m \u001b[0mlnlike\u001b[0m\u001b[0;34m(\u001b[0m\u001b[0mparams\u001b[0m\u001b[0;34m,\u001b[0m \u001b[0;34m**\u001b[0m\u001b[0mlnlike_args\u001b[0m\u001b[0;34m)\u001b[0m\u001b[0;34m\u001b[0m\u001b[0;34m\u001b[0m\u001b[0m\n\u001b[0m\u001b[1;32m     23\u001b[0m     \u001b[0;32mif\u001b[0m \u001b[0memcee_version\u001b[0m \u001b[0;34m<\u001b[0m \u001b[0;36m3\u001b[0m\u001b[0;34m:\u001b[0m\u001b[0;34m\u001b[0m\u001b[0;34m\u001b[0m\u001b[0m\n\u001b[1;32m     24\u001b[0m         \u001b[0;31m# older version expects two returns: lnlike and blobs\u001b[0m\u001b[0;34m\u001b[0m\u001b[0;34m\u001b[0m\u001b[0;34m\u001b[0m\u001b[0m\n",
      "\u001b[0;32m~/Downloads/little-things/fit2d/fit2d/mcmc/_likelihood.py\u001b[0m in \u001b[0;36mlnlike\u001b[0;34m(params, model, rotation_curve_func_kwargs, galaxy, ring_model, mask_sigma, v_err_2d, v_err_const, n_interp_r, n_interp_theta, fit_structural_params, fit_sin_i, regularization_coeff, return_n_pixels, fill_nan_value)\u001b[0m\n\u001b[1;32m    157\u001b[0m \u001b[0;34m\u001b[0m\u001b[0m\n\u001b[1;32m    158\u001b[0m     \u001b[0;31m# todo: allow non-constant inc / pa to be provided\u001b[0m\u001b[0;34m\u001b[0m\u001b[0;34m\u001b[0m\u001b[0;34m\u001b[0m\u001b[0m\n\u001b[0;32m--> 159\u001b[0;31m     \u001b[0mtemp_inc\u001b[0m \u001b[0;34m=\u001b[0m \u001b[0mring_model_copy\u001b[0m\u001b[0;34m.\u001b[0m\u001b[0minterp_ring_parameters\u001b[0m\u001b[0;34m[\u001b[0m\u001b[0;34m\"inc\"\u001b[0m\u001b[0;34m]\u001b[0m\u001b[0;34m(\u001b[0m\u001b[0mr_m\u001b[0m\u001b[0;34m[\u001b[0m\u001b[0;36m1\u001b[0m\u001b[0;34m]\u001b[0m\u001b[0;34m)\u001b[0m\u001b[0;34m\u001b[0m\u001b[0;34m\u001b[0m\u001b[0m\n\u001b[0m\u001b[1;32m    160\u001b[0m     \u001b[0mtemp_pa\u001b[0m \u001b[0;34m=\u001b[0m \u001b[0mring_model_copy\u001b[0m\u001b[0;34m.\u001b[0m\u001b[0minterp_ring_parameters\u001b[0m\u001b[0;34m[\u001b[0m\u001b[0;34m\"pos_ang\"\u001b[0m\u001b[0;34m]\u001b[0m\u001b[0;34m(\u001b[0m\u001b[0mr_m\u001b[0m\u001b[0;34m[\u001b[0m\u001b[0;36m1\u001b[0m\u001b[0;34m]\u001b[0m\u001b[0;34m)\u001b[0m\u001b[0;34m\u001b[0m\u001b[0;34m\u001b[0m\u001b[0m\n\u001b[1;32m    161\u001b[0m     \u001b[0mtemp_xc\u001b[0m \u001b[0;34m=\u001b[0m \u001b[0mring_model_copy\u001b[0m\u001b[0;34m.\u001b[0m\u001b[0minterp_ring_parameters\u001b[0m\u001b[0;34m[\u001b[0m\u001b[0;34m\"x_center\"\u001b[0m\u001b[0;34m]\u001b[0m\u001b[0;34m(\u001b[0m\u001b[0mr_m\u001b[0m\u001b[0;34m[\u001b[0m\u001b[0;36m1\u001b[0m\u001b[0;34m]\u001b[0m\u001b[0;34m)\u001b[0m\u001b[0;34m\u001b[0m\u001b[0;34m\u001b[0m\u001b[0m\n",
      "\u001b[0;31mIndexError\u001b[0m: index 1 is out of bounds for axis 0 with size 0"
     ]
    }
   ],
   "source": [
    "for batch in range(mcmc_niter // batch_size):\n",
    "    if batch == 0:\n",
    "        batch_start = start_positions\n",
    "    else:\n",
    "        batch_start = None\n",
    "        sampler.pool = temp_pool\n",
    "    sampler.run_mcmc(batch_start, batch_size)\n",
    "    temp_pool = sampler.pool\n",
    "    del sampler.pool\n",
    "    with open(sampler_output_file, 'wb') as f:\n",
    "        sampler_copy = copy.copy(sampler)\n",
    "        del sampler_copy.log_prob_fn\n",
    "        joblib.dump(sampler_copy, f)\n",
    "\n",
    "    print(f\"Done with steps {batch*batch_size} - {(batch+1)*batch_size} out of {mcmc_niter}\")"
   ]
  },
  {
   "cell_type": "code",
   "execution_count": null,
   "metadata": {
    "ExecuteTime": {
     "end_time": "2022-03-15T01:41:37.887766Z",
     "start_time": "2022-03-15T01:41:32.907Z"
    }
   },
   "outputs": [],
   "source": [
    "plt.imshow(galaxy.observed_2d_vel_field, vmin = 0, vmax = 200)\n",
    "plt.colorbar()"
   ]
  },
  {
   "cell_type": "code",
   "execution_count": null,
   "metadata": {
    "ExecuteTime": {
     "end_time": "2022-03-15T01:41:37.891222Z",
     "start_time": "2022-03-15T01:41:32.911Z"
    },
    "scrolled": false
   },
   "outputs": [],
   "source": [
    "import matplotlib.animation as animation\n",
    "from mpl_toolkits.axes_grid1 import make_axes_locatable\n",
    "import matplotlib as mpl\n",
    "%matplotlib notebook\n",
    "\n",
    "# loads pickle and grabs single walker path (we chose the 0th)\n",
    "def loadpkl(num_bins, path):\n",
    "    d = {}\n",
    "    with open(f'{path}/sampler_{name}_{mcmc_niter}iter.pkl', 'rb') as f:\n",
    "        d[f'saved_sampler_{name}'] = joblib.load(f)\n",
    "    return d\n",
    "def grab_walker(w, num_bins, path):\n",
    "    d = loadpkl(num_bins, path)\n",
    "    for sampler in d.values():\n",
    "        nwalkers, niter, nparams = sampler.chain.shape   \n",
    "    walker = np.array(sampler.chain[w,:,:]) # one walker path\n",
    "    vels, incs, pas = walker[:,w:num_bins], walker[:,num_bins], walker[:,num_bins+1]\n",
    "    return vels, incs, pas\n",
    "mask = galaxy.observed_2d_vel_field/galaxy.observed_2d_vel_field\n",
    "\n",
    "\n",
    "fig, ax = plt.subplots()\n",
    "ax.imshow(galaxy.observed_2d_vel_field, cmap = 'gray') # plotting data underneath, just for comparison\n",
    "\n",
    "# creating the static colorbar w/o mappable object\n",
    "cmap = mpl.cm.viridis\n",
    "norm = mpl.colors.Normalize(vmin=0, vmax=200)\n",
    "plt.colorbar(mpl.cm.ScalarMappable(norm=norm, cmap=cmap), orientation='vertical', label='vel')\n",
    "\n",
    "# generates model fields using param vals from each step in chain\n",
    "ims = []\n",
    "for w in range(mcmc_nwalkers):\n",
    "    for i in range(mcmc_niter - 100, mcmc_niter):\n",
    "        vels, incs, pas = grab_walker(w, 14, f\"{save_dir}\")\n",
    "\n",
    "        model = create_2d_velocity_field(\n",
    "            radii = piecewise_model.generate_1d_rotation_curve(vels[i], **rotation_curve_func_kwargs)[0],\n",
    "            v_rot = piecewise_model.generate_1d_rotation_curve(vels[i], **rotation_curve_func_kwargs)[1],\n",
    "            i = incs[i],\n",
    "            pa = pas[i],\n",
    "            v_sys = galaxy.v_systemic,\n",
    "            x_dim = galaxy.image_xdim,\n",
    "            y_dim = galaxy.image_ydim,\n",
    "            x_center = fits_xdim/2,\n",
    "            y_center = fits_ydim/2,\n",
    "            kpc_per_pixel = galaxy.kpc_per_pixel\n",
    "            )\n",
    "        im = mask*model\n",
    "        #im = ax.imshow(mask*model, cmap = cmap)\n",
    "        ims.append([im])\n",
    "\n",
    "avg_model = np.sum(ims) / 100\n",
    "\n",
    "plt.imshow(avg_model)\n",
    "plt.colorbar()\n",
    "        \n",
    "        \n",
    "\"\"\"\n",
    "# runs the animation\n",
    "anim = animation.ArtistAnimation(fig, ims, interval=50, blit=True, repeat_delay=1000)\n",
    "plt.show()\n",
    "\n",
    "# saves animation\n",
    "f = f\"{save_dir}modelmaps.gif\" \n",
    "writergif = animation.PillowWriter(fps=30) \n",
    "anim.save(f, writer=writergif)\"\"\""
   ]
  },
  {
   "cell_type": "code",
   "execution_count": null,
   "metadata": {
    "ExecuteTime": {
     "end_time": "2022-03-15T01:41:37.903328Z",
     "start_time": "2022-03-15T01:41:32.915Z"
    }
   },
   "outputs": [],
   "source": [
    "print(f\"Done with emcee fit for {galaxy.name}\")"
   ]
  },
  {
   "cell_type": "code",
   "execution_count": null,
   "metadata": {
    "ExecuteTime": {
     "end_time": "2022-03-15T01:41:37.909349Z",
     "start_time": "2022-03-15T01:41:32.922Z"
    }
   },
   "outputs": [],
   "source": [
    "\"\"\"log_probs = sampler.get_log_prob()\n",
    "print(\"log prob of best fit point:\", np.amax(log_probs))\n",
    "log_max = np.where(log_probs == np.amax(log_probs))\n",
    "param_vals = sampler.get_chain()[log_max]\n",
    "print(\"vel, inc, vsini of best fit point:\", (param_vals[0][0], param_vals[0][1],param_vals[0][0]*np.sin(param_vals[0][1]) ))\n",
    "print(\"Mean acceptance fraction: {0:.3f}\".format(np.mean(sampler.acceptance_fraction)))\n",
    "#print(\"Mean autocorrelation time: {0:.3f} steps\".format(np.mean(sampler.get_autocorr_time())))\"\"\""
   ]
  }
 ],
 "metadata": {
  "kernelspec": {
   "display_name": "Python 3",
   "language": "python",
   "name": "python3"
  },
  "language_info": {
   "codemirror_mode": {
    "name": "ipython",
    "version": 3
   },
   "file_extension": ".py",
   "mimetype": "text/x-python",
   "name": "python",
   "nbconvert_exporter": "python",
   "pygments_lexer": "ipython3",
   "version": "3.7.4"
  }
 },
 "nbformat": 4,
 "nbformat_minor": 2
}

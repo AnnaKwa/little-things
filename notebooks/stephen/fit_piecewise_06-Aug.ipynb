{
 "cells": [
  {
   "cell_type": "code",
   "execution_count": 1,
   "metadata": {},
   "outputs": [
    {
     "data": {
      "text/html": [
       "<style>.container { width:95% !important; }</style>"
      ],
      "text/plain": [
       "<IPython.core.display.HTML object>"
      ]
     },
     "metadata": {},
     "output_type": "display_data"
    }
   ],
   "source": [
    "from IPython.core.display import display, HTML\n",
    "display(HTML(\"<style>.container { width:95% !important; }</style>\"))\n",
    "\n",
    "\n",
    "from astropy.io import fits\n",
    "import dill as pickle\n",
    "from emcee import EnsembleSampler\n",
    "import numpy as np\n",
    "import os\n",
    "import sys\n",
    "import random\n",
    "\n",
    "pwd = os.getcwd()\n",
    "little_things_root_dir = os.path.dirname(os.path.dirname(pwd))\n",
    "sys.path.append(little_things_root_dir)\n",
    "\n",
    "from little_things_lib.galaxy_piecewise import Galaxy\n",
    "from little_things_lib.piecewise_mcmc_fitter import (\n",
    "    EmceeParameters,\n",
    "    generate_nwalkers_start_points, \n",
    "    lnprob)\n",
    "from little_things_lib.plotting import plot_posterior_distributions, plot_walker_paths\n",
    "from datetime import datetime\n",
    "\n",
    "\n",
    "RAD_PER_ARCSEC = np.pi / (60*60*180)"
   ]
  },
  {
   "cell_type": "code",
   "execution_count": 2,
   "metadata": {},
   "outputs": [],
   "source": [
    "%matplotlib inline\n",
    "import matplotlib.pyplot as plt"
   ]
  },
  {
   "cell_type": "markdown",
   "metadata": {},
   "source": [
    "## Enter parameters for galaxy in cell below"
   ]
  },
  {
   "cell_type": "code",
   "execution_count": 3,
   "metadata": {},
   "outputs": [],
   "source": [
    "galaxy_name = 'NGC2366'\n",
    "\n",
    "velocity_error_2d = 10  # [km/s]\n",
    "\n",
    "DEG_PER_PIXEL = 4.17e-4\n",
    "DISTANCE = 3400 # kpc\n",
    "\n",
    "# can leave these as any number for now, not used\n",
    "LUMINOSITY = 1e8  # solar luminositiy\n",
    "HI_MASS = 1e8  # solar masses"
   ]
  },
  {
   "cell_type": "code",
   "execution_count": 4,
   "metadata": {},
   "outputs": [],
   "source": [
    "mcmc_params = EmceeParameters(\n",
    "    ndim=10,\n",
    "    nwalkers=20, \n",
    "    nburn=1,\n",
    "    niter=180,\n",
    "    nthin=5,\n",
    "    nthreads=4\n",
    ")\n"
   ]
  },
  {
   "cell_type": "code",
   "execution_count": 5,
   "metadata": {},
   "outputs": [],
   "source": [
    "\"\"\"\n",
    "Expect the data to be provided in following naming convention in 'data' directory:\n",
    "\n",
    "2D observed velocity field FITS file: <galaxy_name>_1mom.fits\n",
    "Bbarolo fit parameters text file: <galaxy_name>_ring_parameters.txt\n",
    "Stellar velocity curve: <galaxy_name>_stellar_velocities.txt\n",
    "Gas velocity_curve: <galaxy_name>_gas_velocities.txt\n",
    "\n",
    "\"\"\"\n",
    "\n",
    "\n",
    "data_dir = os.path.join(little_things_root_dir, 'data')\n",
    "\n",
    "observed_2d_vel_field_fits_file = os.path.join(data_dir, f'{galaxy_name}_1mom.fits')\n",
    "ring_parameters_file = os.path.join(data_dir, f'{galaxy_name}_ring_parameters.txt')\n",
    "\n",
    "stellar_velocities_file = os.path.join(data_dir, f'{galaxy_name}_stellar_velocities.txt')\n",
    "gas_velocities_file = os.path.join(data_dir, f'{galaxy_name}_gas_velocities.txt')\n"
   ]
  },
  {
   "cell_type": "code",
   "execution_count": 6,
   "metadata": {},
   "outputs": [],
   "source": [
    "radii_arcsec, test_rotation_curve, inclinations, position_angles, x_centers, y_centers , v_systemics = \\\n",
    "    np.loadtxt(ring_parameters_file, usecols=(1,2,4,5,-4,-3,-2)).T\n",
    "\n",
    "radii_kpc = radii_arcsec * RAD_PER_ARCSEC * DISTANCE\n",
    "avg_inclination = np.mean(inclinations)\n",
    "avg_position_angle = np.mean(position_angles)\n",
    "avg_x_center = np.mean(x_centers)\n",
    "avg_y_center = np.mean(y_centers)\n",
    "v_systemic = np.mean(v_systemics)\n",
    "\n",
    "observed_2d_vel_field = fits.open(observed_2d_vel_field_fits_file)[0].data\n",
    "\n",
    "stellar_radii, stellar_vel = np.loadtxt(stellar_velocities_file, unpack=True)\n",
    "gas_radii, gas_vel = np.loadtxt(gas_velocities_file, unpack=True)\n",
    "\n",
    "# comment out below and uncomment above lines when actually doing a fit\n",
    "# the lines below are for testing only!\n",
    "#stellar_radii = np.linspace(0, 7, 41)\n",
    "#gas_radii = np.linspace(0, 7, 41)\n",
    "#stellar_vel = np.linspace(0, 1, 41)\n",
    "#gas_vel = np.linspace(0, 1, 41)"
   ]
  },
  {
   "cell_type": "code",
   "execution_count": 7,
   "metadata": {
    "scrolled": true
   },
   "outputs": [],
   "source": [
    "nparams=10\n",
    "bin_edges=[]\n",
    "indices=np.linspace(0,len(radii_kpc)-1,nparams+1)\n",
    "#np.linspace/np.logpsace\n",
    "for i in indices:\n",
    "    bin_edges.append(radii_kpc[int(i)])"
   ]
  },
  {
   "cell_type": "code",
   "execution_count": 8,
   "metadata": {},
   "outputs": [],
   "source": [
    "avg_per_bin=[]\n",
    "for edge in range(len(bin_edges)):\n",
    "    if edge==1:\n",
    "        index0=[[0]]\n",
    "        index1=np.where(radii_kpc==(bin_edges[edge]))\n",
    "    elif edge>1:\n",
    "        index1=np.where(radii_kpc==(bin_edges[edge]))\n",
    "        index0=np.where(radii_kpc==(bin_edges[edge-1]))\n",
    "    if edge!=0:\n",
    "        count=index0[0][0]\n",
    "        avg=0\n",
    "        while count<=index1[0][0]:\n",
    "            avg+=test_rotation_curve[count]/(index1[0][0]-index0[0][0]+1)\n",
    "            count+=1\n",
    "        avg_per_bin.append(avg)\n",
    "\n",
    "bin_edges[0]=bin_edges[0]-.001\n",
    "bin_edges[-1]=bin_edges[-1]+.001"
   ]
  },
  {
   "cell_type": "code",
   "execution_count": 9,
   "metadata": {},
   "outputs": [],
   "source": [
    "galaxy = Galaxy(\n",
    "    distance_to_galaxy=DISTANCE,  # [kpc] Look this up for the galaxy \n",
    "    deg_per_pixel=DEG_PER_PIXEL ,  # 'CRDELT1' and 'CRDELT2' in the FITS file header (use absolute value)\n",
    "    bin_edges=np.array(bin_edges),\n",
    "    galaxy_name=np.array(galaxy_name),\n",
    "    vlos_2d_data=observed_2d_vel_field,\n",
    "    v_error_2d=velocity_error_2d,\n",
    "    output_dir='output',\n",
    "    luminosity=LUMINOSITY,\n",
    "    HI_mass=HI_MASS)\n",
    "\n",
    "tilted_ring_params = {\n",
    "    'v_systemic': v_systemic,\n",
    "    'radii': radii_kpc,   #sets galaxy.radii\n",
    "    'inclination': inclinations,\n",
    "    'position_angle': position_angles,\n",
    "    'x_pix_center': x_centers,\n",
    "    'y_pix_center': y_centers\n",
    "}\n",
    "\n",
    "galaxy.set_tilted_ring_parameters(**tilted_ring_params)\n",
    "\n",
    "galaxy.interpolate_baryonic_rotation_curve(\n",
    "    baryon_type='stellar',\n",
    "    rotation_curve_radii=stellar_radii,\n",
    "    rotation_curve_velocities=stellar_vel)\n",
    "\n",
    "galaxy.interpolate_baryonic_rotation_curve(\n",
    "    baryon_type='gas',\n",
    "    rotation_curve_radii=gas_radii,\n",
    "    rotation_curve_velocities=gas_vel)\n",
    "\n"
   ]
  },
  {
   "cell_type": "markdown",
   "metadata": {},
   "source": [
    "### The cell below should be modified for the piecewise model"
   ]
  },
  {
   "cell_type": "code",
   "execution_count": 10,
   "metadata": {},
   "outputs": [],
   "source": [
    "# initialize MCMC start position and bounds\n",
    "galaxy.set_piecewise_prior_bounds(\n",
    "    \n",
    "    bin_edges,\n",
    "    test_rotation_curve\n",
    "  \n",
    ")\n",
    "\n",
    "start_pos = generate_nwalkers_start_points(\n",
    "\n",
    "    mcmc_params.nwalkers,\n",
    "    galaxy,\n",
    "    avg_per_bin,\n",
    "    velocity_error_2d\n",
    ")"
   ]
  },
  {
   "cell_type": "code",
   "execution_count": 11,
   "metadata": {
    "scrolled": false
   },
   "outputs": [
    {
     "name": "stdout",
     "output_type": "stream",
     "text": [
      "emcee: Exception while calling your likelihood function:\n",
      "  params: [ 7.18320389 23.99235681 62.4570884  39.09955497 24.15341923 62.10534881\n",
      " 63.68555198 88.7281119  70.30514521 40.74937757]\n",
      "  args: [<little_things_lib.galaxy_piecewise.Galaxy object at 0x1a18a55b50>, True]\n",
      "  kwargs: {}\n",
      "  exception:\n"
     ]
    },
    {
     "name": "stderr",
     "output_type": "stream",
     "text": [
      "Traceback (most recent call last):\n",
      "  File \"/Users/stephencoffey/.local/lib/python3.7/site-packages/emcee/ensemble.py\", line 519, in __call__\n",
      "    return self.f(x, *self.args, **self.kwargs)\n",
      "  File \"/Users/stephencoffey/Downloads/little-things/little_things_lib/piecewise_mcmc_fitter.py\", line 95, in lnprob\n",
      "    lnl, bb = lnlike(params, galaxy)\n",
      "  File \"/Users/stephencoffey/Downloads/little-things/little_things_lib/piecewise_mcmc_fitter.py\", line 75, in lnlike\n",
      "    chisq, model_2d_field = chisq_2d(galaxy, galaxy.radii, v_m, v_err_const=galaxy.v_error_2d, record_array=True)\n",
      "  File \"/Users/stephencoffey/Downloads/little-things/little_things_lib/piecewise_mcmc_fitter.py\", line 121, in chisq_2d\n",
      "    v_rot=v_rot_1d_model\n",
      "  File \"/Users/stephencoffey/Downloads/little-things/little_things_lib/galaxy_piecewise.py\", line 223, in create_2d_velocity_field\n",
      "    v_field = imputer.fit_transform(v_field)\n",
      "  File \"/Users/stephencoffey/anaconda2/envs/anna_env/lib/python3.7/site-packages/missingpy/knnimpute.py\", line 328, in fit_transform\n",
      "    return self.fit(X).transform(X)\n",
      "  File \"/Users/stephencoffey/anaconda2/envs/anna_env/lib/python3.7/site-packages/missingpy/knnimpute.py\", line 215, in fit\n",
      "    .format(self.col_max_missing * 100))\n",
      "ValueError: Some column(s) have more than 80.0% missing values\n"
     ]
    },
    {
     "name": "stdout",
     "output_type": "stream",
     "text": [
      "emcee: Exception while calling your likelihood function:\n",
      "  params: [39.37962751 37.5054657  65.05364769 54.11460287 23.47860442 58.60070025\n",
      " 47.2364371  77.49512518 47.77317803 15.48361667]\n",
      "  args: [<little_things_lib.galaxy_piecewise.Galaxy object at 0x1a18aa6610>, True]\n",
      "  kwargs: {}\n",
      "  exception:\n"
     ]
    },
    {
     "name": "stderr",
     "output_type": "stream",
     "text": [
      "Traceback (most recent call last):\n",
      "  File \"/Users/stephencoffey/.local/lib/python3.7/site-packages/emcee/ensemble.py\", line 519, in __call__\n",
      "    return self.f(x, *self.args, **self.kwargs)\n",
      "  File \"/Users/stephencoffey/Downloads/little-things/little_things_lib/piecewise_mcmc_fitter.py\", line 95, in lnprob\n",
      "    lnl, bb = lnlike(params, galaxy)\n",
      "  File \"/Users/stephencoffey/Downloads/little-things/little_things_lib/piecewise_mcmc_fitter.py\", line 75, in lnlike\n",
      "    chisq, model_2d_field = chisq_2d(galaxy, galaxy.radii, v_m, v_err_const=galaxy.v_error_2d, record_array=True)\n",
      "  File \"/Users/stephencoffey/Downloads/little-things/little_things_lib/piecewise_mcmc_fitter.py\", line 121, in chisq_2d\n",
      "    v_rot=v_rot_1d_model\n",
      "  File \"/Users/stephencoffey/Downloads/little-things/little_things_lib/galaxy_piecewise.py\", line 223, in create_2d_velocity_field\n",
      "    v_field = imputer.fit_transform(v_field)\n",
      "  File \"/Users/stephencoffey/anaconda2/envs/anna_env/lib/python3.7/site-packages/missingpy/knnimpute.py\", line 328, in fit_transform\n",
      "    return self.fit(X).transform(X)\n",
      "  File \"/Users/stephencoffey/anaconda2/envs/anna_env/lib/python3.7/site-packages/missingpy/knnimpute.py\", line 215, in fit\n",
      "    .format(self.col_max_missing * 100))\n",
      "ValueError: Some column(s) have more than 80.0% missing values\n"
     ]
    },
    {
     "name": "stdout",
     "output_type": "stream",
     "text": [
      "emcee: Exception while calling your likelihood function:\n",
      "  params: [23.62182098 46.4128174  28.19914934 51.14228786 58.25248774 60.27123863\n",
      " 50.3701473  84.79442387 81.58437641 30.18841933]\n",
      "  args: [<little_things_lib.galaxy_piecewise.Galaxy object at 0x1a18aa6490>, True]\n",
      "  kwargs: {}\n",
      "  exception:\n"
     ]
    },
    {
     "name": "stderr",
     "output_type": "stream",
     "text": [
      "Traceback (most recent call last):\n",
      "  File \"/Users/stephencoffey/.local/lib/python3.7/site-packages/emcee/ensemble.py\", line 519, in __call__\n",
      "    return self.f(x, *self.args, **self.kwargs)\n",
      "  File \"/Users/stephencoffey/Downloads/little-things/little_things_lib/piecewise_mcmc_fitter.py\", line 95, in lnprob\n",
      "    lnl, bb = lnlike(params, galaxy)\n",
      "  File \"/Users/stephencoffey/Downloads/little-things/little_things_lib/piecewise_mcmc_fitter.py\", line 75, in lnlike\n",
      "    chisq, model_2d_field = chisq_2d(galaxy, galaxy.radii, v_m, v_err_const=galaxy.v_error_2d, record_array=True)\n",
      "  File \"/Users/stephencoffey/Downloads/little-things/little_things_lib/piecewise_mcmc_fitter.py\", line 121, in chisq_2d\n",
      "    v_rot=v_rot_1d_model\n",
      "  File \"/Users/stephencoffey/Downloads/little-things/little_things_lib/galaxy_piecewise.py\", line 223, in create_2d_velocity_field\n",
      "    v_field = imputer.fit_transform(v_field)\n",
      "  File \"/Users/stephencoffey/anaconda2/envs/anna_env/lib/python3.7/site-packages/missingpy/knnimpute.py\", line 328, in fit_transform\n",
      "    return self.fit(X).transform(X)\n",
      "  File \"/Users/stephencoffey/anaconda2/envs/anna_env/lib/python3.7/site-packages/missingpy/knnimpute.py\", line 215, in fit\n",
      "    .format(self.col_max_missing * 100))\n",
      "ValueError: Some column(s) have more than 80.0% missing values\n"
     ]
    },
    {
     "name": "stdout",
     "output_type": "stream",
     "text": [
      "emcee: Exception while calling your likelihood function:\n",
      "  params: [40.31845725 23.80454278  7.86955968 39.81605698 44.26490116 55.87248507\n",
      " 58.45990597 48.81352418 58.63921825 31.91447952]\n",
      "  args: [<little_things_lib.galaxy_piecewise.Galaxy object at 0x1a18aa6550>, True]\n",
      "  kwargs: {}\n",
      "  exception:\n"
     ]
    },
    {
     "name": "stderr",
     "output_type": "stream",
     "text": [
      "Traceback (most recent call last):\n",
      "  File \"/Users/stephencoffey/.local/lib/python3.7/site-packages/emcee/ensemble.py\", line 519, in __call__\n",
      "    return self.f(x, *self.args, **self.kwargs)\n",
      "  File \"/Users/stephencoffey/Downloads/little-things/little_things_lib/piecewise_mcmc_fitter.py\", line 95, in lnprob\n",
      "    lnl, bb = lnlike(params, galaxy)\n",
      "  File \"/Users/stephencoffey/Downloads/little-things/little_things_lib/piecewise_mcmc_fitter.py\", line 75, in lnlike\n",
      "    chisq, model_2d_field = chisq_2d(galaxy, galaxy.radii, v_m, v_err_const=galaxy.v_error_2d, record_array=True)\n",
      "  File \"/Users/stephencoffey/Downloads/little-things/little_things_lib/piecewise_mcmc_fitter.py\", line 121, in chisq_2d\n",
      "    v_rot=v_rot_1d_model\n",
      "  File \"/Users/stephencoffey/Downloads/little-things/little_things_lib/galaxy_piecewise.py\", line 223, in create_2d_velocity_field\n",
      "    v_field = imputer.fit_transform(v_field)\n",
      "  File \"/Users/stephencoffey/anaconda2/envs/anna_env/lib/python3.7/site-packages/missingpy/knnimpute.py\", line 328, in fit_transform\n",
      "    return self.fit(X).transform(X)\n",
      "  File \"/Users/stephencoffey/anaconda2/envs/anna_env/lib/python3.7/site-packages/missingpy/knnimpute.py\", line 215, in fit\n",
      "    .format(self.col_max_missing * 100))\n",
      "ValueError: Some column(s) have more than 80.0% missing values\n"
     ]
    },
    {
     "name": "stdout",
     "output_type": "stream",
     "text": [
      "emcee: Exception while calling your likelihood function:\n",
      "  params: [27.2353011  33.88503146 21.84995766 19.59508462 51.06899227 76.84423861\n",
      " 61.72559615 67.62418267 83.73645952 48.49557655]\n",
      "  args: [<little_things_lib.galaxy_piecewise.Galaxy object at 0x1064a8c90>, True]\n",
      "  kwargs: {}\n",
      "  exception:\n"
     ]
    },
    {
     "name": "stderr",
     "output_type": "stream",
     "text": [
      "Traceback (most recent call last):\n",
      "  File \"/Users/stephencoffey/.local/lib/python3.7/site-packages/emcee/ensemble.py\", line 519, in __call__\n",
      "    return self.f(x, *self.args, **self.kwargs)\n",
      "  File \"/Users/stephencoffey/Downloads/little-things/little_things_lib/piecewise_mcmc_fitter.py\", line 95, in lnprob\n",
      "    lnl, bb = lnlike(params, galaxy)\n",
      "  File \"/Users/stephencoffey/Downloads/little-things/little_things_lib/piecewise_mcmc_fitter.py\", line 75, in lnlike\n",
      "    chisq, model_2d_field = chisq_2d(galaxy, galaxy.radii, v_m, v_err_const=galaxy.v_error_2d, record_array=True)\n",
      "  File \"/Users/stephencoffey/Downloads/little-things/little_things_lib/piecewise_mcmc_fitter.py\", line 121, in chisq_2d\n",
      "    v_rot=v_rot_1d_model\n",
      "  File \"/Users/stephencoffey/Downloads/little-things/little_things_lib/galaxy_piecewise.py\", line 223, in create_2d_velocity_field\n",
      "    v_field = imputer.fit_transform(v_field)\n",
      "  File \"/Users/stephencoffey/anaconda2/envs/anna_env/lib/python3.7/site-packages/missingpy/knnimpute.py\", line 328, in fit_transform\n",
      "    return self.fit(X).transform(X)\n",
      "  File \"/Users/stephencoffey/anaconda2/envs/anna_env/lib/python3.7/site-packages/missingpy/knnimpute.py\", line 215, in fit\n",
      "    .format(self.col_max_missing * 100))\n",
      "ValueError: Some column(s) have more than 80.0% missing values\n"
     ]
    },
    {
     "name": "stdout",
     "output_type": "stream",
     "text": [
      "emcee: Exception while calling your likelihood function:\n",
      "  params: [35.42700096 40.51296787 51.79984655 27.69349622 73.22076376 82.43932254\n",
      " 69.86854525 57.03966251 53.08445657 44.6413685 ]\n",
      "  args: [<little_things_lib.galaxy_piecewise.Galaxy object at 0x1a18a7cfd0>, True]\n",
      "  kwargs: {}\n",
      "  exception:\n"
     ]
    },
    {
     "name": "stderr",
     "output_type": "stream",
     "text": [
      "Traceback (most recent call last):\n",
      "  File \"/Users/stephencoffey/.local/lib/python3.7/site-packages/emcee/ensemble.py\", line 519, in __call__\n",
      "    return self.f(x, *self.args, **self.kwargs)\n",
      "  File \"/Users/stephencoffey/Downloads/little-things/little_things_lib/piecewise_mcmc_fitter.py\", line 95, in lnprob\n",
      "    lnl, bb = lnlike(params, galaxy)\n",
      "  File \"/Users/stephencoffey/Downloads/little-things/little_things_lib/piecewise_mcmc_fitter.py\", line 75, in lnlike\n",
      "    chisq, model_2d_field = chisq_2d(galaxy, galaxy.radii, v_m, v_err_const=galaxy.v_error_2d, record_array=True)\n",
      "  File \"/Users/stephencoffey/Downloads/little-things/little_things_lib/piecewise_mcmc_fitter.py\", line 121, in chisq_2d\n",
      "    v_rot=v_rot_1d_model\n",
      "  File \"/Users/stephencoffey/Downloads/little-things/little_things_lib/galaxy_piecewise.py\", line 223, in create_2d_velocity_field\n",
      "    v_field = imputer.fit_transform(v_field)\n",
      "  File \"/Users/stephencoffey/anaconda2/envs/anna_env/lib/python3.7/site-packages/missingpy/knnimpute.py\", line 328, in fit_transform\n",
      "    return self.fit(X).transform(X)\n"
     ]
    },
    {
     "name": "stdout",
     "output_type": "stream",
     "text": [
      "emcee: Exception while calling your likelihood function:\n",
      "  params: [39.29100634  3.62062207 33.37877486 28.45922225 70.5405375  50.51519266\n",
      " 27.03169476 55.64027711 30.82116984 50.78809057]"
     ]
    },
    {
     "name": "stderr",
     "output_type": "stream",
     "text": [
      "  File \"/Users/stephencoffey/anaconda2/envs/anna_env/lib/python3.7/site-packages/missingpy/knnimpute.py\", line 215, in fit\n",
      "    .format(self.col_max_missing * 100))\n"
     ]
    },
    {
     "name": "stdout",
     "output_type": "stream",
     "text": [
      "\n",
      "  args: [<little_things_lib.galaxy_piecewise.Galaxy object at 0x1a18aa6410>, True]\n",
      "  kwargs: {}\n"
     ]
    },
    {
     "name": "stderr",
     "output_type": "stream",
     "text": [
      "ValueError: Some column(s) have more than 80.0% missing values\n"
     ]
    },
    {
     "name": "stdout",
     "output_type": "stream",
     "text": [
      "  exception:\n"
     ]
    },
    {
     "name": "stderr",
     "output_type": "stream",
     "text": [
      "Traceback (most recent call last):\n",
      "  File \"/Users/stephencoffey/.local/lib/python3.7/site-packages/emcee/ensemble.py\", line 519, in __call__\n",
      "    return self.f(x, *self.args, **self.kwargs)\n",
      "  File \"/Users/stephencoffey/Downloads/little-things/little_things_lib/piecewise_mcmc_fitter.py\", line 95, in lnprob\n",
      "    lnl, bb = lnlike(params, galaxy)\n",
      "  File \"/Users/stephencoffey/Downloads/little-things/little_things_lib/piecewise_mcmc_fitter.py\", line 75, in lnlike\n",
      "    chisq, model_2d_field = chisq_2d(galaxy, galaxy.radii, v_m, v_err_const=galaxy.v_error_2d, record_array=True)\n",
      "  File \"/Users/stephencoffey/Downloads/little-things/little_things_lib/piecewise_mcmc_fitter.py\", line 121, in chisq_2d\n",
      "    v_rot=v_rot_1d_model\n",
      "  File \"/Users/stephencoffey/Downloads/little-things/little_things_lib/galaxy_piecewise.py\", line 223, in create_2d_velocity_field\n",
      "    v_field = imputer.fit_transform(v_field)\n",
      "  File \"/Users/stephencoffey/anaconda2/envs/anna_env/lib/python3.7/site-packages/missingpy/knnimpute.py\", line 328, in fit_transform\n",
      "    return self.fit(X).transform(X)\n",
      "  File \"/Users/stephencoffey/anaconda2/envs/anna_env/lib/python3.7/site-packages/missingpy/knnimpute.py\", line 215, in fit\n",
      "    .format(self.col_max_missing * 100))\n",
      "ValueError: Some column(s) have more than 80.0% missing values\n"
     ]
    },
    {
     "name": "stdout",
     "output_type": "stream",
     "text": [
      "emcee: Exception while calling your likelihood function:\n",
      "  params: [19.28443462 37.60924522 52.22424431 44.299976   74.75394123 26.73311938\n",
      " 83.09840688 43.42712515 80.20800243 62.05861059]\n",
      "  args: [<little_things_lib.galaxy_piecewise.Galaxy object at 0x1a18aa6c10>, True]\n",
      "  kwargs: {}\n",
      "  exception:\n"
     ]
    },
    {
     "name": "stderr",
     "output_type": "stream",
     "text": [
      "Traceback (most recent call last):\n",
      "  File \"/Users/stephencoffey/.local/lib/python3.7/site-packages/emcee/ensemble.py\", line 519, in __call__\n",
      "    return self.f(x, *self.args, **self.kwargs)\n",
      "  File \"/Users/stephencoffey/Downloads/little-things/little_things_lib/piecewise_mcmc_fitter.py\", line 95, in lnprob\n",
      "    lnl, bb = lnlike(params, galaxy)\n",
      "  File \"/Users/stephencoffey/Downloads/little-things/little_things_lib/piecewise_mcmc_fitter.py\", line 75, in lnlike\n",
      "    chisq, model_2d_field = chisq_2d(galaxy, galaxy.radii, v_m, v_err_const=galaxy.v_error_2d, record_array=True)\n",
      "  File \"/Users/stephencoffey/Downloads/little-things/little_things_lib/piecewise_mcmc_fitter.py\", line 121, in chisq_2d\n",
      "    v_rot=v_rot_1d_model\n",
      "  File \"/Users/stephencoffey/Downloads/little-things/little_things_lib/galaxy_piecewise.py\", line 223, in create_2d_velocity_field\n",
      "    v_field = imputer.fit_transform(v_field)\n",
      "  File \"/Users/stephencoffey/anaconda2/envs/anna_env/lib/python3.7/site-packages/missingpy/knnimpute.py\", line 328, in fit_transform\n",
      "    return self.fit(X).transform(X)\n",
      "  File \"/Users/stephencoffey/anaconda2/envs/anna_env/lib/python3.7/site-packages/missingpy/knnimpute.py\", line 215, in fit\n",
      "    .format(self.col_max_missing * 100))\n",
      "ValueError: Some column(s) have more than 80.0% missing values\n"
     ]
    },
    {
     "name": "stdout",
     "output_type": "stream",
     "text": [
      "emcee: Exception while calling your likelihood function:\n",
      "  params: [26.6219852  28.96162789 39.21787903 66.26147392 64.29069011 80.82931454\n",
      " 41.72655468 38.43067168 62.26674634 27.67925433]\n",
      "  args: [<little_things_lib.galaxy_piecewise.Galaxy object at 0x1a18a55b50>, True]\n",
      "  kwargs: {}\n",
      "  exception:\n"
     ]
    },
    {
     "name": "stderr",
     "output_type": "stream",
     "text": [
      "Traceback (most recent call last):\n",
      "  File \"/Users/stephencoffey/.local/lib/python3.7/site-packages/emcee/ensemble.py\", line 519, in __call__\n",
      "    return self.f(x, *self.args, **self.kwargs)\n",
      "  File \"/Users/stephencoffey/Downloads/little-things/little_things_lib/piecewise_mcmc_fitter.py\", line 95, in lnprob\n",
      "    lnl, bb = lnlike(params, galaxy)\n",
      "  File \"/Users/stephencoffey/Downloads/little-things/little_things_lib/piecewise_mcmc_fitter.py\", line 75, in lnlike\n",
      "    chisq, model_2d_field = chisq_2d(galaxy, galaxy.radii, v_m, v_err_const=galaxy.v_error_2d, record_array=True)\n",
      "  File \"/Users/stephencoffey/Downloads/little-things/little_things_lib/piecewise_mcmc_fitter.py\", line 121, in chisq_2d\n",
      "    v_rot=v_rot_1d_model\n",
      "  File \"/Users/stephencoffey/Downloads/little-things/little_things_lib/galaxy_piecewise.py\", line 223, in create_2d_velocity_field\n",
      "    v_field = imputer.fit_transform(v_field)\n",
      "  File \"/Users/stephencoffey/anaconda2/envs/anna_env/lib/python3.7/site-packages/missingpy/knnimpute.py\", line 328, in fit_transform\n",
      "    return self.fit(X).transform(X)\n",
      "  File \"/Users/stephencoffey/anaconda2/envs/anna_env/lib/python3.7/site-packages/missingpy/knnimpute.py\", line 215, in fit\n",
      "    .format(self.col_max_missing * 100))\n",
      "ValueError: Some column(s) have more than 80.0% missing values\n"
     ]
    },
    {
     "name": "stdout",
     "output_type": "stream",
     "text": [
      "emcee: Exception while calling your likelihood function:\n",
      "  params: [ 7.01470913 37.74701249 60.91481323 73.46146015 77.76561852 77.59193222\n",
      " 29.19964468 51.60981344 66.10525254 48.72873203]\n",
      "  args: [<little_things_lib.galaxy_piecewise.Galaxy object at 0x104730f90>, True]\n",
      "  kwargs: {}\n",
      "  exception:\n"
     ]
    },
    {
     "name": "stderr",
     "output_type": "stream",
     "text": [
      "Traceback (most recent call last):\n",
      "  File \"/Users/stephencoffey/.local/lib/python3.7/site-packages/emcee/ensemble.py\", line 519, in __call__\n",
      "    return self.f(x, *self.args, **self.kwargs)\n",
      "  File \"/Users/stephencoffey/Downloads/little-things/little_things_lib/piecewise_mcmc_fitter.py\", line 95, in lnprob\n",
      "    lnl, bb = lnlike(params, galaxy)\n",
      "  File \"/Users/stephencoffey/Downloads/little-things/little_things_lib/piecewise_mcmc_fitter.py\", line 75, in lnlike\n",
      "    chisq, model_2d_field = chisq_2d(galaxy, galaxy.radii, v_m, v_err_const=galaxy.v_error_2d, record_array=True)\n",
      "  File \"/Users/stephencoffey/Downloads/little-things/little_things_lib/piecewise_mcmc_fitter.py\", line 121, in chisq_2d\n",
      "    v_rot=v_rot_1d_model\n",
      "  File \"/Users/stephencoffey/Downloads/little-things/little_things_lib/galaxy_piecewise.py\", line 223, in create_2d_velocity_field\n",
      "    v_field = imputer.fit_transform(v_field)\n",
      "  File \"/Users/stephencoffey/anaconda2/envs/anna_env/lib/python3.7/site-packages/missingpy/knnimpute.py\", line 328, in fit_transform\n",
      "    return self.fit(X).transform(X)\n",
      "  File \"/Users/stephencoffey/anaconda2/envs/anna_env/lib/python3.7/site-packages/missingpy/knnimpute.py\", line 215, in fit\n",
      "    .format(self.col_max_missing * 100))\n",
      "ValueError: Some column(s) have more than 80.0% missing values\n"
     ]
    },
    {
     "ename": "ValueError",
     "evalue": "Some column(s) have more than 80.0% missing values",
     "output_type": "error",
     "traceback": [
      "\u001b[0;31m---------------------------------------------------------------------------\u001b[0m",
      "\u001b[0;31mRemoteTraceback\u001b[0m                           Traceback (most recent call last)",
      "\u001b[0;31mRemoteTraceback\u001b[0m: \n\"\"\"\nTraceback (most recent call last):\n  File \"/Users/stephencoffey/anaconda2/envs/anna_env/lib/python3.7/multiprocessing/pool.py\", line 121, in worker\n    result = (True, func(*args, **kwds))\n  File \"/Users/stephencoffey/anaconda2/envs/anna_env/lib/python3.7/multiprocessing/pool.py\", line 44, in mapstar\n    return list(map(*args))\n  File \"/Users/stephencoffey/.local/lib/python3.7/site-packages/emcee/ensemble.py\", line 519, in __call__\n    return self.f(x, *self.args, **self.kwargs)\n  File \"/Users/stephencoffey/Downloads/little-things/little_things_lib/piecewise_mcmc_fitter.py\", line 95, in lnprob\n    lnl, bb = lnlike(params, galaxy)\n  File \"/Users/stephencoffey/Downloads/little-things/little_things_lib/piecewise_mcmc_fitter.py\", line 75, in lnlike\n    chisq, model_2d_field = chisq_2d(galaxy, galaxy.radii, v_m, v_err_const=galaxy.v_error_2d, record_array=True)\n  File \"/Users/stephencoffey/Downloads/little-things/little_things_lib/piecewise_mcmc_fitter.py\", line 121, in chisq_2d\n    v_rot=v_rot_1d_model\n  File \"/Users/stephencoffey/Downloads/little-things/little_things_lib/galaxy_piecewise.py\", line 223, in create_2d_velocity_field\n    v_field = imputer.fit_transform(v_field)\n  File \"/Users/stephencoffey/anaconda2/envs/anna_env/lib/python3.7/site-packages/missingpy/knnimpute.py\", line 328, in fit_transform\n    return self.fit(X).transform(X)\n  File \"/Users/stephencoffey/anaconda2/envs/anna_env/lib/python3.7/site-packages/missingpy/knnimpute.py\", line 215, in fit\n    .format(self.col_max_missing * 100))\nValueError: Some column(s) have more than 80.0% missing values\n\"\"\"",
      "\nThe above exception was the direct cause of the following exception:\n",
      "\u001b[0;31mValueError\u001b[0m                                Traceback (most recent call last)",
      "\u001b[0;32m<ipython-input-11-fe4948ced720>\u001b[0m in \u001b[0;36m<module>\u001b[0;34m\u001b[0m\n\u001b[1;32m     11\u001b[0m \u001b[0;34m\u001b[0m\u001b[0m\n\u001b[1;32m     12\u001b[0m \u001b[0;31m# burn in\u001b[0m\u001b[0;34m\u001b[0m\u001b[0;34m\u001b[0m\u001b[0;34m\u001b[0m\u001b[0m\n\u001b[0;32m---> 13\u001b[0;31m \u001b[0msampler\u001b[0m\u001b[0;34m.\u001b[0m\u001b[0mrun_mcmc\u001b[0m\u001b[0;34m(\u001b[0m\u001b[0mstart_pos\u001b[0m\u001b[0;34m,\u001b[0m \u001b[0mN\u001b[0m\u001b[0;34m=\u001b[0m\u001b[0mmcmc_params\u001b[0m\u001b[0;34m.\u001b[0m\u001b[0mnburn\u001b[0m\u001b[0;34m)\u001b[0m\u001b[0;34m\u001b[0m\u001b[0;34m\u001b[0m\u001b[0m\n\u001b[0m\u001b[1;32m     14\u001b[0m \u001b[0mstart_pos_after_burn_in\u001b[0m \u001b[0;34m=\u001b[0m \u001b[0msampler\u001b[0m\u001b[0;34m.\u001b[0m\u001b[0m_last_run_mcmc_result\u001b[0m\u001b[0;34m[\u001b[0m\u001b[0;36m0\u001b[0m\u001b[0;34m]\u001b[0m\u001b[0;34m\u001b[0m\u001b[0;34m\u001b[0m\u001b[0m\n\u001b[1;32m     15\u001b[0m \u001b[0msampler\u001b[0m\u001b[0;34m.\u001b[0m\u001b[0mreset\u001b[0m\u001b[0;34m(\u001b[0m\u001b[0;34m)\u001b[0m\u001b[0;34m\u001b[0m\u001b[0;34m\u001b[0m\u001b[0m\n",
      "\u001b[0;32m~/.local/lib/python3.7/site-packages/emcee/sampler.py\u001b[0m in \u001b[0;36mrun_mcmc\u001b[0;34m(self, pos0, N, rstate0, lnprob0, **kwargs)\u001b[0m\n\u001b[1;32m    170\u001b[0m \u001b[0;34m\u001b[0m\u001b[0m\n\u001b[1;32m    171\u001b[0m         for results in self.sample(pos0, lnprob0, rstate0, iterations=N,\n\u001b[0;32m--> 172\u001b[0;31m                                    **kwargs):\n\u001b[0m\u001b[1;32m    173\u001b[0m             \u001b[0;32mpass\u001b[0m\u001b[0;34m\u001b[0m\u001b[0;34m\u001b[0m\u001b[0m\n\u001b[1;32m    174\u001b[0m \u001b[0;34m\u001b[0m\u001b[0m\n",
      "\u001b[0;32m~/.local/lib/python3.7/site-packages/emcee/ensemble.py\u001b[0m in \u001b[0;36msample\u001b[0;34m(self, p0, lnprob0, rstate0, blobs0, iterations, thin, storechain, mh_proposal)\u001b[0m\n\u001b[1;32m    196\u001b[0m         \u001b[0mblobs\u001b[0m \u001b[0;34m=\u001b[0m \u001b[0mblobs0\u001b[0m\u001b[0;34m\u001b[0m\u001b[0;34m\u001b[0m\u001b[0m\n\u001b[1;32m    197\u001b[0m         \u001b[0;32mif\u001b[0m \u001b[0mlnprob\u001b[0m \u001b[0;32mis\u001b[0m \u001b[0;32mNone\u001b[0m\u001b[0;34m:\u001b[0m\u001b[0;34m\u001b[0m\u001b[0;34m\u001b[0m\u001b[0m\n\u001b[0;32m--> 198\u001b[0;31m             \u001b[0mlnprob\u001b[0m\u001b[0;34m,\u001b[0m \u001b[0mblobs\u001b[0m \u001b[0;34m=\u001b[0m \u001b[0mself\u001b[0m\u001b[0;34m.\u001b[0m\u001b[0m_get_lnprob\u001b[0m\u001b[0;34m(\u001b[0m\u001b[0mp\u001b[0m\u001b[0;34m)\u001b[0m\u001b[0;34m\u001b[0m\u001b[0;34m\u001b[0m\u001b[0m\n\u001b[0m\u001b[1;32m    199\u001b[0m \u001b[0;34m\u001b[0m\u001b[0m\n\u001b[1;32m    200\u001b[0m         \u001b[0;31m# Check to make sure that the probability function didn't return\u001b[0m\u001b[0;34m\u001b[0m\u001b[0;34m\u001b[0m\u001b[0;34m\u001b[0m\u001b[0m\n",
      "\u001b[0;32m~/.local/lib/python3.7/site-packages/emcee/ensemble.py\u001b[0m in \u001b[0;36m_get_lnprob\u001b[0;34m(self, pos)\u001b[0m\n\u001b[1;32m    380\u001b[0m \u001b[0;34m\u001b[0m\u001b[0m\n\u001b[1;32m    381\u001b[0m         \u001b[0;31m# Run the log-probability calculations (optionally in parallel).\u001b[0m\u001b[0;34m\u001b[0m\u001b[0;34m\u001b[0m\u001b[0;34m\u001b[0m\u001b[0m\n\u001b[0;32m--> 382\u001b[0;31m         \u001b[0mresults\u001b[0m \u001b[0;34m=\u001b[0m \u001b[0mlist\u001b[0m\u001b[0;34m(\u001b[0m\u001b[0mM\u001b[0m\u001b[0;34m(\u001b[0m\u001b[0mself\u001b[0m\u001b[0;34m.\u001b[0m\u001b[0mlnprobfn\u001b[0m\u001b[0;34m,\u001b[0m \u001b[0;34m[\u001b[0m\u001b[0mp\u001b[0m\u001b[0;34m[\u001b[0m\u001b[0mi\u001b[0m\u001b[0;34m]\u001b[0m \u001b[0;32mfor\u001b[0m \u001b[0mi\u001b[0m \u001b[0;32min\u001b[0m \u001b[0mrange\u001b[0m\u001b[0;34m(\u001b[0m\u001b[0mlen\u001b[0m\u001b[0;34m(\u001b[0m\u001b[0mp\u001b[0m\u001b[0;34m)\u001b[0m\u001b[0;34m)\u001b[0m\u001b[0;34m]\u001b[0m\u001b[0;34m)\u001b[0m\u001b[0;34m)\u001b[0m\u001b[0;34m\u001b[0m\u001b[0;34m\u001b[0m\u001b[0m\n\u001b[0m\u001b[1;32m    383\u001b[0m \u001b[0;34m\u001b[0m\u001b[0m\n\u001b[1;32m    384\u001b[0m         \u001b[0;32mtry\u001b[0m\u001b[0;34m:\u001b[0m\u001b[0;34m\u001b[0m\u001b[0;34m\u001b[0m\u001b[0m\n",
      "\u001b[0;32m~/.local/lib/python3.7/site-packages/emcee/interruptible_pool.py\u001b[0m in \u001b[0;36mmap\u001b[0;34m(self, func, iterable, chunksize)\u001b[0m\n\u001b[1;32m     92\u001b[0m         \u001b[0;32mwhile\u001b[0m \u001b[0;32mTrue\u001b[0m\u001b[0;34m:\u001b[0m\u001b[0;34m\u001b[0m\u001b[0;34m\u001b[0m\u001b[0m\n\u001b[1;32m     93\u001b[0m             \u001b[0;32mtry\u001b[0m\u001b[0;34m:\u001b[0m\u001b[0;34m\u001b[0m\u001b[0;34m\u001b[0m\u001b[0m\n\u001b[0;32m---> 94\u001b[0;31m                 \u001b[0;32mreturn\u001b[0m \u001b[0mr\u001b[0m\u001b[0;34m.\u001b[0m\u001b[0mget\u001b[0m\u001b[0;34m(\u001b[0m\u001b[0mself\u001b[0m\u001b[0;34m.\u001b[0m\u001b[0mwait_timeout\u001b[0m\u001b[0;34m)\u001b[0m\u001b[0;34m\u001b[0m\u001b[0;34m\u001b[0m\u001b[0m\n\u001b[0m\u001b[1;32m     95\u001b[0m             \u001b[0;32mexcept\u001b[0m \u001b[0mTimeoutError\u001b[0m\u001b[0;34m:\u001b[0m\u001b[0;34m\u001b[0m\u001b[0;34m\u001b[0m\u001b[0m\n\u001b[1;32m     96\u001b[0m                 \u001b[0;32mpass\u001b[0m\u001b[0;34m\u001b[0m\u001b[0;34m\u001b[0m\u001b[0m\n",
      "\u001b[0;32m~/anaconda2/envs/anna_env/lib/python3.7/multiprocessing/pool.py\u001b[0m in \u001b[0;36mget\u001b[0;34m(self, timeout)\u001b[0m\n\u001b[1;32m    655\u001b[0m             \u001b[0;32mreturn\u001b[0m \u001b[0mself\u001b[0m\u001b[0;34m.\u001b[0m\u001b[0m_value\u001b[0m\u001b[0;34m\u001b[0m\u001b[0;34m\u001b[0m\u001b[0m\n\u001b[1;32m    656\u001b[0m         \u001b[0;32melse\u001b[0m\u001b[0;34m:\u001b[0m\u001b[0;34m\u001b[0m\u001b[0;34m\u001b[0m\u001b[0m\n\u001b[0;32m--> 657\u001b[0;31m             \u001b[0;32mraise\u001b[0m \u001b[0mself\u001b[0m\u001b[0;34m.\u001b[0m\u001b[0m_value\u001b[0m\u001b[0;34m\u001b[0m\u001b[0;34m\u001b[0m\u001b[0m\n\u001b[0m\u001b[1;32m    658\u001b[0m \u001b[0;34m\u001b[0m\u001b[0m\n\u001b[1;32m    659\u001b[0m     \u001b[0;32mdef\u001b[0m \u001b[0m_set\u001b[0m\u001b[0;34m(\u001b[0m\u001b[0mself\u001b[0m\u001b[0;34m,\u001b[0m \u001b[0mi\u001b[0m\u001b[0;34m,\u001b[0m \u001b[0mobj\u001b[0m\u001b[0;34m)\u001b[0m\u001b[0;34m:\u001b[0m\u001b[0;34m\u001b[0m\u001b[0;34m\u001b[0m\u001b[0m\n",
      "\u001b[0;31mValueError\u001b[0m: Some column(s) have more than 80.0% missing values"
     ]
    }
   ],
   "source": [
    "# set to False to greatly reduce size of saved output\n",
    "save_blob = True\n",
    "\n",
    "# initialize sampler\n",
    "sampler = EnsembleSampler(\n",
    "    mcmc_params.nwalkers,\n",
    "    mcmc_params.ndim, \n",
    "    lnprob, \n",
    "    args=[galaxy, save_blob], \n",
    "    threads=mcmc_params.nthreads)\n",
    "\n",
    "# burn in \n",
    "sampler.run_mcmc(start_pos, N=mcmc_params.nburn)\n",
    "start_pos_after_burn_in = sampler._last_run_mcmc_result[0]\n",
    "sampler.reset()"
   ]
  },
  {
   "cell_type": "code",
   "execution_count": null,
   "metadata": {},
   "outputs": [],
   "source": [
    "# this will break up the fitting procedure into smaller chunks of size batch_size and save progress\n",
    "dateTimeObj = datetime.now()\n",
    "timestampStr = dateTimeObj.strftime(\"%d-%b-%Y\")\n",
    "\n",
    "batch_size = 5\n",
    "mcmc_output = []\n",
    "for batch in range(mcmc_params.niter // batch_size):\n",
    "    if batch == 0:\n",
    "        batch_start = start_pos_after_burn_in\n",
    "    else:\n",
    "        batch_start = None\n",
    "        sampler.pool = temp_pool\n",
    "    mcmc_output += sampler.run_mcmc(batch_start, batch_size, thin=mcmc_params.nthin)\n",
    "    temp_pool = sampler.pool\n",
    "    del sampler.pool\n",
    "    with open(f'/Volumes/My Passport for Mac/Piecewise pkl/sampler_{timestampStr}.pkl', 'wb') as f:\n",
    "        pickle.dump(sampler, f)\n",
    "    with open(f'/Volumes/My Passport for Mac/Piecewise pkl/mcmc_output_{timestampStr}.pkl', 'wb') as f:\n",
    "        pickle.dump(mcmc_output, f)\n",
    "    print(f\"Done with steps {batch*batch_size} - {(batch+1)*batch_size} out of {mcmc_params.niter}\")\n"
   ]
  },
  {
   "cell_type": "markdown",
   "metadata": {},
   "source": [
    "#### The two cells below demonstrate how to load your saved results. This is useful in the follow cases:\n",
    "\n",
    "1) You finished a long MCMC fitting run and want to plot the results without having to redo the whole thing.\n",
    "\n",
    "2) Your computer crashed before it was done running the previous MCMC fit and you want to restart it from the last saved iteration. In this case you can run the second cell below to continue the MCMC fitting. The results of the restarted run will be saved separately from the results of the previous run. The combined results will also be saved."
   ]
  },
  {
   "cell_type": "code",
   "execution_count": null,
   "metadata": {},
   "outputs": [],
   "source": [
    "# example of how to load the pickled objects\n",
    "# change the name of the files to whatever yours were saved as\n",
    "\n",
    "with open(f'/Volumes/My Passport for Mac/Piecewise pkl/sampler_{timestampStr}.pkl', 'rb') as f:\n",
    "    saved_sampler = pickle.load(f)\n",
    "    restart_pos = saved_sampler._last_run_mcmc_result[0]\n",
    "with open(f'/Volumes/My Passport for Mac/Piecewise pkl/mcmc_output_{timestampStr}.pkl', 'rb') as f:\n",
    "    saved_mcmc_output = pickle.load(f)"
   ]
  },
  {
   "cell_type": "code",
   "execution_count": null,
   "metadata": {},
   "outputs": [],
   "source": [
    "# example of how to restart the MCMC fit from the last save point \n",
    "# assumes you loaded the sampler and mcmc_output from the saved pickles in the example above\n",
    "\n",
    "restart_sampler = EnsembleSampler(\n",
    "    mcmc_params.nwalkers,\n",
    "    mcmc_params.ndim, \n",
    "    lnprob, \n",
    "    args=[galaxy, save_blob], \n",
    "    threads=mcmc_params.nthreads)\n",
    "restart_mcmc_output = []\n",
    "\n",
    "dateTimeObj = datetime.now()\n",
    "timestampStr = dateTimeObj.strftime(\"%d-%b-%Y\")\n",
    "\n",
    "batch_size = 10\n",
    "for batch in range(mcmc_params.niter // batch_size):\n",
    "    if batch==0:\n",
    "        batch_start = restart_pos\n",
    "    else:\n",
    "        batch_start = None\n",
    "        restart_sampler.pool = temp_pool\n",
    "    restart_mcmc_output += restart_sampler.run_mcmc(batch_start, batch_size, thin=mcmc_params.nthin)\n",
    "    temp_pool = restart_sampler.pool\n",
    "    del sampler.pool\n",
    "    with open(f'/Volumes/My Passport for Mac/Piecewise pkl/sampler_{timestampStr}.pkl', 'wb') as f:\n",
    "        pickle.dump(restart_sampler, f)\n",
    "    with open(f'/Volumes/My Passport for Mac/Piecewise pkl/mcmc_output_{timestampStr}.pkl', 'wb') as f:\n",
    "        pickle.dump(restart_mcmc_output, f)\n",
    "    print(f\"Done with steps {batch*batch_size} - {(batch+1)*batch_size} out of {mcmc_params.niter}\")\n",
    "\n",
    "    \n",
    "# this step adds the MCMC results from the restarted run to the ones that were saved from the previous run.\n",
    "total_mcmc_output = saved_mcmc_output + restart_mcmc_output\n",
    "    with open(f'/Volumes/My Passport for Mac/Piecewise pkl/total_mcmc_output_{timestampStr}.pkl', 'wb') as f:\n",
    "        pickle.dump(total_mcmc_output, f)"
   ]
  },
  {
   "cell_type": "code",
   "execution_count": null,
   "metadata": {},
   "outputs": [],
   "source": [
    "#### Plot the posterior distributions and walker paths\n",
    "\n",
    "# Uncomment below line if using the the sampler loaded from the save file\n",
    "sampler=saved_sampler\n",
    "\n",
    "parameter_labels = sorted(list(galaxy.bounds.keys()))\n",
    "\n",
    "plot_posterior_distributions(sampler, labels=parameter_labels)\n",
    "\n",
    "plot_walker_paths(\n",
    "    sampler,\n",
    "    mcmc_params,\n",
    "    labels=parameter_labels)\n",
    "\n",
    "def get_fit_stats(sampler, labels=parameter_labels):\n",
    "    for i, label in enumerate(labels):\n",
    "        chain = sampler.chain[:, :, i].flatten()\n",
    "        print(f\"{label}: {np.mean(chain)} +/- {np.std(chain)}\")\n",
    "        \n",
    "get_fit_stats(sampler)"
   ]
  },
  {
   "cell_type": "code",
   "execution_count": null,
   "metadata": {},
   "outputs": [],
   "source": [
    "#blobs = np.reshape(sampler.blobs, (int(mcmc_params.niter/mcmc_params.nthin) * mcmc_params.nwalkers, 10))\n",
    "blobs = [] \n",
    "for subarr in sampler.blobs:\n",
    "    blobs += subarr\n",
    "blobs = np.array(blobs)\n",
    "\n",
    "rotcurve_index = len(galaxy.bounds) + 1\n",
    "v_tot = np.mean( blobs[:, rotcurve_index])\n",
    "\n",
    "plt.plot(radii_kpc, test_rotation_curve, linewidth=2., label=\"data\", color=\"black\")\n",
    "\n",
    "plt.step(galaxy.bin_edges[:-1], v_tot, where=\"post\", color=black)\n",
    "plt.plot(galaxy.bin_edges[-2:], [v_tot[-1], v_tot[-1], color=black], label=\"total, model\")\n",
    "\n",
    "plt.xlabel(\"r [kpc]\")\n",
    "plt.ylabel(\"v [km/s]\")\n",
    "plt.legend()"
   ]
  },
  {
   "cell_type": "code",
   "execution_count": null,
   "metadata": {},
   "outputs": [],
   "source": []
  }
 ],
 "metadata": {
  "kernelspec": {
   "display_name": "Python 3",
   "language": "python",
   "name": "python3"
  },
  "language_info": {
   "codemirror_mode": {
    "name": "ipython",
    "version": 3
   },
   "file_extension": ".py",
   "mimetype": "text/x-python",
   "name": "python",
   "nbconvert_exporter": "python",
   "pygments_lexer": "ipython3",
   "version": "3.7.4"
  }
 },
 "nbformat": 4,
 "nbformat_minor": 2
}

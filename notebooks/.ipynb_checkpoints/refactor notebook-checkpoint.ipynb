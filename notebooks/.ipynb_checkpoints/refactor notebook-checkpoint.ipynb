{
 "cells": [
  {
   "cell_type": "markdown",
   "metadata": {},
   "source": [
    "1. initialize MCMC parameters\n",
    "2. intialize the Galaxy object with tilted ring params, baryon rotation curves\n",
    "3. generate start position mass model -> generate mock 2d velocity field using Galaxy attributes from (2) -> iterate MCMC "
   ]
  },
  {
   "cell_type": "code",
   "execution_count": 13,
   "metadata": {},
   "outputs": [],
   "source": [
    "import numpy as np\n",
    "import os\n",
    "import sys\n",
    "\n",
    "pwd = os.getcwd()\n",
    "little_things_root_dir = os.path.dirname(pwd)\n",
    "sys.path.append(little_things_root_dir)\n",
    "\n",
    "\n",
    "from little_things_lib.helpers import auto_assign\n",
    "from little_things_lib.galaxy import Galaxy\n",
    "\n",
    "\n",
    "class EmceeParameters:\n",
    "    @auto_assign\n",
    "    def __init__(\n",
    "        self,\n",
    "        ndim,\n",
    "        nwalkers,\n",
    "        nburn, \n",
    "        niter,\n",
    "        nthin,\n",
    "        nthreads\n",
    "    ):\n",
    "        pass\n",
    "    \n"
   ]
  },
  {
   "cell_type": "code",
   "execution_count": 58,
   "metadata": {},
   "outputs": [],
   "source": [
    "data_dir = os.path.join(little_things_root_dir, 'data')"
   ]
  },
  {
   "cell_type": "code",
   "execution_count": 22,
   "metadata": {},
   "outputs": [],
   "source": [
    "# all values are just placeholders for testing that functions work\n",
    "stellar_radii = np.linspace(0, 20, 41)\n",
    "gas_radii = np.linspace(0, 20, 41)\n",
    "stellar_vel = np.linspace(0, 20, 41)\n",
    "gas_vel = np.linspace(0, 20, 41)\n",
    "\n",
    "\n",
    "galaxy = Galaxy(\n",
    "    distance_to_galaxy=32,\n",
    "    deg_per_pixel=4.11e-4,\n",
    "    image_xdim=100,\n",
    "    image_ydim=100,\n",
    "    galaxy_name=None,\n",
    "    vlos_2d_data=None,\n",
    "    output_dir='output',\n",
    "    )\n",
    "\n",
    "galaxy.set_tilted_ring_parameters(\n",
    "    v_systemic=0,\n",
    "    radii=np.linspace(0, 16, 33),\n",
    "    inclination=np.full(33, 45),\n",
    "    position_angle=np.full(33, 15),\n",
    "    x_pix_center=np.full(33, 50),\n",
    "    y_pix_center=np.full(33,50))\n",
    "\n",
    "# TODO: Need to check if the stellar contribution assumes M/L != 1\n",
    "galaxy.interpolate_baryonic_rotation_curve(\n",
    "    baryon_type='stellar',\n",
    "    rotation_curve_radii=stellar_radii,\n",
    "    rotation_curve_velocities=stellar_vel)\n",
    "\n",
    "# initialize MCMC start position and bounds\n",
    "galaxy.set_prior_bounds(\n",
    "    ml_median=0.5,\n",
    "    rmax_prior=False,\n",
    "    vmax_prior=False,\n",
    "    log10_rmax_spread=0.11,\n",
    "    log10_c200_spread = 0.11,\n",
    "    abs_err_vel_factor=0.05,\n",
    "    tophat_width=3)\n",
    "galaxy.get_mcmc_start_position()"
   ]
  },
  {
   "cell_type": "code",
   "execution_count": null,
   "metadata": {},
   "outputs": [],
   "source": []
  }
 ],
 "metadata": {
  "kernelspec": {
   "display_name": "Python 3",
   "language": "python",
   "name": "python3"
  },
  "language_info": {
   "codemirror_mode": {
    "name": "ipython",
    "version": 3
   },
   "file_extension": ".py",
   "mimetype": "text/x-python",
   "name": "python",
   "nbconvert_exporter": "python",
   "pygments_lexer": "ipython3",
   "version": "3.7.3"
  }
 },
 "nbformat": 4,
 "nbformat_minor": 2
}

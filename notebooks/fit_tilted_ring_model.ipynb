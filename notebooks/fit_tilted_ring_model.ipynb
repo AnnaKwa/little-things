{
 "cells": [
  {
   "cell_type": "markdown",
   "metadata": {},
   "source": [
    "### Get tilted ring model parameters\n",
    "\n",
    "This notebook uses the `fitMod3D` task from pyBBarolo to fit inclination angle and position angle for a set of ring.\n",
    "\n",
    "For more details on the parameters, see https://bbarolo.readthedocs.io/en/latest/tasks/fit3d/#ringio"
   ]
  },
  {
   "cell_type": "markdown",
   "metadata": {},
   "source": [
    "If you have not done so already, install the python package pyBBarolo. In your terminal command line, type\n",
    "```\n",
    "sudo pip install pybbarolo\n",
    "```\n",
    "If you do get errors about `pip` not installed, follow the appropriate set of instructions below to install that first.\n",
    "\n",
    "Mac: https://ahmadawais.com/install-pip-macos-os-x-python/\n",
    "\n",
    "Linux: https://www.tecmint.com/install-pip-in-linux/"
   ]
  },
  {
   "cell_type": "code",
   "execution_count": 3,
   "metadata": {},
   "outputs": [],
   "source": [
    "from pyBBarolo import FitMod3D\n",
    "import numpy as np"
   ]
  },
  {
   "cell_type": "markdown",
   "metadata": {},
   "source": [
    "If you cloned (downloaded) this repository to your laptop, there should be a folder called `data`. Keep the galaxy files you collect in this directory."
   ]
  },
  {
   "cell_type": "code",
   "execution_count": 4,
   "metadata": {},
   "outputs": [],
   "source": [
    "# FITS file of the galaxy to model. Change filename as appropriate.\n",
    "filen = \"../data/ngc2403.fits\"\n",
    "\n",
    "# Initializing a 3DFIT object\n",
    "f3d = FitMod3D(filen)"
   ]
  },
  {
   "cell_type": "markdown",
   "metadata": {},
   "source": [
    "The cell below is where you specify the parameters of the fitting function. For example, you need to give it a set list of radii which define the rings of \n",
    "```\n",
    "'radii': [None, 'Radii of the model in arcsec (must be an array)'],\n",
    "'xpos' : [None, 'X-center of the galaxy in pixels'],\n",
    "'ypos' : [None, 'Y center of the galaxy in pixels'],\n",
    "'vsys' : [None, 'Systemic velocity of the galaxy in km/s'],\n",
    "'vrot' : [None, 'Rotation velocity in km/s'],\n",
    "'vdisp': [None, 'Velocity dispersion in km/s'],\n",
    "'vrad' : [None, 'Radial velocity in km/s'],\n",
    "'z0'   : [None, 'Disk scaleheight in arcsec'],\n",
    "'inc'  : [None, 'Inclination angle in degrees'],\n",
    "'phi'  : [None, 'Position angle of the receding part of the major axis (N->W)']\n",
    "```\n",
    "\n",
    "You will have to manually inspect each galaxy's FITS file to come up with appropriate ranges of radii to fit to. Also"
   ]
  },
  {
   "cell_type": "code",
   "execution_count": 5,
   "metadata": {},
   "outputs": [
    {
     "data": {
      "text/plain": [
       "array([ 1, 11, 21, 31, 41, 51, 61, 71, 81, 91])"
      ]
     },
     "execution_count": 5,
     "metadata": {},
     "output_type": "execute_result"
    }
   ],
   "source": [
    "np.arange(1,100,10)"
   ]
  },
  {
   "cell_type": "code",
   "execution_count": 6,
   "metadata": {},
   "outputs": [],
   "source": [
    "f3d.init(\n",
    "    radii=np.arange(0,2000,100),\n",
    "    xpos=77,\n",
    "    ypos=77,\n",
    "    vsys=132.8,\n",
    "    vrot=120,\n",
    "    vdisp=8,\n",
    "    vrad=0,\n",
    "    z0=10,\n",
    "    inc=60,\n",
    "    phi=123.7)"
   ]
  },
  {
   "cell_type": "code",
   "execution_count": 7,
   "metadata": {},
   "outputs": [],
   "source": [
    "f3d.set_options(\n",
    "    mask=\"SEARCH\",\n",
    "    free=\"VROT INC PA\",  \n",
    "    wfunc=2,   # Weighting function to be used in the fit. Accepted values are: 0 = uniform weight, 1 = |cos(θ)| and 2 = cos(θ)^2, default), where θ is the azimuthal angle (= 0 for galaxy major axis).\n",
    "    distance=3.2,    # in kpc\n",
    "    outfolder='../output/ngc2403'    # change the last folder name to the galaxy name\n",
    ")\n",
    "\n",
    "bfrings, bestmod = f3d.compute(threads=4)"
   ]
  },
  {
   "cell_type": "markdown",
   "metadata": {},
   "source": [
    "The array  `bfrings` stores the fit parameters for each ring. By index, the information is ordered:\n",
    "0. Radius (kpc)\n",
    "1. Radius (arcsec)\n",
    "2. Rotational velocity (km/s) ignore this for now, since we want to use the 2D velocity field. Can save this for comparison later\n",
    "3. Velocity dispersion (km/s) \n",
    "4. Inclination (deg)\n",
    "5. Position angle (deg)\n",
    "6. Disk scale height (arcsec)\n",
    "7. Gas surface density- not used\n",
    "8. x pixel position for ring center\n",
    "9. y pixel position for ring center\n",
    "10. systemic velocity (km/s)\n",
    "11. Radial velocity (km/s)"
   ]
  },
  {
   "cell_type": "code",
   "execution_count": 13,
   "metadata": {
    "scrolled": true
   },
   "outputs": [
    {
     "name": "stdout",
     "output_type": "stream",
     "text": [
      "# radius [kpc],  inclinations[deg], position angle[deg]\n",
      "0.0 59.944 119.127\n",
      "1.551 62.287 121.809\n",
      "3.103 62.942 122.687\n",
      "4.654 63.103 123.293\n",
      "6.206 62.882 123.701\n",
      "7.757 62.477 123.878\n",
      "9.309 62.121 123.9\n",
      "10.86 61.937 123.866\n",
      "12.412 61.926 123.816\n",
      "13.963 62.022 123.716\n",
      "15.514 62.126 123.505\n",
      "17.066 62.127 123.178\n",
      "18.617 61.9 122.855\n",
      "20.169 61.32 122.784\n",
      "21.72 60.335 123.239\n",
      "23.272 59.095 124.335\n",
      "24.823 58.07 125.874\n",
      "26.375 57.942 127.362\n",
      "27.926 59.08 128.188\n",
      "29.477 60.91 127.619\n"
     ]
    }
   ],
   "source": [
    "# e.g. to get the inclination and position angle for each ring's radius\n",
    "\n",
    "print('# radius [kpc],  inclinations[deg], position angle[deg]')\n",
    "for r in bfrings:\n",
    "    print(r[0], r[4], r[5])  # index 4 is inclination, index 5 is position angle"
   ]
  },
  {
   "cell_type": "code",
   "execution_count": null,
   "metadata": {},
   "outputs": [],
   "source": []
  }
 ],
 "metadata": {
  "kernelspec": {
   "display_name": "Python 3",
   "language": "python",
   "name": "python3"
  },
  "language_info": {
   "codemirror_mode": {
    "name": "ipython",
    "version": 3
   },
   "file_extension": ".py",
   "mimetype": "text/x-python",
   "name": "python",
   "nbconvert_exporter": "python",
   "pygments_lexer": "ipython3",
   "version": "3.7.3"
  }
 },
 "nbformat": 4,
 "nbformat_minor": 2
}

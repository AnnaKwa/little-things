{
 "cells": [
  {
   "cell_type": "markdown",
   "metadata": {},
   "source": [
    "#### Provide the data in following naming convention in 'data' directory:\n",
    "\n",
    "- 2D observed velocity field FITS file: `<galaxy_name>_1mom.fits`\n",
    "- Bbarolo fit parameters text file: `<galaxy_name>_ring_parameters.txt`\n",
    "- Stellar velocity curve: `<galaxy_name>_stellar_velocities.txt`\n",
    "- Gas velocity_curve: `<galaxy_name>_gas_velocities.txt`"
   ]
  },
  {
   "cell_type": "code",
   "execution_count": 15,
   "metadata": {},
   "outputs": [
    {
     "data": {
      "text/html": [
       "<style>.container { width:95% !important; }</style>"
      ],
      "text/plain": [
       "<IPython.core.display.HTML object>"
      ]
     },
     "metadata": {},
     "output_type": "display_data"
    }
   ],
   "source": [
    "from IPython.core.display import display, HTML\n",
    "display(HTML(\"<style>.container { width:95% !important; }</style>\"))\n",
    "\n",
    "\n",
    "from astropy.io import fits\n",
    "from emcee import EnsembleSampler\n",
    "import numpy as np\n",
    "import os\n",
    "import sys\n",
    "\n",
    "pwd = os.getcwd()\n",
    "little_things_root_dir = os.path.dirname(pwd)\n",
    "sys.path.append(little_things_root_dir)\n",
    "\n",
    "from little_things_lib.galaxy import Galaxy\n",
    "from little_things_lib.mcmc_fitter import (\n",
    "    EmceeParameters,\n",
    "    get_mcmc_start_position, \n",
    "    generate_nwalkers_start_points, \n",
    "    lnprob)\n",
    "from little_things_lib.plotting import plot_posterior_distributions, plot_walker_paths"
   ]
  },
  {
   "cell_type": "markdown",
   "metadata": {},
   "source": [
    "## Enter parameters for galaxy in cell below"
   ]
  },
  {
   "cell_type": "code",
   "execution_count": 2,
   "metadata": {},
   "outputs": [],
   "source": [
    "galaxy_name = 'UGC3974'\n",
    "\n",
    "X_DIM, Y_DIM = 1024,1024\n",
    "DEG_PER_PIXEL = 4.17e-4\n",
    "DISTANCE = 8000 # kpc\n",
    "\n",
    "# can leave these as any number for now, not used\n",
    "LUMINOSITY = 1e8  # solar luminositiy\n",
    "HI_MASS = 1e8  # solar masses"
   ]
  },
  {
   "cell_type": "code",
   "execution_count": 3,
   "metadata": {},
   "outputs": [],
   "source": [
    "mcmc_params = EmceeParameters(\n",
    "    ndim=4,\n",
    "    nwalkers=10, \n",
    "    nburn=50,\n",
    "    niter=200,\n",
    "    nthin=0,\n",
    "    nthreads=4\n",
    ")"
   ]
  },
  {
   "cell_type": "code",
   "execution_count": 4,
   "metadata": {},
   "outputs": [],
   "source": [
    "\"\"\"\n",
    "Expect the data to be provided in following naming convention in 'data' directory:\n",
    "\n",
    "2D observed velocity field FITS file: <galaxy_name>_1mom.fits\n",
    "Bbarolo fit parameters text file: <galaxy_name>_ring_parameters.txt\n",
    "Stellar velocity curve: <galaxy_name>_stellar_velocities.txt\n",
    "Gas velocity_curve: <galaxy_name>_gas_velocities.txt\n",
    "\n",
    "\"\"\"\n",
    "\n",
    "\n",
    "data_dir = os.path.join(little_things_root_dir, 'data')\n",
    "\n",
    "observed_2d_vel_field_fits_file = os.path.join(data_dir, f'{galaxy_name}_1mom.fits')\n",
    "ring_parameters_file = os.path.join(data_dir, f'{galaxy_name}_ring_parameters.txt')\n",
    "\n",
    "stellar_velocities_file = os.path.join(data_dir, f'{galaxy_name}_stellar_velocities.txt')\n",
    "gas_velocities_file = os.path.join(data_dir, f'{galaxy_name}_gas_velocities.txt')\n"
   ]
  },
  {
   "cell_type": "code",
   "execution_count": 5,
   "metadata": {
    "scrolled": true
   },
   "outputs": [],
   "source": [
    "radii_kpc, test_rotation_curve, inclinations, position_angles, x_centers, y_centers , v_systemics = \\\n",
    "    np.loadtxt(ring_parameters_file, usecols=(0,2,4,5,-4,-3,-2)).T\n",
    "\n",
    "avg_inclination = np.mean(inclinations)\n",
    "avg_position_angle = np.mean(position_angles)\n",
    "avg_x_center = np.mean(x_centers)\n",
    "avg_y_center = np.mean(y_centers)\n",
    "v_systemic = np.mean(v_systemics)\n",
    "\n",
    "observed_2d_vel_field = fits.open(observed_2d_vel_field_fits_file)[0].data\n",
    "\n",
    "#stellar_radii, stellar_vel = np.loadtxt(stellar_velocities_file, unpack=True)\n",
    "#gas_radii, gas_vel = np.loadtxt(gas_velocities_file, unpack=True)"
   ]
  },
  {
   "cell_type": "code",
   "execution_count": 6,
   "metadata": {},
   "outputs": [],
   "source": [
    "# all values are just placeholders for testing that functions work\n",
    "stellar_radii = np.linspace(0, 450, 41)\n",
    "gas_radii = np.linspace(0, 450, 41)\n",
    "stellar_vel = np.linspace(0, 450, 41)\n",
    "gas_vel = np.linspace(0, 450, 41)"
   ]
  },
  {
   "cell_type": "code",
   "execution_count": 7,
   "metadata": {},
   "outputs": [],
   "source": [
    "stellar_radii = np.linspace(0, 4500, 41)\n",
    "gas_radii = np.linspace(0, 4500, 41)\n",
    "stellar_vel = np.linspace(0, 20, 41)\n",
    "gas_vel = np.linspace(0, 40, 41)"
   ]
  },
  {
   "cell_type": "code",
   "execution_count": 8,
   "metadata": {},
   "outputs": [],
   "source": [
    "galaxy = Galaxy(\n",
    "    distance_to_galaxy=DISTANCE,  # [kpc] Look this up for the galaxy \n",
    "    deg_per_pixel=DEG_PER_PIXEL ,  # 'CRDELT1' and 'CRDELT2' in the FITS file header (use absolute value)\n",
    "    image_xdim=X_DIM,\n",
    "    image_ydim=Y_DIM,\n",
    "    galaxy_name=galaxy_name,\n",
    "    vlos_2d_data=observed_2d_vel_field,\n",
    "    output_dir='output',\n",
    "    luminosity=LUMINOSITY,\n",
    "    HI_mass=HI_MASS)\n",
    "\n",
    "tilted_ring_params = {\n",
    "    'v_systemic': v_systemic,\n",
    "    'radii': radii_kpc,   \n",
    "    'inclination': inclinations,\n",
    "    'position_angle': position_angles,\n",
    "    'x_pix_center': x_centers,\n",
    "    'y_pix_center': y_centers\n",
    "}\n",
    "\n",
    "galaxy.set_tilted_ring_parameters(**tilted_ring_params)\n",
    "\n",
    "galaxy.interpolate_baryonic_rotation_curve(\n",
    "    baryon_type='stellar',\n",
    "    rotation_curve_radii=stellar_radii,\n",
    "    rotation_curve_velocities=stellar_vel)\n",
    "\n",
    "galaxy.interpolate_baryonic_rotation_curve(\n",
    "    baryon_type='gas',\n",
    "    rotation_curve_radii=gas_radii,\n",
    "    rotation_curve_velocities=gas_vel)\n",
    "\n",
    "# initialize MCMC start position and bounds\n",
    "galaxy.set_prior_bounds(\n",
    "    cross_section_bounds=(1, 3),\n",
    "    rate_bounds=(2, 1e4),\n",
    "    sigma0_bounds=(2, 200),\n",
    "    ml_bounds=(0.1, 10),\n",
    "    ml_median=0.5,\n",
    "    rmax_prior=False,\n",
    "    vmax_prior=False,\n",
    "    log10_rmax_spread=0.11,\n",
    "    log10_c200_spread = 0.11,\n",
    "    abs_err_vel_factor=0.05,\n",
    "    tophat_width=3)"
   ]
  },
  {
   "cell_type": "code",
   "execution_count": 49,
   "metadata": {
    "scrolled": true
   },
   "outputs": [
    {
     "data": {
      "text/plain": [
       "(array([[2.74783639e+08, 3.21064733e+00, 9.12871690e-01, 1.45536472e+00],\n",
       "        [2.74783639e+08, 3.10252195e+00, 9.94194260e-01, 8.54528078e-01],\n",
       "        [2.74783639e+08, 3.21914806e+00, 9.51823089e-01, 1.48664154e+00],\n",
       "        [2.74783639e+08, 3.16535882e+00, 1.07765199e+00, 6.48908415e-01],\n",
       "        [2.74783639e+08, 3.22325562e+00, 9.57770149e-01, 6.87850565e-01],\n",
       "        [2.74783639e+08, 3.26692287e+00, 1.04448216e+00, 1.39929626e+00],\n",
       "        [2.74783639e+08, 3.24043858e+00, 9.72833114e-01, 9.13417915e-01],\n",
       "        [2.74783639e+08, 3.22256971e+00, 1.02291308e+00, 7.34190426e-01],\n",
       "        [2.74783639e+08, 3.20598907e+00, 1.07898981e+00, 1.52260763e+00],\n",
       "        [2.74783639e+08, 3.10199618e+00, 9.26548967e-01, 1.49503487e+00]]),\n",
       " array([-inf, -inf, -inf, -inf, -inf, -inf, -inf, -inf, -inf, -inf]),\n",
       " ('MT19937', array([ 721683027, 1060483969, 3107977817, 3641476375, 4014697533,\n",
       "          493950140,  873314487, 3441574951,  555365065, 2771678533,\n",
       "         3280995071, 2867872480, 2703345817,  277404725, 3212226971,\n",
       "         2922157328, 4235165108,  929728379,  635422879, 3072185509,\n",
       "         2524921002,  736207348, 3156397147, 3051078817, 2456309097,\n",
       "         1339541159, 4098449059, 2021358350, 2810572446, 2535667421,\n",
       "          901713571, 4281789283, 1702210373, 1878469485, 3619963526,\n",
       "         2907912723,  604553838, 1981891266, 2744918935,  780644053,\n",
       "         3884181039, 3384054899, 2241272142, 3016449782, 3477599592,\n",
       "         2841843314, 1610281000, 1280203114, 2431191442, 3174729757,\n",
       "         2852269841, 1441887857,  843893580, 2086934383,  902515584,\n",
       "         1241456849, 3533463885,  104026846, 1548112518, 1479474640,\n",
       "         2798954460, 2935823135, 2271144530,  196875978, 1559068627,\n",
       "          358622710, 3820120700, 4041783930, 4235948325,  849887811,\n",
       "         2389775609, 2756592757, 3099997574, 2180661314, 2503966074,\n",
       "         2654787671, 2220723849, 1397509986, 3660951218, 3537742307,\n",
       "          797315524, 3093742250, 3700064963, 2169304488, 1483824385,\n",
       "           56442887, 2241056773, 3862846548, 1328447214, 3914831763,\n",
       "         3243969037, 3136680103, 2662505181, 3853249108, 2483000577,\n",
       "         3417142712, 1292810921, 1887742638,  793220326,  950961728,\n",
       "         1851420337, 1501064249, 3560947665,  119221165,  954273238,\n",
       "         1625604682, 3415114780, 3532785091, 2587780965, 3988579984,\n",
       "         1402531648, 1353192668, 4269150462, 3181508752,  288727665,\n",
       "         4020439953, 1072599691, 4158079282,   10749861, 3540102796,\n",
       "          265406694,   10495537,  347470219, 1799114398, 3414367531,\n",
       "         3712720983, 2840047377, 2608810904,  368110014, 1915291856,\n",
       "          978358989,  579587936,  214874087, 2880440434, 1814313409,\n",
       "         4066866755, 3406992515, 2758245701,   73327262,   31580837,\n",
       "         3867017411, 3189644182, 1469839568, 2859972341, 2775191164,\n",
       "         1298005954, 2461311654, 2702401356, 3789425131, 2944863858,\n",
       "          844789104,  706384901, 4075764207,  510332829, 4132383022,\n",
       "         3638766691, 2013591370, 2233211109, 1778214477, 1647169347,\n",
       "         2431836285, 3956270303, 1004218596, 2799147277, 3143427738,\n",
       "         3907104978, 1238939485, 2612839976, 2414501834, 3545720730,\n",
       "         1047948089, 4264547519,  444935209, 2815274495,  963222037,\n",
       "         3471275851, 3554563650, 2667112125, 3192303090, 1189685731,\n",
       "         2263410152, 2992501186, 2922072128, 2526604510, 2622058471,\n",
       "         4010953904,  450514527, 3127968859, 3313421955, 2502469650,\n",
       "         1914706971, 3647843166, 3822408137, 1628412249,  793537055,\n",
       "         1227262396, 1553684445, 1163616939,  919012982,  127743001,\n",
       "         1611627268, 2220012910,  264294684, 1220357584, 1387542667,\n",
       "         2479385803, 1591855128, 1605452830,  177185470, 1782817896,\n",
       "         2297744459, 2970017819, 3725519659,  718447960, 1385613075,\n",
       "         3820152448,  823243214,  231751108, 2700340558, 3553183531,\n",
       "         1378589448, 1414219761, 3301682759,  916723191, 2286281393,\n",
       "         4115388968,  702157568, 4019421411, 3972649681,  174338450,\n",
       "         2850605216,    2140541, 3314470146, 1012617413, 3728832211,\n",
       "          797191618, 1325600085,  862481425,  229558786, 1099459865,\n",
       "         2355458196, 2335500514, 3926538218, 2219059846,  203211090,\n",
       "           70893966, 1778557276, 1450371258, 2790011933, 3129271512,\n",
       "         3416248080, 1531354730, 1638637810,  660827062, 1426305780,\n",
       "          446778443, 2286717545, 1297251410, 1581029010, 3110387008,\n",
       "         2917168808,  159013811, 1048135188,  749909324, 1978127650,\n",
       "          483385379,  815051693, 1148002664, 1441044882, 1468785497,\n",
       "         2143976355, 3122421333,  630844167, 3379218976,   34302579,\n",
       "         1398015549,  394421199, 3542270128, 2304692298, 4280423476,\n",
       "         3423956980, 4032284114, 2365639153, 2378688869, 2046212129,\n",
       "         3912660278, 3537665573, 3295876498, 3798237137, 2969381702,\n",
       "           53642451, 3992093607, 1356987313,  209339528, 2298308394,\n",
       "         3419327743, 3201533946, 3381748291,   46659979, 3684878268,\n",
       "         2136730440, 1020407419, 1040837350, 4046821789, 1149564923,\n",
       "         1698021966, 2138761598, 3552514407, 3666365763, 2846709437,\n",
       "         1466891029, 3027737970, 3916793573,  729091397, 2838671278,\n",
       "         3401662883,  902411475, 1749582361,  700517603,  712429113,\n",
       "         1589133333,  460595849,  526587064, 2174393814,  769984274,\n",
       "         4180699644, 2746478229, 1137679634, 2109720986, 1816690235,\n",
       "         4080473736, 3809735230, 1144046726,  701359607, 4172508358,\n",
       "         3853336056, 3317081421, 2331336317, 2509729330, 2118555048,\n",
       "         2489754769, 1968740818, 3572897107, 2104912010, 1544380514,\n",
       "         3312211589, 3353981028, 3360828290, 1483475424, 3777972660,\n",
       "         3349596828, 3090279144, 1800787156, 3654416541, 1498411962,\n",
       "         1805491154, 2139461974, 3497655231, 1921470392,  573312208,\n",
       "          404287428, 1401719843, 1506350952, 3042583756, 2397885800,\n",
       "         1163458974,  109448283, 1112767870, 1979325189, 1031230831,\n",
       "         2458628396, 1235186008,  753477961, 1184612348, 2416439787,\n",
       "         1458099826, 1738656317,   13982352, 3709432685, 1196771015,\n",
       "         3945475362,    8777479, 1763899045,  228892678,  551670680,\n",
       "         2086855699, 2927565622, 1748337284, 1625096858,  709730438,\n",
       "          557315463, 2897156152, 3984551402, 2413709196, 2496561928,\n",
       "         2063591009, 2664946806, 1547718369, 2421616250, 2882400871,\n",
       "         2697351796, 2954793477,  668114595, 4220507889, 3679970289,\n",
       "         3880791371,  976494910, 3585910266,  196850128, 3991944171,\n",
       "         3177073278, 1631721376, 3042490065, 1135412688, 1441041414,\n",
       "         1684481881, 4252680871,  362855242, 3558948147, 2507764638,\n",
       "         3518624040, 2524627202, 1333931740,  477636513, 1574050227,\n",
       "         2603671095, 1981008553, 3722879890, 1181028064, 2254881174,\n",
       "         1817348633, 3863581305, 3509224482,  503987052, 4281760485,\n",
       "         2129847494, 2549817187,  571798310, 3062593021, 3855125885,\n",
       "         2195101776,  683002349,  675187675,  453607645, 1826832265,\n",
       "         2202654739, 3483265126,  372091455, 2842713318,   61570271,\n",
       "         2272938042, 2021815387,  809818517, 3818137843, 1522453737,\n",
       "         1982001929, 1398468353, 1578834101, 3344538101, 3820823038,\n",
       "           65946692, 2022102580, 1597256351,  478039692,   64501230,\n",
       "         2179239897, 4080185139, 3083992081, 1293506847,  999628087,\n",
       "         3735341911, 1177151618, 2839505351, 2249397914, 1569853037,\n",
       "         3386757145, 1931286938,  589922789, 3479702355, 3149531066,\n",
       "          934950636, 2751186080, 3464919208, 2096018913, 1158864371,\n",
       "          402492427, 1373836081, 2458513705,  429236169, 1891926810,\n",
       "         3903357484, 2740817664, 1417231621, 3567060452, 1624367394,\n",
       "         4180182404, 1168281958, 2031361952, 1752952692, 2991212703,\n",
       "           27351173, 1685972296, 2584424459, 3266467596, 3506262379,\n",
       "         3549422234, 1433537468, 1893475891, 2575654772,  970317988,\n",
       "         2994365829, 2899917029, 1853669758, 3974400855, 1959993679,\n",
       "         2314178697,  320072815,  921331831,  612408120,  388258179,\n",
       "         3211662973, 3464734665, 3873647812, 4254640429, 2695710070,\n",
       "         3764855764, 1460563608, 1025167854, 2456603775, 1516392621,\n",
       "         1224575415, 2975776712, 2749538491, 2558948628, 4010390773,\n",
       "         1079078916,  160087785, 1413532067, 1810357722,  394011481,\n",
       "         3117248374, 3663528105, 3273472561, 3467462445, 3212252183,\n",
       "         2611134577, 2465237457,  740455565, 4263545735, 1300072652,\n",
       "         1425847384, 1166097740, 2999298818, 4114343955, 3873578511,\n",
       "         3022965179,   40350421,  710400309, 2186914362, 2135943946,\n",
       "         1418353493, 4007374016, 1045756660, 1178542994, 3270352491,\n",
       "         1352211509, 1189685213,  394840095, 4271538944, 1054620513,\n",
       "         4011221868,  888657048, 1989849522, 3272848706, 1591460661,\n",
       "         2979946339,  572599230, 3893269746, 3967169008, 2223413037,\n",
       "         3499600098, 3836425299, 1494957464, 1786318504,  557439466,\n",
       "         1147851430, 3345325114,  148923751, 1892674681,  179540213,\n",
       "         2839536824, 1503730817, 2701167364, 2868582557, 2038480907,\n",
       "          985321566, 1275703286, 1816078033, 2399565470, 1233373018,\n",
       "         3571845092, 2676867913, 1458675038, 3382579987, 1750323959,\n",
       "         1814279133, 1213020448, 1781134521, 2223123139,  464994678,\n",
       "         3952064116, 1547716345, 2121866517, 2360097875,  460779468,\n",
       "         1885868644, 1391765219, 1707916392,  128081243,  780478767,\n",
       "         4196299214, 1487854683, 1501357186,  308112768], dtype=uint32), 561, 0, 0.0),\n",
       " [0, 0, 0, 0, 0, 0, 0, 0, 0, 0])"
      ]
     },
     "execution_count": 49,
     "metadata": {},
     "output_type": "execute_result"
    }
   ],
   "source": [
    "\n",
    "start_point, start_point_radii = get_mcmc_start_position(galaxy)\n",
    "start_pos = generate_nwalkers_start_points(mcmc_params.nwalkers, start_point, start_point_radii)\n",
    "\n",
    "sampler = EnsembleSampler(\n",
    "    mcmc_params.nwalkers,\n",
    "    mcmc_params.ndim, \n",
    "    lnprob, \n",
    "    args=[galaxy], \n",
    "    threads=mcmc_params.nthreads)\n",
    "sampler.run_mcmc(start_pos, mcmc_params.niter)\n",
    "\n"
   ]
  },
  {
   "cell_type": "markdown",
   "metadata": {},
   "source": [
    "#### Examples of plotting the fit parameter results\n",
    "\n",
    "*These currently show that there is a bug in the code- the MCMC code should be trying many different values, and not staying in place!*"
   ]
  },
  {
   "cell_type": "code",
   "execution_count": 19,
   "metadata": {},
   "outputs": [
    {
     "data": {
      "image/png": "[encoded data removed]",
      "text/plain": [
       "<Figure size 360x1152 with 4 Axes>"
      ]
     },
     "metadata": {
      "needs_background": "light"
     },
     "output_type": "display_data"
    }
   ],
   "source": [
    "plot_posterior_distributions(sampler)"
   ]
  },
  {
   "cell_type": "code",
   "execution_count": 51,
   "metadata": {},
   "outputs": [
    {
     "data": {
      "image/png": "[encoded data removed]",
      "text/plain": [
       "<Figure size 720x1440 with 4 Axes>"
      ]
     },
     "metadata": {
      "needs_background": "light"
     },
     "output_type": "display_data"
    }
   ],
   "source": [
    "plot_walker_paths(sampler, mcmc_params)"
   ]
  },
  {
   "cell_type": "code",
   "execution_count": null,
   "metadata": {},
   "outputs": [],
   "source": []
  }
 ],
 "metadata": {
  "kernelspec": {
   "display_name": "Python 3",
   "language": "python",
   "name": "python3"
  },
  "language_info": {
   "codemirror_mode": {
    "name": "ipython",
    "version": 3
   },
   "file_extension": ".py",
   "mimetype": "text/x-python",
   "name": "python",
   "nbconvert_exporter": "python",
   "pygments_lexer": "ipython3",
   "version": "3.7.3"
  }
 },
 "nbformat": 4,
 "nbformat_minor": 2
}

{
 "cells": [
  {
   "cell_type": "markdown",
   "metadata": {},
   "source": [
    "1. initialize MCMC parameters\n",
    "2. intialize the Galaxy object with tilted ring params, baryon rotation curves\n",
    "3. generate start position mass model -> generate mock 2d velocity field using Galaxy attributes from (2) -> iterate MCMC "
   ]
  },
  {
   "cell_type": "code",
   "execution_count": 1,
   "metadata": {},
   "outputs": [],
   "source": [
    "from IPython.core.display import display, HTML\n",
    "display(HTML(\"<style>.container { width:95% !important; }</style>\"))\n",
    "\n",
    "from emcee import EnsembleSampler\n",
    "\n",
    "import numpy as np\n",
    "import os\n",
    "import sys\n",
    "\n",
    "pwd = os.getcwd()\n",
    "little_things_root_dir = os.path.dirname(pwd)\n",
    "sys.path.append(little_things_root_dir)\n",
    "\n",
    "\n",
    "from little_things_lib.helpers import auto_assign\n",
    "from little_things_lib.galaxy import Galaxy\n",
    "from little_things_lib.mcmc_fitter import (\n",
    "    EmceeParameters,\n",
    "    get_mcmc_start_position, \n",
    "    generate_nwalkers_start_points, \n",
    "    lnprob)\n",
    "\n",
    "class EmceeParameters:\n",
    "    @auto_assign\n",
    "    def __init__(\n",
    "        self,\n",
    "        ndim,\n",
    "        nwalkers,\n",
    "        nburn, \n",
    "        niter,\n",
    "        nthin,\n",
    "        nthreads\n",
    "    ):\n",
    "        pass\n",
    "    \n"
   ]
  },
  {
   "cell_type": "code",
   "execution_count": null,
   "metadata": {},
   "outputs": [],
   "source": [
    "mcmc_params = EmceeParameters(\n",
    "    ndim=4,\n",
    "    nwalkers=10, \n",
    "    nburn=50,\n",
    "    niter=200,\n",
    "    nthin=0,\n",
    "    nthread=4\n",
    ")"
   ]
  },
  {
   "cell_type": "code",
   "execution_count": 2,
   "metadata": {},
   "outputs": [],
   "source": [
    "data_dir = os.path.join(little_things_root_dir, 'data')"
   ]
  },
  {
   "cell_type": "code",
   "execution_count": 3,
   "metadata": {},
   "outputs": [],
   "source": [
    "# all values are just placeholders for testing that functions work\n",
    "stellar_radii = np.linspace(0, 20, 41)\n",
    "gas_radii = np.linspace(0, 20, 41)\n",
    "stellar_vel = np.linspace(0, 20, 41)\n",
    "gas_vel = np.linspace(0, 20, 41)\n",
    "\n",
    "mcmc_parameters = EmceeParameters(\n",
    "    ndim=4,\n",
    "    nwalkers=10,\n",
    "    nburn=10,\n",
    "    niter=50,\n",
    "    nthin=0,\n",
    "    nthreads=4)\n",
    "\n",
    "# set a mock 'observed' 2d velocity field for testing purposes\n",
    "test_velocity_2d_field = np.load('test_2d_velocity_field_100x100.npy')\n",
    "\n",
    "galaxy = Galaxy(\n",
    "    distance_to_galaxy=32,\n",
    "    deg_per_pixel=4.11e-4,\n",
    "    image_xdim=100,\n",
    "    image_ydim=100,\n",
    "    galaxy_name=None,\n",
    "    vlos_2d_data=test_velocity_2d_field,\n",
    "    output_dir='output',\n",
    "    luminosity=1e8,\n",
    "    HI_mass=1e6)\n",
    "\n",
    "galaxy.set_tilted_ring_parameters(\n",
    "    v_systemic=0,\n",
    "    radii=np.linspace(0.1, 16, 33),\n",
    "    inclination=np.full(33, 45),\n",
    "    position_angle=np.full(33, 15),\n",
    "    x_pix_center=np.full(33, 50),\n",
    "    y_pix_center=np.full(33,50))\n",
    "\n",
    "# TODO: Need to check if the stellar contribution assumes M/L != 1\n",
    "galaxy.interpolate_baryonic_rotation_curve(\n",
    "    baryon_type='stellar',\n",
    "    rotation_curve_radii=stellar_radii,\n",
    "    rotation_curve_velocities=stellar_vel)\n",
    "\n",
    "galaxy.interpolate_baryonic_rotation_curve(\n",
    "    baryon_type='gas',\n",
    "    rotation_curve_radii=gas_radii,\n",
    "    rotation_curve_velocities=gas_vel)\n",
    "\n",
    "# initialize MCMC start position and bounds\n",
    "galaxy.set_prior_bounds(\n",
    "    cross_section_bounds=(2.99, 3.001),\n",
    "    rate_bounds=(2, 1e4),\n",
    "    sigma0_bounds=(2, 1e3),\n",
    "    ml_bounds=(0.1, 10),\n",
    "    ml_median=0.5,\n",
    "    rmax_prior=False,\n",
    "    vmax_prior=False,\n",
    "    log10_rmax_spread=0.11,\n",
    "    log10_c200_spread = 0.11,\n",
    "    abs_err_vel_factor=0.05,\n",
    "    tophat_width=3)\n"
   ]
  },
  {
   "cell_type": "code",
   "execution_count": 5,
   "metadata": {
    "scrolled": true
   },
   "outputs": [],
   "source": [
    "nwalkers, ndim= 10, 4\n",
    "\n",
    "start_point, start_point_radii = get_mcmc_start_position(galaxy)\n",
    "start_pos = generate_nwalkers_start_points(mcmc_params.nwalkers, start_point, start_point_radii)\n",
    "\n",
    "sampler = EnsembleSampler(\n",
    "    mcmc_params.nwalkers,\n",
    "    mcmc_params.ndim, \n",
    "    lnprob, \n",
    "    args=[galaxy], \n",
    "    mcmc_params.nthreads)\n",
    "sampler.run_mcmc(start_pos, mcmc_params.niter)\n"
   ]
  },
  {
   "cell_type": "code",
   "execution_count": null,
   "metadata": {},
   "outputs": [],
   "source": [
    "fits.open("
   ]
  }
 ],
 "metadata": {
  "kernelspec": {
   "display_name": "Python 3",
   "language": "python",
   "name": "python3"
  },
  "language_info": {
   "codemirror_mode": {
    "name": "ipython",
    "version": 3
   },
   "file_extension": ".py",
   "mimetype": "text/x-python",
   "name": "python",
   "nbconvert_exporter": "python",
   "pygments_lexer": "ipython3",
   "version": "3.7.3"
  }
 },
 "nbformat": 4,
 "nbformat_minor": 2
}

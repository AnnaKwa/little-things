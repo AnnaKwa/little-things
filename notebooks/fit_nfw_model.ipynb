{
 "cells": [
  {
   "cell_type": "code",
   "execution_count": null,
   "metadata": {},
   "outputs": [],
   "source": [
    "from IPython.core.display import display, HTML\n",
    "display(HTML(\"<style>.container { width:95% !important; }</style>\"))\n",
    "\n",
    "\n",
    "from astropy.io import fits\n",
    "import dill as pickle\n",
    "from emcee import EnsembleSampler\n",
    "import numpy as np\n",
    "import os\n",
    "import sys\n",
    "\n",
    "pwd = os.getcwd()\n",
    "little_things_root_dir = os.path.dirname(pwd)\n",
    "sys.path.append(little_things_root_dir)\n",
    "\n",
    "from little_things_lib.galaxy import Galaxy\n",
    "from little_things_lib.nfw_mcmc_fitter import (\n",
    "    EmceeParameters,\n",
    "    get_mcmc_start_position, \n",
    "    generate_nwalkers_start_points, \n",
    "    lnprob)\n",
    "from little_things_lib.plotting import plot_posterior_distributions, plot_walker_paths"
   ]
  },
  {
   "cell_type": "code",
   "execution_count": null,
   "metadata": {},
   "outputs": [],
   "source": [
    "%matplotlib inline\n",
    "import matplotlib.pyplot as plt"
   ]
  },
  {
   "cell_type": "markdown",
   "metadata": {},
   "source": [
    "## Enter parameters for galaxy in cell below"
   ]
  },
  {
   "cell_type": "code",
   "execution_count": null,
   "metadata": {},
   "outputs": [],
   "source": [
    "galaxy_name = 'UGC3974'\n",
    "\n",
    "DEG_PER_PIXEL = 4.17e-4\n",
    "DISTANCE = 8000 # kpc\n",
    "\n",
    "# can leave these as any number for now, not used\n",
    "LUMINOSITY = 1e8  # solar luminositiy\n",
    "HI_MASS = 1e8  # solar masses"
   ]
  },
  {
   "cell_type": "code",
   "execution_count": null,
   "metadata": {},
   "outputs": [],
   "source": [
    "mcmc_params = EmceeParameters(\n",
    "    ndim=3,\n",
    "    nwalkers=10, \n",
    "    nburn=0,\n",
    "    niter=10,\n",
    "    nthin=0,\n",
    "    nthreads=4\n",
    ")"
   ]
  },
  {
   "cell_type": "code",
   "execution_count": null,
   "metadata": {},
   "outputs": [],
   "source": [
    "\"\"\"\n",
    "Expect the data to be provided in following naming convention in 'data' directory:\n",
    "\n",
    "2D observed velocity field FITS file: <galaxy_name>_1mom.fits\n",
    "Bbarolo fit parameters text file: <galaxy_name>_ring_parameters.txt\n",
    "Stellar velocity curve: <galaxy_name>_stellar_velocities.txt\n",
    "Gas velocity_curve: <galaxy_name>_gas_velocities.txt\n",
    "\n",
    "\"\"\"\n",
    "\n",
    "\n",
    "data_dir = os.path.join(little_things_root_dir, 'data')\n",
    "\n",
    "observed_2d_vel_field_fits_file = os.path.join(data_dir, f'{galaxy_name}_1mom.fits')\n",
    "ring_parameters_file = os.path.join(data_dir, f'{galaxy_name}_ring_parameters.txt')\n",
    "\n",
    "stellar_velocities_file = os.path.join(data_dir, f'{galaxy_name}_stellar_velocities.txt')\n",
    "gas_velocities_file = os.path.join(data_dir, f'{galaxy_name}_gas_velocities.txt')\n"
   ]
  },
  {
   "cell_type": "code",
   "execution_count": null,
   "metadata": {
    "scrolled": true
   },
   "outputs": [],
   "source": [
    "radii_kpc, test_rotation_curve, inclinations, position_angles, x_centers, y_centers , v_systemics = \\\n",
    "    np.loadtxt(ring_parameters_file, usecols=(0,2,4,5,-4,-3,-2)).T\n",
    "\n",
    "avg_inclination = np.mean(inclinations)\n",
    "avg_position_angle = np.mean(position_angles)\n",
    "avg_x_center = np.mean(x_centers)\n",
    "avg_y_center = np.mean(y_centers)\n",
    "v_systemic = np.mean(v_systemics)\n",
    "\n",
    "observed_2d_vel_field = fits.open(observed_2d_vel_field_fits_file)[0].data\n",
    "\n",
    "#stellar_radii, stellar_vel = np.loadtxt(stellar_velocities_file, unpack=True)\n",
    "#gas_radii, gas_vel = np.loadtxt(gas_velocities_file, unpack=True)"
   ]
  },
  {
   "cell_type": "code",
   "execution_count": null,
   "metadata": {},
   "outputs": [],
   "source": [
    "stellar_radii = np.linspace(0, 4500, 41)\n",
    "gas_radii = np.linspace(0, 4500, 41)\n",
    "stellar_vel = np.linspace(0, 1, 41)\n",
    "gas_vel = np.linspace(0, 1, 41)"
   ]
  },
  {
   "cell_type": "code",
   "execution_count": null,
   "metadata": {},
   "outputs": [],
   "source": [
    "galaxy = Galaxy(\n",
    "    distance_to_galaxy=DISTANCE,  # [kpc] Look this up for the galaxy \n",
    "    deg_per_pixel=DEG_PER_PIXEL ,  # 'CRDELT1' and 'CRDELT2' in the FITS file header (use absolute value)\n",
    "    galaxy_name=galaxy_name,\n",
    "    vlos_2d_data=observed_2d_vel_field,\n",
    "    output_dir='output',\n",
    "    luminosity=LUMINOSITY,\n",
    "    HI_mass=HI_MASS)\n",
    "\n",
    "tilted_ring_params = {\n",
    "    'v_systemic': v_systemic,\n",
    "    'radii': radii_kpc,   \n",
    "    'inclination': inclinations,\n",
    "    'position_angle': position_angles,\n",
    "    'x_pix_center': x_centers,\n",
    "    'y_pix_center': y_centers\n",
    "}\n",
    "\n",
    "galaxy.set_tilted_ring_parameters(**tilted_ring_params)\n",
    "\n",
    "galaxy.interpolate_baryonic_rotation_curve(\n",
    "    baryon_type='stellar',\n",
    "    rotation_curve_radii=stellar_radii,\n",
    "    rotation_curve_velocities=stellar_vel)\n",
    "\n",
    "galaxy.interpolate_baryonic_rotation_curve(\n",
    "    baryon_type='gas',\n",
    "    rotation_curve_radii=gas_radii,\n",
    "    rotation_curve_velocities=gas_vel)\n",
    "\n",
    "# initialize MCMC start position and bounds\n",
    "galaxy.set_nfw_prior_bounds(\n",
    "    rhos_bounds=(1e6, 1e9),   # msun / kpc^3\n",
    "    rs_bounds=(0.1, 10),  # kpc\n",
    "    ml_bounds=(0.1, 10),\n",
    "  \n",
    ")"
   ]
  },
  {
   "cell_type": "code",
   "execution_count": null,
   "metadata": {},
   "outputs": [],
   "source": [
    "v=galaxy.create_2d_velocity_field(\n",
    "    tilted_ring_params['radii'], \n",
    "    v_rot = test_rotation_curve  \n",
    ")"
   ]
  },
  {
   "cell_type": "code",
   "execution_count": null,
   "metadata": {},
   "outputs": [],
   "source": [
    "galaxy.radii/galaxy.kpc_per_pixel"
   ]
  },
  {
   "cell_type": "code",
   "execution_count": null,
   "metadata": {},
   "outputs": [],
   "source": [
    "# This will print warnings if the start points go outside prior bounds\n",
    "\n",
    "start_point, start_point_radii = get_mcmc_start_position(galaxy)\n",
    "start_pos = generate_nwalkers_start_points(galaxy, mcmc_params.nwalkers, start_point, start_point_radii)"
   ]
  },
  {
   "cell_type": "code",
   "execution_count": null,
   "metadata": {
    "scrolled": true
   },
   "outputs": [],
   "source": [
    "sampler = EnsembleSampler(\n",
    "    mcmc_params.nwalkers,\n",
    "    mcmc_params.ndim, \n",
    "    lnprob, \n",
    "    args=[galaxy], \n",
    "    threads=mcmc_params.nthreads)\n",
    "\n",
    "# this will break up the fitting procedure into smaller chunks of size batch_size and save progress\n",
    "\n",
    "batch_size = 10\n",
    "mcmc_output = []\n",
    "for batch in range(mcmc_params.niter // batch_size):\n",
    "    if batch== 0:\n",
    "        batch_start = start_pos \n",
    "    else:\n",
    "        batch_start = None\n",
    "        sampler.pool = temp_pool\n",
    "    mcmc_output += sampler.run_mcmc(batch_start, batch_size)\n",
    "    temp_pool = sampler.pool\n",
    "    del sampler.pool\n",
    "    with open('sampler.pkl', 'wb') as f:\n",
    "        pickle.dump(sampler, f)\n",
    "    with open('mcmc_output.pkl', 'wb') as f:\n",
    "        pickle.dump(mcmc_output, f)\n",
    "    print(f\"Done with steps {batch*batch_size} - {(batch+1)*batch_size} out of {mcmc_params.niter}\")\n"
   ]
  },
  {
   "cell_type": "code",
   "execution_count": null,
   "metadata": {},
   "outputs": [],
   "source": [
    "# example of how to load the pickled objects\n",
    "with open('sampler.pkl', 'rb') as f:\n",
    "    sampler = pickle.load(f)\n",
    "with open('mcmc_output.pkl', 'rb') as f:\n",
    "    mcmc_output = pickle.load(f)"
   ]
  },
  {
   "cell_type": "markdown",
   "metadata": {},
   "source": [
    "#### Plot the posterior distributions and walker paths"
   ]
  },
  {
   "cell_type": "code",
   "execution_count": null,
   "metadata": {
    "scrolled": true
   },
   "outputs": [],
   "source": [
    "plot_posterior_distributions(sampler, labels=['rhos', 'rs', 'ml'])\n",
    "\n",
    "plot_walker_paths(\n",
    "    sampler,\n",
    "    mcmc_params,\n",
    "    labels=['rhos', 'rs', 'ml'])\n",
    "\n",
    "def get_fit_stats(sampler, labels=[\"rhos\", \"rs\", \"ml\"]):\n",
    "    for i, label in enumerate(labels):\n",
    "        chain = sampler.chain[:, :, i].flatten()\n",
    "        print(f\"{label}: {np.mean(chain)} +/- {np.std(chain)}\")\n",
    "        \n",
    "get_fit_stats(sampler)"
   ]
  },
  {
   "cell_type": "markdown",
   "metadata": {},
   "source": [
    "#### Compare observed 2d velocity field with one generated during fitting process"
   ]
  },
  {
   "cell_type": "code",
   "execution_count": null,
   "metadata": {},
   "outputs": [],
   "source": [
    "example_2d_field = mcmc_output[-1][9][-1]\n",
    "plt.imshow(example_2d_field)\n",
    "plt.colorbar()\n",
    "plt.show()\n",
    "\n",
    "plt.imshow(galaxy.vlos_2d_data)\n",
    "plt.colorbar()\n",
    "plt.show()\n"
   ]
  },
  {
   "cell_type": "code",
   "execution_count": null,
   "metadata": {},
   "outputs": [],
   "source": [
    "blobs = np.reshape(sampler.blobs, (mcmc_params.niter * mcmc_params.nwalkers,10))\n",
    "v_dm = np.mean( blobs[:, 4])\n",
    "v_baryon = np.mean( blobs[:, 5])\n",
    "v_tot = np.mean( blobs[:, 7])\n",
    "\n",
    "plt.plot(radii_kpc, test_rotation_curve, linewidth=2., label=\"data\", color=\"black\")\n",
    "\n",
    "plt.plot(galaxy.radii, v_tot, label=\"total, model\")\n",
    "plt.plot(galaxy.radii, v_dm, label=\"dark matter, model\")\n",
    "plt.plot(galaxy.radii, v_baryon, label=\"baryons, model\")\n",
    "plt.xlabel(\"r [kpc]\")\n",
    "plt.ylabel(\"v [km/s]\")\n",
    "plt.legend()"
   ]
  },
  {
   "cell_type": "code",
   "execution_count": null,
   "metadata": {},
   "outputs": [],
   "source": []
  }
 ],
 "metadata": {
  "kernelspec": {
   "display_name": "Python 3",
   "language": "python",
   "name": "python3"
  },
  "language_info": {
   "codemirror_mode": {
    "name": "ipython",
    "version": 3
   },
   "file_extension": ".py",
   "mimetype": "text/x-python",
   "name": "python",
   "nbconvert_exporter": "python",
   "pygments_lexer": "ipython3",
   "version": "3.7.3"
  }
 },
 "nbformat": 4,
 "nbformat_minor": 2
}

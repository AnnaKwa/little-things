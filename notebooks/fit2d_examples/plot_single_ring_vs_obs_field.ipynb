{
 "cells": [
  {
   "cell_type": "markdown",
   "metadata": {},
   "source": [
    "#### Notes\n",
    "\n",
    "In order to change the parameter `a` that controls how the sampler moves during its walk, you need to update the `emcee` package to the most recent version. To do this, run `pip install --upgrade emcee`.\n",
    "\n",
    "Note that older notebooks will not work with this newer version, but any code that uses `fit2d` to run the MCMC will handle the version change. If you really need to run an older notebook (though it should be easy to port those parameters to a notebook based off this one) you can downgrade the version using `pip install emcee==2.2.1`.\n",
    "\n",
    "This notebook, and any other code using `fit2d`, can run on the older version of emcee but you won't be able to change the move parameter. "
   ]
  },
  {
   "cell_type": "code",
   "execution_count": 1,
   "metadata": {},
   "outputs": [
    {
     "name": "stderr",
     "output_type": "stream",
     "text": [
      "/home/anna/anaconda3/envs/little/lib/python3.7/site-packages/sklearn/utils/deprecation.py:143: FutureWarning: The sklearn.neighbors.base module is  deprecated in version 0.22 and will be removed in version 0.24. The corresponding classes / functions should instead be imported from sklearn.neighbors. Anything that cannot be imported from sklearn.neighbors is now part of the private API.\n",
      "  warnings.warn(message, FutureWarning)\n"
     ]
    }
   ],
   "source": [
    "from fit2d import Galaxy, RingModel\n",
    "from fit2d.mcmc import LinearPrior\n",
    "from fit2d.mcmc import emcee_lnlike, piecewise_start_points\n",
    "from fit2d.models import PiecewiseModel\n",
    "\n",
    "from astropy.io import fits\n",
    "from datetime import datetime\n",
    "import glob\n",
    "import joblib\n",
    "import numpy as np\n",
    "import os\n",
    "\n",
    "import emcee\n",
    "from emcee import EnsembleSampler, moves\n"
   ]
  },
  {
   "cell_type": "code",
   "execution_count": 2,
   "metadata": {},
   "outputs": [],
   "source": [
    "\n",
    "# number of bins in fit\n",
    "num_bins = 3\n",
    "# min and max bounds for each bin\n",
    "vmin, vmax = 0., 200.\n",
    "\n",
    "\n",
    "name = \"UGC3974\"\n",
    "distance = 8000. # [kpc]\n",
    "observed_2d_vel_field_fits_file = \"/home/anna/Desktop/fit2d/data/UGC3974_1mom.fits\"\n",
    "deg_per_pixel=4.17e-4\n",
    "v_systemic=270. \n",
    "\n",
    "ring_param_file = \"/home/anna/Desktop/fit2d/data/UGC3974_ring_parameters.txt\"\n",
    "# x and y dims are switched in ds9 fits display versus np array shape\n",
    "fits_ydim, fits_xdim = fits.open(observed_2d_vel_field_fits_file)[0].data.shape\n",
    "\n",
    "mask_sigma=1.\n",
    "random_seed = 1234\n",
    "\n",
    "mcmc_nwalkers = 20\n",
    "mcmc_niter = 4\n",
    "mcmc_ndim = 1  # Do not change this if fitting one ring at a time\n",
    "mcmc_nthreads = 4\n",
    "# Try increasing stretch scale factor a. version must be >=3 for this to be used.\n",
    "mcmc_moves = moves.StretchMove(a = 2)  \n",
    "mcmc_version = float(emcee.__version__[0])\n",
    "\n",
    "# Option to save every batch_size iterations in case of crash\n",
    "# Increase this; 2 is a very low value just for testing\n",
    "batch_size = 2\n",
    "\n",
    "# option to save outputs in a particular directory\n",
    "save_dir = None  \n"
   ]
  },
  {
   "cell_type": "markdown",
   "metadata": {},
   "source": [
    "### This is where you can provide a 2D array of pixel errors.\n",
    "### Only one of these should be set- SET THE OTHER TO HAVE value `None`"
   ]
  },
  {
   "cell_type": "code",
   "execution_count": 3,
   "metadata": {},
   "outputs": [],
   "source": [
    "# One, but not both, should be provided to lnlike\n",
    "\n",
    "v_err_const = 10. # [km/s] constant error per pixel\n",
    "v_err_2d = None\n",
    "\n",
    "# to use the 2nd moment map,\n",
    "# v_err_const = None\n",
    "# v_err_2d = fits.open(\"/home/anna/Desktop/fit2d/data/UGC3974_2mom.fits\")[0].data"
   ]
  },
  {
   "cell_type": "code",
   "execution_count": 4,
   "metadata": {},
   "outputs": [],
   "source": [
    "galaxy = Galaxy(\n",
    "    name=name,\n",
    "    distance=distance,\n",
    "    observed_2d_vel_field_fits_file=observed_2d_vel_field_fits_file,\n",
    "    deg_per_pixel=deg_per_pixel,\n",
    "    v_systemic=v_systemic, \n",
    ")\n",
    "\n",
    "ring_model = RingModel(\n",
    "    ring_param_file=ring_param_file,\n",
    "    fits_xdim=fits_xdim,\n",
    "    fits_ydim=fits_ydim,\n",
    "    distance=distance\n",
    ")\n",
    "bin_edges = np.linspace(ring_model.radii_kpc[0], ring_model.radii_kpc[-1], num_bins+1)\n",
    "bin_centers = [(bin_edges[i]+bin_edges[i+1])/2. for i in range(num_bins)]"
   ]
  },
  {
   "cell_type": "markdown",
   "metadata": {},
   "source": [
    "### Compare a single ring to the first moment map\n",
    "\n",
    "You want to make sure they actually overlap in the pixels that you're trying to model.\n",
    "\n",
    "**Change the `bin_index` variable to the bin you are checking**"
   ]
  },
  {
   "cell_type": "code",
   "execution_count": 5,
   "metadata": {},
   "outputs": [
    {
     "data": {
      "image/png": "[encoded data removed]",
      "text/plain": [
       "<Figure size 432x288 with 1 Axes>"
      ]
     },
     "metadata": {
      "needs_background": "light"
     },
     "output_type": "display_data"
    },
    {
     "data": {
      "text/plain": [
       "<matplotlib.image.AxesImage at 0x7fe0acf29850>"
      ]
     },
     "execution_count": 5,
     "metadata": {},
     "output_type": "execute_result"
    },
    {
     "data": {
      "image/png": "[encoded data removed]",
      "text/plain": [
       "<Figure size 432x288 with 1 Axes>"
      ]
     },
     "metadata": {
      "needs_background": "light"
     },
     "output_type": "display_data"
    }
   ],
   "source": [
    "%matplotlib inline\n",
    "from fit2d._velocity_field_generator import create_2d_velocity_field\n",
    "import matplotlib.pyplot as plt\n",
    "\n",
    "# make this the index of the bin that you are checking.\n",
    "bin_index = 2\n",
    "\n",
    "bin_min, bin_max = bin_edges[bin_index], bin_edges[bin_index+1]\n",
    "piecewise_model = PiecewiseModel(num_bins=1)\n",
    "piecewise_model.set_bounds(vmin, vmax)\n",
    "piecewise_model.set_bin_edges(rmin=bin_min, rmax=bin_max)\n",
    "radii_to_interpolate = np.array([r for r in ring_model.radii_kpc if bin_min<r<bin_max])  \n",
    "\n",
    "v_field_model = create_2d_velocity_field(\n",
    "    radii = radii_to_interpolate,\n",
    "    v_rot = [100. for r in radii_to_interpolate],  # just fill in any velocity\n",
    "    ring_model = ring_model,\n",
    "    kpc_per_pixel = galaxy.kpc_per_pixel,\n",
    "    v_systemic = galaxy.v_systemic,\n",
    "    image_xdim = galaxy.image_xdim,\n",
    "    image_ydim =  galaxy.image_xdim)\n",
    "\n",
    "plt.imshow(v_field_model)\n",
    "plt.show()\n",
    "\n",
    "plt.imshow(galaxy.observed_2d_vel_field)"
   ]
  },
  {
   "cell_type": "code",
   "execution_count": null,
   "metadata": {},
   "outputs": [],
   "source": []
  }
 ],
 "metadata": {
  "kernelspec": {
   "display_name": "Python 3",
   "language": "python",
   "name": "python3"
  },
  "language_info": {
   "codemirror_mode": {
    "name": "ipython",
    "version": 3
   },
   "file_extension": ".py",
   "mimetype": "text/x-python",
   "name": "python",
   "nbconvert_exporter": "python",
   "pygments_lexer": "ipython3",
   "version": "3.7.7"
  }
 },
 "nbformat": 4,
 "nbformat_minor": 4
}

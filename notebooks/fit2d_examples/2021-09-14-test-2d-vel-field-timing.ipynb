{
 "cells": [
  {
   "cell_type": "code",
   "execution_count": 1,
   "source": [
    "from fit2d import RingModel\n",
    "from fit2d._helpers import calc_physical_distance_per_pixel\n",
    "from fit2d._velocity_field_generator import create_2d_velocity_field\n",
    "\n",
    "from astropy.io import fits\n",
    "import matplotlib.pyplot as plt\n",
    "import numpy as np\n",
    "\n",
    "\n",
    "ring = create_2d_velocity_field(\n",
    "    radii = np.linspace(0,100,100),\n",
    "    \n",
    "    v_rot = 10,  # just fill in any velocity\n",
    "        i=45. * np.pi/180,\n",
    "        pa=45 * np.pi/180,\n",
    "        x_dim=200, \n",
    "        y_dim=200, \n",
    "        x_center=100, \n",
    "        y_center=100, \n",
    "        kpc_per_pixel=5.,\n",
    "        r_min_kpc=10.,\n",
    "        r_max_kpc=70,\n",
    ")\n",
    "\n"
   ],
   "outputs": [
    {
     "output_type": "stream",
     "name": "stderr",
     "text": [
      "/home/annakwa/.local/lib/python3.8/site-packages/sklearn/utils/deprecation.py:144: FutureWarning: The sklearn.neighbors.base module is  deprecated in version 0.22 and will be removed in version 0.24. The corresponding classes / functions should instead be imported from sklearn.neighbors. Anything that cannot be imported from sklearn.neighbors is now part of the private API.\n",
      "  warnings.warn(message, FutureWarning)\n",
      "/home/annakwa/little-things/fit2d/fit2d/_velocity_field_generator.py:39: RuntimeWarning: invalid value encountered in true_divide\n",
      "  cos_theta = ( (y - y_center) * np.cos(pa) - (x - x_center) * np.sin(pa) ) / r_cen\n"
     ]
    }
   ],
   "metadata": {}
  },
  {
   "cell_type": "code",
   "execution_count": 2,
   "source": [
    "import matplotlib.pyplot as plt\n",
    "plt.imshow(ring)"
   ],
   "outputs": [
    {
     "output_type": "execute_result",
     "data": {
      "text/plain": [
       "<matplotlib.image.AxesImage at 0x7f74fb1a9790>"
      ]
     },
     "metadata": {},
     "execution_count": 2
    },
    {
     "output_type": "display_data",
     "data": {
      "image/png": "[encoded data removed]",
      "text/plain": [
       "<Figure size 432x288 with 1 Axes>"
      ]
     },
     "metadata": {
      "needs_background": "light"
     }
    }
   ],
   "metadata": {}
  },
  {
   "cell_type": "markdown",
   "source": [
    "#### Change values in the cell below to be correct for the galaxy you are looking at"
   ],
   "metadata": {}
  },
  {
   "cell_type": "code",
   "execution_count": 7,
   "source": [
    "ring_param_file = \"/home/anna/Desktop/fit2d/data/UGC3974_ring_parameters.txt\"\n",
    "dispersion_fits_file = \"/home/anna/Desktop/fit2d/data/UGC3974_2mom.fits\"\n",
    "\n",
    "\n",
    "distance = 8000. # [kpc]\n",
    "deg_per_pixel=4.17e-4\n"
   ],
   "outputs": [],
   "metadata": {}
  },
  {
   "cell_type": "code",
   "execution_count": 8,
   "source": [
    "xdim, ydim = fits.open(dispersion_fits_file)[0].data.shape\n",
    "kpc_per_pixel = calc_physical_distance_per_pixel(distance, deg_per_pixel)\n",
    "\n",
    "\n",
    "ring_model = RingModel(\n",
    "    ring_param_file=ring_param_file,\n",
    "    fits_xdim=xdim,\n",
    "    fits_ydim=ydim,\n",
    "    distance=distance\n",
    ")"
   ],
   "outputs": [],
   "metadata": {}
  },
  {
   "cell_type": "markdown",
   "source": [
    "#### Set the values of `rmin` and `rmax` in the function below to the edges of the ring you want to cut out. Don't change the other function arguments."
   ],
   "metadata": {}
  },
  {
   "cell_type": "code",
   "execution_count": 14,
   "source": [
    "mask = ring_mask(\n",
    "    rmin=3.6,   # change this to the inside edge of the ring, in kpc\n",
    "    rmax=5.5,   # change this to the outside edge of the ring, in kpc\n",
    "    ring_model=ring_model,\n",
    "    kpc_per_pixel=kpc_per_pixel,\n",
    "    xdim=xdim,\n",
    "    ydim=ydim)\n"
   ],
   "outputs": [],
   "metadata": {}
  },
  {
   "cell_type": "markdown",
   "source": [
    "#### This is the ring mask you just made. It has value of 1.0 where you want to cut the ring out, and NaN everywhere else."
   ],
   "metadata": {}
  },
  {
   "cell_type": "code",
   "execution_count": 17,
   "source": [
    "plt.imshow(mask)"
   ],
   "outputs": [
    {
     "output_type": "execute_result",
     "data": {
      "text/plain": [
       "<matplotlib.image.AxesImage at 0x7f948c6cfc50>"
      ]
     },
     "metadata": {},
     "execution_count": 17
    },
    {
     "output_type": "display_data",
     "data": {
      "image/png": "[encoded data removed]",
      "text/plain": [
       "<Figure size 432x288 with 1 Axes>"
      ]
     },
     "metadata": {
      "needs_background": "light"
     }
    }
   ],
   "metadata": {}
  },
  {
   "cell_type": "markdown",
   "source": [
    "####  You can now cut a ring out of the dispersion map by multiplying it with the mask from the above step. Multiplying by 1.0 keeps the dispersion values in the ring, and multiplying by NaN makes values outside the ring NaN.\n"
   ],
   "metadata": {}
  },
  {
   "cell_type": "code",
   "execution_count": 18,
   "source": [
    "dispersion_map = fits.open(dispersion_fits_file)[0].data\n",
    "dispersion_ring = mask * dispersion_map"
   ],
   "outputs": [],
   "metadata": {}
  },
  {
   "cell_type": "markdown",
   "source": [
    "#### This is the ring that you cut out of the dispersion map"
   ],
   "metadata": {}
  },
  {
   "cell_type": "code",
   "execution_count": 19,
   "source": [
    "plt.imshow(dispersion_ring)"
   ],
   "outputs": [
    {
     "output_type": "execute_result",
     "data": {
      "text/plain": [
       "<matplotlib.image.AxesImage at 0x7f948c326690>"
      ]
     },
     "metadata": {},
     "execution_count": 19
    },
    {
     "output_type": "display_data",
     "data": {
      "image/png": "[encoded data removed]",
      "text/plain": [
       "<Figure size 432x288 with 1 Axes>"
      ]
     },
     "metadata": {
      "needs_background": "light"
     }
    }
   ],
   "metadata": {}
  },
  {
   "cell_type": "markdown",
   "source": [
    "#### Now you can calculate the root mean square (RMS) of the dispersion within radii `(rmin, rmax)`. Remember we want $ \\sqrt{ mean{(\\sigma_{v}^{2})}}$ where $\\sigma_{v}$ here is the dispersion. This is different than just taking the average of all the dispersion values in the ring.\n",
    "\n",
    "#### Fill in the function below to take in the dispersion ring (which is a numpy array) from above and do the RMS calculation. This will give us the uncertainty due to dispersion at radius `r`, where `r` is the midpoint of the ring you defined by `(rmin, rmax)`"
   ],
   "metadata": {}
  },
  {
   "cell_type": "code",
   "execution_count": 21,
   "source": [
    "# fill in the function below to take in the dispersion ring (which is a numpy array) from above\n",
    "# and do the RMS calculation. This will\n",
    "\n",
    "def rms_dispersion(dispersion_ring: np.ndarray):\n",
    "    # write code below to calculate rms = root mean square as described above\n",
    "    ...\n",
    "    ...\n",
    "    return rms"
   ],
   "outputs": [],
   "metadata": {}
  },
  {
   "cell_type": "code",
   "execution_count": null,
   "source": [],
   "outputs": [],
   "metadata": {}
  }
 ],
 "metadata": {
  "kernelspec": {
   "name": "python3",
   "display_name": "Python 3.8.10 64-bit"
  },
  "language_info": {
   "name": "python",
   "version": "3.8.10",
   "mimetype": "text/x-python",
   "codemirror_mode": {
    "name": "ipython",
    "version": 3
   },
   "pygments_lexer": "ipython3",
   "nbconvert_exporter": "python",
   "file_extension": ".py"
  },
  "interpreter": {
   "hash": "916dbcbb3f70747c44a77c7bcd40155683ae19c65e1c03b4aa3499c5328201f1"
  }
 },
 "nbformat": 4,
 "nbformat_minor": 4
}
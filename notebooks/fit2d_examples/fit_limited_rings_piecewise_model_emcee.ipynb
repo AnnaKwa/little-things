{
 "cells": [
  {
   "cell_type": "markdown",
   "metadata": {},
   "source": [
    "#### Notes\n",
    "\n",
    "In order to change the parameter `a` that controls how the sampler moves during its walk, you need to update the `emcee` package to the most recent version. To do this, run `pip install --upgrade emcee`.\n",
    "\n",
    "Note that older notebooks will not work with this newer version, but any code that uses `fit2d` to run the MCMC will handle the version change. If you really need to run an older notebook (though it should be easy to port those parameters to a notebook based off this one) you can downgrade the version using `pip install emcee==2.2.1`.\n",
    "\n",
    "This notebook, and any other code using `fit2d`, can run on the older version of emcee but you won't be able to change the move parameter. "
   ]
  },
  {
   "cell_type": "code",
   "execution_count": 1,
   "metadata": {},
   "outputs": [
    {
     "name": "stderr",
     "output_type": "stream",
     "text": [
      "/home/anna/anaconda3/envs/little/lib/python3.7/site-packages/sklearn/utils/deprecation.py:143: FutureWarning: The sklearn.neighbors.base module is  deprecated in version 0.22 and will be removed in version 0.24. The corresponding classes / functions should instead be imported from sklearn.neighbors. Anything that cannot be imported from sklearn.neighbors is now part of the private API.\n",
      "  warnings.warn(message, FutureWarning)\n"
     ]
    }
   ],
   "source": [
    "from fit2d import Galaxy, RingModel\n",
    "from fit2d.mcmc import LinearPrior\n",
    "from fit2d.mcmc import emcee_lnlike, piecewise_start_points\n",
    "from fit2d.models import PiecewiseModel\n",
    "\n",
    "from astropy.io import fits\n",
    "from datetime import datetime\n",
    "import joblib\n",
    "import numpy as np\n",
    "\n",
    "import emcee\n",
    "from emcee import EnsembleSampler, moves\n"
   ]
  },
  {
   "cell_type": "code",
   "execution_count": 4,
   "metadata": {},
   "outputs": [],
   "source": [
    "name = \"UGC3974\"\n",
    "distance = 8000. # [kpc]\n",
    "observed_2d_vel_field_fits_file = \"/home/anna/Desktop/fit2d/data/UGC3974_1mom.fits\"\n",
    "deg_per_pixel=4.17e-4\n",
    "v_systemic=270. \n",
    "\n",
    "ring_param_file = \"/home/anna/Desktop/fit2d/data/UGC3974_ring_parameters.txt\"\n",
    "# x and y dims are switched in ds9 fits display versus np array shape\n",
    "fits_ydim, fits_xdim = fits.open(observed_2d_vel_field_fits_file)[0].data.shape\n",
    "num_bins = 2\n",
    "\n",
    "mask_sigma=1.\n",
    "random_seed = 1234\n",
    "\n",
    "mcmc_nwalkers = 20\n",
    "mcmc_niter = 4\n",
    "mcmc_ndim = num_bins\n",
    "mcmc_nthreads = 4\n",
    "# Try increasing stretch scale factor a. version must be >=3 for this to be used.\n",
    "mcmc_moves = moves.StretchMove(a = 2)  \n",
    "mcmc_version = float(emcee.__version__[0])\n",
    "\n",
    "\n",
    "# min/max bin edges to select if fitting a small number of rings\n",
    "# this is combined with num_bins set above to determine the rings that will be fit\n",
    "bin_min, bin_max = 3., 5.  # kpc"
   ]
  },
  {
   "cell_type": "code",
   "execution_count": 5,
   "metadata": {},
   "outputs": [],
   "source": [
    "galaxy = Galaxy(\n",
    "    name=name,\n",
    "    distance=distance,\n",
    "    observed_2d_vel_field_fits_file=observed_2d_vel_field_fits_file,\n",
    "    deg_per_pixel=deg_per_pixel,\n",
    "    v_systemic=v_systemic, \n",
    ")\n",
    "\n",
    "ring_model = RingModel(\n",
    "    ring_param_file=ring_param_file,\n",
    "    fits_xdim=fits_xdim,\n",
    "    fits_ydim=fits_ydim,\n",
    "    distance=distance\n",
    ")\n",
    "\n",
    "radii_to_interpolate = np.array([r for r in ring_model.radii_kpc if min(bin_edges)<r<max(bin_edges)])"
   ]
  },
  {
   "cell_type": "code",
   "execution_count": 6,
   "metadata": {},
   "outputs": [],
   "source": [
    "piecewise_model = PiecewiseModel(num_bins=num_bins)\n",
    "piecewise_model.set_bounds(0, 200)\n",
    "piecewise_model.set_bin_edges(rmin=bin_min, rmax=bin_max)\n",
    "\n",
    "prior = LinearPrior(bounds=piecewise_model.bounds)\n",
    "prior_transform = prior.transform_from_unit_cube"
   ]
  },
  {
   "cell_type": "code",
   "execution_count": 7,
   "metadata": {},
   "outputs": [],
   "source": [
    "start_positions = piecewise_start_points(mcmc_nwalkers, piecewise_model.bounds, random_seed=random_seed)"
   ]
  },
  {
   "cell_type": "code",
   "execution_count": 8,
   "metadata": {},
   "outputs": [],
   "source": [
    "fit_inputs = {\n",
    "    \"piecewise_model\": piecewise_model,\n",
    "    \"galaxy\": galaxy,\n",
    "    \"ring_model\": ring_model,\n",
    "    \"prior_transform\": prior_transform\n",
    "}\n",
    "with open(\"fit_inputs.pkl\", \"wb\") as f:\n",
    "    joblib.dump(fit_inputs, f)"
   ]
  },
  {
   "cell_type": "code",
   "execution_count": 9,
   "metadata": {},
   "outputs": [],
   "source": [
    "rotation_curve_func_kwargs = {\n",
    "    \"radii_to_interpolate\": radii_to_interpolate}\n",
    "\n",
    "lnlike_args = [\n",
    "    piecewise_model,\n",
    "    rotation_curve_func_kwargs, \n",
    "    galaxy, \n",
    "    ring_model, \n",
    "    mask_sigma\n",
    "]\n",
    "\n",
    "lnlike_args = {\n",
    "    \"model\": piecewise_model,\n",
    "    \"rotation_curve_func_kwargs\": rotation_curve_func_kwargs, \n",
    "    \"galaxy\": galaxy, \n",
    "    \"ring_model\": ring_model, \n",
    "    \"mask_sigma\": mask_sigma\n",
    "    }\n",
    "    \n",
    "sampler = EnsembleSampler(\n",
    "    mcmc_nwalkers,\n",
    "    mcmc_ndim, \n",
    "    emcee_lnlike, \n",
    "    args=[mcmc_version, lnlike_args], \n",
    "    threads=mcmc_nthreads,\n",
    ")\n",
    "if mcmc_version >= 3:\n",
    "    sampler._moves = [mcmc_moves]\n"
   ]
  },
  {
   "cell_type": "code",
   "execution_count": 10,
   "metadata": {},
   "outputs": [
    {
     "name": "stdout",
     "output_type": "stream",
     "text": [
      "Done with steps 0 - 2 out of 4\n",
      "Done with steps 2 - 4 out of 4\n"
     ]
    }
   ],
   "source": [
    "# this will break up the fitting procedure into smaller chunks of size batch_size and save progress\n",
    "dateTimeObj = datetime.now()\n",
    "timestampStr = dateTimeObj.strftime(\"%d-%b-%Y\")\n",
    "\n",
    "batch_size = 2\n",
    "mcmc_output = []\n",
    "for batch in range(mcmc_niter // batch_size):\n",
    "    if batch == 0:\n",
    "        batch_start = start_positions\n",
    "    else:\n",
    "        batch_start = None\n",
    "        sampler.pool = temp_pool\n",
    "    mcmc_output += sampler.run_mcmc(batch_start, batch_size)\n",
    "    temp_pool = sampler.pool\n",
    "    del sampler.pool\n",
    "    with open(f'sampler_{timestampStr}.pkl', 'wb') as f:\n",
    "        joblib.dump(sampler, f)\n",
    "    with open(f'mcmc_output_{timestampStr}.pkl', 'wb') as f:\n",
    "        joblib.dump(mcmc_output, f)\n",
    "    print(f\"Done with steps {batch*batch_size} - {(batch+1)*batch_size} out of {mcmc_niter}\")\n"
   ]
  },
  {
   "cell_type": "code",
   "execution_count": null,
   "metadata": {},
   "outputs": [],
   "source": []
  }
 ],
 "metadata": {
  "kernelspec": {
   "display_name": "Python 3",
   "language": "python",
   "name": "python3"
  },
  "language_info": {
   "codemirror_mode": {
    "name": "ipython",
    "version": 3
   },
   "file_extension": ".py",
   "mimetype": "text/x-python",
   "name": "python",
   "nbconvert_exporter": "python",
   "pygments_lexer": "ipython3",
   "version": "3.7.7"
  }
 },
 "nbformat": 4,
 "nbformat_minor": 4
}

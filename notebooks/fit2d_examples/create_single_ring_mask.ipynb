{
 "cells": [
  {
   "cell_type": "code",
   "execution_count": 16,
   "metadata": {},
   "outputs": [],
   "source": [
    "from fit2d import RingModel\n",
    "from fit2d._helpers import calc_physical_distance_per_pixel\n",
    "from fit2d._velocity_field_generator import create_2d_velocity_field\n",
    "\n",
    "from astropy.io import fits\n",
    "import matplotlib.pyplot as plt\n",
    "import numpy as np\n",
    "\n",
    "\n",
    "def ring_mask(rmin, rmax, ring_model, kpc_per_pixel, xdim, ydim):\n",
    "    ring = create_2d_velocity_field(\n",
    "        radii = [rmin, rmax],\n",
    "        v_rot = [100., 100.],  # just fill in any velocity\n",
    "        ring_model = ring_model,\n",
    "        kpc_per_pixel = kpc_per_pixel,\n",
    "        v_systemic = 200,\n",
    "        image_xdim = xdim,\n",
    "        image_ydim = ydim\n",
    "    )\n",
    "\n",
    "    ring[ ~np.isnan(ring) ] = 1\n",
    "    return ring"
   ]
  },
  {
   "cell_type": "markdown",
   "metadata": {},
   "source": [
    "#### Change values in the cell below to be correct for the galaxy you are looking at"
   ]
  },
  {
   "cell_type": "code",
   "execution_count": 7,
   "metadata": {},
   "outputs": [],
   "source": [
    "ring_param_file = \"/home/anna/Desktop/fit2d/data/UGC3974_ring_parameters.txt\"\n",
    "dispersion_fits_file = \"/home/anna/Desktop/fit2d/data/UGC3974_2mom.fits\"\n",
    "\n",
    "\n",
    "distance = 8000. # [kpc]\n",
    "deg_per_pixel=4.17e-4\n"
   ]
  },
  {
   "cell_type": "code",
   "execution_count": 8,
   "metadata": {},
   "outputs": [],
   "source": [
    "xdim, ydim = fits.open(dispersion_fits_file)[0].data.shape\n",
    "kpc_per_pixel = calc_physical_distance_per_pixel(distance, deg_per_pixel)\n",
    "\n",
    "\n",
    "ring_model = RingModel(\n",
    "    ring_param_file=ring_param_file,\n",
    "    fits_xdim=xdim,\n",
    "    fits_ydim=ydim,\n",
    "    distance=distance\n",
    ")"
   ]
  },
  {
   "cell_type": "markdown",
   "metadata": {},
   "source": [
    "#### Set the values of `rmin` and `rmax` in the function below to the edges of the ring you want to cut out. Don't change the other function arguments."
   ]
  },
  {
   "cell_type": "code",
   "execution_count": 14,
   "metadata": {},
   "outputs": [],
   "source": [
    "mask = ring_mask(\n",
    "    rmin=3.6,   # change this to the inside edge of the ring, in kpc\n",
    "    rmax=5.5,   # change this to the outside edge of the ring, in kpc\n",
    "    ring_model=ring_model,\n",
    "    kpc_per_pixel=kpc_per_pixel,\n",
    "    xdim=xdim,\n",
    "    ydim=ydim)\n"
   ]
  },
  {
   "cell_type": "markdown",
   "metadata": {},
   "source": [
    "#### This is the ring mask you just made. It has value of 1.0 where you want to cut the ring out, and NaN everywhere else."
   ]
  },
  {
   "cell_type": "code",
   "execution_count": 17,
   "metadata": {},
   "outputs": [
    {
     "data": {
      "text/plain": [
       "<matplotlib.image.AxesImage at 0x7f948c6cfc50>"
      ]
     },
     "execution_count": 17,
     "metadata": {},
     "output_type": "execute_result"
    },
    {
     "data": {
      "image/png": "[encoded data removed]",
      "text/plain": [
       "<Figure size 432x288 with 1 Axes>"
      ]
     },
     "metadata": {
      "needs_background": "light"
     },
     "output_type": "display_data"
    }
   ],
   "source": [
    "plt.imshow(mask)"
   ]
  },
  {
   "cell_type": "markdown",
   "metadata": {},
   "source": [
    "####  You can now cut a ring out of the dispersion map by multiplying it with the mask from the above step. Multiplying by 1.0 keeps the dispersion values in the ring, and multiplying by NaN makes values outside the ring NaN.\n"
   ]
  },
  {
   "cell_type": "code",
   "execution_count": 18,
   "metadata": {},
   "outputs": [],
   "source": [
    "dispersion_map = fits.open(dispersion_fits_file)[0].data\n",
    "dispersion_ring = mask * dispersion_map"
   ]
  },
  {
   "cell_type": "markdown",
   "metadata": {},
   "source": [
    "#### This is the ring that you cut out of the dispersion map"
   ]
  },
  {
   "cell_type": "code",
   "execution_count": 19,
   "metadata": {},
   "outputs": [
    {
     "data": {
      "text/plain": [
       "<matplotlib.image.AxesImage at 0x7f948c326690>"
      ]
     },
     "execution_count": 19,
     "metadata": {},
     "output_type": "execute_result"
    },
    {
     "data": {
      "image/png": "[encoded data removed]",
      "text/plain": [
       "<Figure size 432x288 with 1 Axes>"
      ]
     },
     "metadata": {
      "needs_background": "light"
     },
     "output_type": "display_data"
    }
   ],
   "source": [
    "plt.imshow(dispersion_ring)"
   ]
  },
  {
   "cell_type": "markdown",
   "metadata": {},
   "source": [
    "#### Now you can calculate the root mean square (RMS) of the dispersion within radii `(rmin, rmax)`. Remember we want $ \\sqrt{ mean{(\\sigma_{v}^{2})}}$ where $\\sigma_{v}$ here is the dispersion. This is different than just taking the average of all the dispersion values in the ring.\n",
    "\n",
    "#### Fill in the function below to take in the dispersion ring (which is a numpy array) from above and do the RMS calculation. This will give us the uncertainty due to dispersion at radius `r`, where `r` is the midpoint of the ring you defined by `(rmin, rmax)`"
   ]
  },
  {
   "cell_type": "code",
   "execution_count": 21,
   "metadata": {},
   "outputs": [],
   "source": [
    "# fill in the function below to take in the dispersion ring (which is a numpy array) from above\n",
    "# and do the RMS calculation. This will\n",
    "\n",
    "def rms_dispersion(dispersion_ring: np.ndarray):\n",
    "    # write code below to calculate rms = root mean square as described above\n",
    "    ...\n",
    "    ...\n",
    "    return rms"
   ]
  },
  {
   "cell_type": "code",
   "execution_count": null,
   "metadata": {},
   "outputs": [],
   "source": []
  }
 ],
 "metadata": {
  "kernelspec": {
   "display_name": "Python 3",
   "language": "python",
   "name": "python3"
  }
 },
 "nbformat": 4,
 "nbformat_minor": 4
}

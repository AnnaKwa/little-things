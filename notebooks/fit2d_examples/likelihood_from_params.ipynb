{
 "cells": [
  {
   "cell_type": "code",
   "execution_count": 2,
   "metadata": {},
   "outputs": [],
   "source": [
    "from fit2d import Galaxy, RingModel\n",
    "from fit2d.mcmc import LinearPrior\n",
    "from fit2d.mcmc import emcee_lnlike, piecewise_start_points\n",
    "from fit2d.models import PiecewiseModel\n",
    "\n",
    "from astropy.io import fits\n",
    "from datetime import datetime\n",
    "import joblib\n",
    "import numpy as np\n",
    "\n",
    "import emcee\n",
    "from emcee import EnsembleSampler, moves\n",
    "\n",
    "from fit2d.mcmc._likelihood import lnlike"
   ]
  },
  {
   "cell_type": "code",
   "execution_count": 3,
   "metadata": {},
   "outputs": [],
   "source": [
    "name = \"UGC3974\"\n",
    "distance = 8000. # [kpc]\n",
    "observed_2d_vel_field_fits_file = \"/home/anna/Desktop/fit2d/data/UGC3974_1mom.fits\"\n",
    "deg_per_pixel=4.17e-4\n",
    "v_systemic=270. \n",
    "\n",
    "ring_param_file = \"/home/anna/Desktop/fit2d/data/UGC3974_ring_parameters.txt\"\n",
    "# x and y dims are switched in ds9 fits display versus np array shape\n",
    "fits_ydim, fits_xdim = fits.open(observed_2d_vel_field_fits_file)[0].data.shape\n",
    "num_bins = 1\n",
    "\n",
    "mask_sigma=1.\n",
    "random_seed = 1234\n",
    "v_err_const = 10. # [km/s] per pixel constant error\n",
    "\n",
    "# min/max bin edges to select if fitting a small number of rings\n",
    "# this is combined with num_bins set above to determine the rings that will be fit\n",
    "bin_min, bin_max = 3., 5.  # kpc"
   ]
  },
  {
   "cell_type": "code",
   "execution_count": 4,
   "metadata": {},
   "outputs": [],
   "source": [
    "galaxy = Galaxy(\n",
    "    name=name,\n",
    "    distance=distance,\n",
    "    observed_2d_vel_field_fits_file=observed_2d_vel_field_fits_file,\n",
    "    deg_per_pixel=deg_per_pixel,\n",
    "    v_systemic=v_systemic, \n",
    ")\n",
    "\n",
    "ring_model = RingModel(\n",
    "    ring_param_file=ring_param_file,\n",
    "    fits_xdim=fits_xdim,\n",
    "    fits_ydim=fits_ydim,\n",
    "    distance=distance\n",
    ")\n",
    "\n",
    "radii_to_interpolate = np.array([r for r in ring_model.radii_kpc if bin_min< r <bin_max])"
   ]
  },
  {
   "cell_type": "code",
   "execution_count": 5,
   "metadata": {},
   "outputs": [],
   "source": [
    "piecewise_model = PiecewiseModel(num_bins=num_bins)\n",
    "piecewise_model.set_bounds(array_bounds=np.array([(0,200), (0., np.pi), (0., np.pi)]))\n",
    "piecewise_model.set_bin_edges(rmin=bin_min, rmax=bin_max)\n",
    "\n",
    "prior = LinearPrior(bounds=piecewise_model.bounds)\n",
    "prior_transform = prior.transform_from_unit_cube"
   ]
  },
  {
   "cell_type": "code",
   "execution_count": 6,
   "metadata": {},
   "outputs": [],
   "source": [
    "rotation_curve_func_kwargs = {\n",
    "    \"radii_to_interpolate\": radii_to_interpolate}\n",
    "\n",
    "lnlike_args = [\n",
    "    piecewise_model,\n",
    "    rotation_curve_func_kwargs, \n",
    "    galaxy, \n",
    "    ring_model, \n",
    "    mask_sigma\n",
    "]\n",
    "\n",
    "# mapping of ring struct params to their index in the parameters (same as specified in bounds)\n",
    "# this is provided as an optional argument to lnlike to tell it which parameters to use as inc and pos_angle\n",
    "fit_structural_params = {\"inc\": 1, \"pos_angle\": 2}\n",
    "\n",
    "\n",
    "lnlike_args = {\n",
    "    \"model\": piecewise_model,\n",
    "    \"rotation_curve_func_kwargs\": rotation_curve_func_kwargs, \n",
    "    \"galaxy\": galaxy, \n",
    "    \"ring_model\": ring_model, \n",
    "    \"mask_sigma\": mask_sigma,\n",
    "    \"v_err_const\": v_err_const,\n",
    "    \"fit_structural_params\": fit_structural_params,\n",
    "    \"return_n_pixels\": True\n",
    "    }\n"
   ]
  },
  {
   "cell_type": "markdown",
   "metadata": {},
   "source": [
    "### Set the array params to some velocity, inclination, position angle, etc."
   ]
  },
  {
   "cell_type": "code",
   "execution_count": 7,
   "metadata": {
    "scrolled": true
   },
   "outputs": [],
   "source": [
    "# This will output the value of likelihood and number of pixels used for a given point in parameter space\n",
    "\n",
    "# you need to provide values here\n",
    "v, inc, pos_angle = 1, 1, 1   # CHANGE THESE\n",
    "\n",
    "params = np.array([v, inc, pos_angle])  #\n",
    "likelihood, n_pixels = lnlike(params, **lnlike_args)\n",
    "\n"
   ]
  },
  {
   "cell_type": "code",
   "execution_count": 8,
   "metadata": {
    "scrolled": true
   },
   "outputs": [
    {
     "data": {
      "image/png": "[encoded data removed]",
      "text/plain": [
       "<Figure size 432x288 with 1 Axes>"
      ]
     },
     "metadata": {
      "needs_background": "light"
     },
     "output_type": "display_data"
    },
    {
     "data": {
      "text/plain": [
       "Text(0.5, 1.0, 'scan over velocity: num pixels summed over')"
      ]
     },
     "execution_count": 8,
     "metadata": {},
     "output_type": "execute_result"
    },
    {
     "data": {
      "image/png": "[encoded data removed]",
      "text/plain": [
       "<Figure size 432x288 with 1 Axes>"
      ]
     },
     "metadata": {
      "needs_background": "light"
     },
     "output_type": "display_data"
    }
   ],
   "source": [
    "# To scan along a value of parameter, you can do something like\n",
    "\n",
    "import matplotlib.pyplot as plt\n",
    "\n",
    "# make some range of velocities over which to scan\n",
    "v_range = np.array([v + i * 0.5 for i in range(10)])\n",
    "lnlike_scan = []\n",
    "num_points_scan = []\n",
    "for v in v_range:\n",
    "    params = np.array([v, inc, pos_angle])\n",
    "    loglikelihood, num_points = lnlike(params, **lnlike_args)\n",
    "    lnlike_scan.append(loglikelihood)\n",
    "    num_points_scan.append(num_points)\n",
    "\n",
    "plt.plot(v_range, lnlike_scan, \"o\")\n",
    "plt.title(\"scan over velocity: lnlike\")\n",
    "plt.show()\n",
    "plt.plot(v_range, num_points_scan, \"o\")\n",
    "plt.title(\"scan over velocity: num pixels summed over\")\n"
   ]
  },
  {
   "cell_type": "code",
   "execution_count": 20,
   "metadata": {},
   "outputs": [
    {
     "data": {
      "text/plain": [
       "-39821.10739650307"
      ]
     },
     "execution_count": 20,
     "metadata": {},
     "output_type": "execute_result"
    }
   ],
   "source": [
    "lnlike(np.array([5., 1. , 1. ]), **lnlike_args)"
   ]
  },
  {
   "cell_type": "code",
   "execution_count": 21,
   "metadata": {},
   "outputs": [
    {
     "data": {
      "text/plain": [
       "-24877.80249605232"
      ]
     },
     "execution_count": 21,
     "metadata": {},
     "output_type": "execute_result"
    }
   ],
   "source": [
    "lnlike(np.array([5., 1.5 , 1. ]), **lnlike_args)"
   ]
  },
  {
   "cell_type": "code",
   "execution_count": null,
   "metadata": {},
   "outputs": [],
   "source": []
  }
 ],
 "metadata": {
  "kernelspec": {
   "display_name": "Python 3",
   "language": "python",
   "name": "python3"
  },
  "language_info": {
   "codemirror_mode": {
    "name": "ipython",
    "version": 3
   },
   "file_extension": ".py",
   "mimetype": "text/x-python",
   "name": "python",
   "nbconvert_exporter": "python",
   "pygments_lexer": "ipython3",
   "version": "3.7.7"
  }
 },
 "nbformat": 4,
 "nbformat_minor": 4
}

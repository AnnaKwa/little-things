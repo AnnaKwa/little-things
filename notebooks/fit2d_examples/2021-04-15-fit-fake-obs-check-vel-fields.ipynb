{
 "cells": [
  {
   "cell_type": "markdown",
   "metadata": {},
   "source": [
    "#### Notes\n",
    "\n",
    "In order to change the parameter `a` that controls how the sampler moves during its walk, you need to update the `emcee` package to the most recent version. To do this, run `pip install --upgrade emcee`.\n",
    "\n",
    "Note that older notebooks will not work with this newer version, but any code that uses `fit2d` to run the MCMC will handle the version change. If you really need to run an older notebook (though it should be easy to port those parameters to a notebook based off this one) you can downgrade the version using `pip install emcee==2.2.1`.\n",
    "\n",
    "This notebook, and any other code using `fit2d`, can run on the older version of emcee but you won't be able to change the move parameter. "
   ]
  },
  {
   "cell_type": "code",
   "execution_count": 1,
   "metadata": {},
   "outputs": [
    {
     "ename": "ModuleNotFoundError",
     "evalue": "No module named 'fit2d'",
     "output_type": "error",
     "traceback": [
      "\u001b[0;31m---------------------------------------------------------------------------\u001b[0m",
      "\u001b[0;31mModuleNotFoundError\u001b[0m                       Traceback (most recent call last)",
      "\u001b[0;32m<ipython-input-1-a90a503c66ab>\u001b[0m in \u001b[0;36m<module>\u001b[0;34m\u001b[0m\n\u001b[0;32m----> 1\u001b[0;31m \u001b[0;32mfrom\u001b[0m \u001b[0mfit2d\u001b[0m \u001b[0;32mimport\u001b[0m \u001b[0mGalaxy\u001b[0m\u001b[0;34m,\u001b[0m \u001b[0mRingModel\u001b[0m\u001b[0;34m\u001b[0m\u001b[0;34m\u001b[0m\u001b[0m\n\u001b[0m\u001b[1;32m      2\u001b[0m \u001b[0;32mfrom\u001b[0m \u001b[0mfit2d\u001b[0m\u001b[0;34m.\u001b[0m\u001b[0mmcmc\u001b[0m \u001b[0;32mimport\u001b[0m \u001b[0mLinearPrior\u001b[0m\u001b[0;34m\u001b[0m\u001b[0;34m\u001b[0m\u001b[0m\n\u001b[1;32m      3\u001b[0m \u001b[0;32mfrom\u001b[0m \u001b[0mfit2d\u001b[0m\u001b[0;34m.\u001b[0m\u001b[0mmcmc\u001b[0m \u001b[0;32mimport\u001b[0m \u001b[0memcee_lnlike\u001b[0m\u001b[0;34m,\u001b[0m \u001b[0mpiecewise_start_points\u001b[0m\u001b[0;34m\u001b[0m\u001b[0;34m\u001b[0m\u001b[0m\n\u001b[1;32m      4\u001b[0m \u001b[0;32mfrom\u001b[0m \u001b[0mfit2d\u001b[0m\u001b[0;34m.\u001b[0m\u001b[0mmodels\u001b[0m \u001b[0;32mimport\u001b[0m \u001b[0mPiecewiseModel\u001b[0m\u001b[0;34m\u001b[0m\u001b[0;34m\u001b[0m\u001b[0m\n\u001b[1;32m      5\u001b[0m \u001b[0;34m\u001b[0m\u001b[0m\n",
      "\u001b[0;31mModuleNotFoundError\u001b[0m: No module named 'fit2d'"
     ]
    }
   ],
   "source": [
    "%matplotlib inline\n",
    "import matplotlib.pyplot as plt\n",
    "\n",
    "\n",
    "from fit2d import Galaxy, RingModel\n",
    "from fit2d.mcmc import LinearPrior\n",
    "from fit2d.mcmc import emcee_lnlike, piecewise_start_points\n",
    "from fit2d.models import PiecewiseModel\n",
    "\n",
    "from astropy.io import fits\n",
    "import copy\n",
    "from datetime import datetime\n",
    "import glob\n",
    "import joblib\n",
    "import numpy as np\n",
    "import os\n",
    "\n",
    "import emcee\n",
    "from emcee import EnsembleSampler, moves\n"
   ]
  },
  {
   "cell_type": "code",
   "execution_count": 3,
   "metadata": {
    "scrolled": true
   },
   "outputs": [
    {
     "ename": "ModuleNotFoundError",
     "evalue": "No module named 'fit2d'",
     "output_type": "error",
     "traceback": [
      "\u001b[0;31m---------------------------------------------------------------------------\u001b[0m",
      "\u001b[0;31mModuleNotFoundError\u001b[0m                       Traceback (most recent call last)",
      "\u001b[0;32m<ipython-input-3-8f1fa5421055>\u001b[0m in \u001b[0;36m<module>\u001b[0;34m\u001b[0m\n\u001b[1;32m      3\u001b[0m \u001b[0;32mfrom\u001b[0m \u001b[0mtyping\u001b[0m \u001b[0;32mimport\u001b[0m \u001b[0mSequence\u001b[0m\u001b[0;34m,\u001b[0m \u001b[0mCallable\u001b[0m\u001b[0;34m,\u001b[0m \u001b[0mMapping\u001b[0m\u001b[0;34m,\u001b[0m \u001b[0mUnion\u001b[0m\u001b[0;34m\u001b[0m\u001b[0;34m\u001b[0m\u001b[0m\n\u001b[1;32m      4\u001b[0m \u001b[0;34m\u001b[0m\u001b[0m\n\u001b[0;32m----> 5\u001b[0;31m \u001b[0;32mfrom\u001b[0m \u001b[0mfit2d\u001b[0m\u001b[0;34m.\u001b[0m\u001b[0m_velocity_field_generator\u001b[0m \u001b[0;32mimport\u001b[0m \u001b[0mcreate_2d_velocity_field\u001b[0m\u001b[0;34m\u001b[0m\u001b[0;34m\u001b[0m\u001b[0m\n\u001b[0m\u001b[1;32m      6\u001b[0m \u001b[0;32mfrom\u001b[0m \u001b[0mfit2d\u001b[0m\u001b[0;34m.\u001b[0m\u001b[0mmodels\u001b[0m \u001b[0;32mimport\u001b[0m \u001b[0mModel\u001b[0m\u001b[0;34m\u001b[0m\u001b[0;34m\u001b[0m\u001b[0m\n\u001b[1;32m      7\u001b[0m \u001b[0;34m\u001b[0m\u001b[0m\n",
      "\u001b[0;31mModuleNotFoundError\u001b[0m: No module named 'fit2d'"
     ]
    }
   ],
   "source": [
    "#### Hacky way to get modeled 2d v field array. Just run for one iteration.\n",
    "\n",
    "import numpy as np\n",
    "import time\n",
    "from typing import Sequence, Callable, Mapping, Union\n",
    "\n",
    "from fit2d._velocity_field_generator import create_2d_velocity_field\n",
    "from fit2d.models import Model\n",
    "\n",
    "\n",
    "def get_modeled_vfield(\n",
    "    params: np.ndarray,\n",
    "    model: Model,\n",
    "    rotation_curve_func_kwargs: Mapping,\n",
    "    galaxy: Galaxy,\n",
    "    ring_model: RingModel,\n",
    "    mask_sigma: float = 1.,\n",
    "    v_err_2d: np.ndarray = None,\n",
    "    v_err_const: float = None,\n",
    "    n_interp_r: int = 150,\n",
    "    n_interp_theta: int = 150,\n",
    "    fit_structural_params: Mapping[str, int] = None,\n",
    "    regularization_coeff: float = 0.,\n",
    "    return_n_pixels: bool=False,\n",
    "    fill_nan_value: float=None,\n",
    "):\n",
    "    \"\"\"[summary]\n",
    "    Args:\n",
    "        fit_structural_params: dict of structural ring parameter name (as\n",
    "            specificied in the RingModel) and its corresponding index in\n",
    "            params to be fit. e.g. if \"inc\n",
    "    Returns:\n",
    "        [type]: [description]\n",
    "    \"\"\"\n",
    "\n",
    "    if v_err_2d is None and v_err_const is None:\n",
    "        raise ValueError(\n",
    "            \"Must provide at least one of v_err_const (float) or \"\n",
    "            \"v_err_2d (ndarray) to lnlike.\")\n",
    "    elif v_err_2d is not None and v_err_const is not None:\n",
    "        raise ValueError(\n",
    "            \"Only provide one of v_err_const (float) or \"\n",
    "            \"v_err_2d (ndarray) to lnlike; you provided both.\")\n",
    "    params = np.array(params)\n",
    "    if fit_structural_params:\n",
    "        inc = params[fit_structural_params[\"inc\"]]\n",
    "        pos_angle = params[fit_structural_params[\"pos_angle\"]]\n",
    "        ring_model.update_structural_parameters(inc=inc, pos_angle=pos_angle)\n",
    "    r_m, v_m = model.generate_1d_rotation_curve(params, **rotation_curve_func_kwargs)\n",
    "    vlos_2d_model = create_2d_velocity_field(\n",
    "        radii=r_m,\n",
    "        v_rot=v_m,\n",
    "        ring_model=ring_model,\n",
    "        kpc_per_pixel=galaxy.kpc_per_pixel,\n",
    "        v_systemic=galaxy.v_systemic,\n",
    "        image_xdim=galaxy.image_xdim,\n",
    "        image_ydim=galaxy.image_ydim,\n",
    "        n_interp_r=n_interp_r,\n",
    "        n_interp_theta=n_interp_theta,\n",
    "        mask_sigma=mask_sigma,\n",
    "    )\n",
    "    return vlos_2d_field\n"
   ]
  },
  {
   "cell_type": "code",
   "execution_count": null,
   "metadata": {},
   "outputs": [],
   "source": [
    "\n",
    "# number of bins in fit\n",
    "num_bins = 10\n",
    "\n",
    "# min and max bounds for each bin\n",
    "vmin, vmax = 0., 200.\n",
    "\n",
    "# min and max inc, pos angle in RADIANS\n",
    "inc_min, inc_max = 0.7, 0.95\n",
    "pos_angle_min, pos_angle_max = 4., 7.\n",
    "\n",
    "\n",
    "name = \"UGC3974\"\n",
    "distance = 8000. # [kpc]\n",
    "observed_2d_vel_field_fits_file = \"/home/anna/Desktop/fit2d/data/UGC3974_1mom.fits\"\n",
    "# to use the dispersion as a source of errors, provide this file name\n",
    "observed_2d_dispersion_fits_file = None #\"/home/anna/Desktop/fit2d/data/UGC3974_2mom.fits\"\n",
    "deg_per_pixel=4.17e-4\n",
    "v_systemic=270. \n",
    "\n",
    "ring_param_file = \"/home/anna/Desktop/fit2d/data/UGC3974_ring_parameters.txt\"\n",
    "# x and y dims are switched in ds9 fits display versus np array shape\n",
    "fits_ydim, fits_xdim = fits.open(observed_2d_vel_field_fits_file)[0].data.shape\n",
    "\n",
    "mask_sigma=1.\n",
    "random_seed = 1234\n",
    "\n",
    "mcmc_nwalkers = 20\n",
    "mcmc_niter = 4\n",
    "mcmc_ndim = 3 # Do not change this if fitting one ring at a time. 1 for vel + 2 for inc and pos angle\n",
    "mcmc_nthreads = 4\n",
    "# Try increasing stretch scale factor a. version must be >=3 for this to be used.\n",
    "mcmc_moves = moves.StretchMove(a = 2)  \n",
    "mcmc_version = float(emcee.__version__[0])\n",
    "\n",
    "# Option to save every batch_size iterations in case of crash\n",
    "# Increase this; 2 is a very low value just for testing\n",
    "batch_size = 2\n",
    "\n",
    "# option to save outputs in a particular directory\n",
    "save_dir = None  \n"
   ]
  },
  {
   "cell_type": "markdown",
   "metadata": {},
   "source": [
    "### This is where you can provide a 2D array of pixel errors.\n",
    "### Only one of these should be set- SET THE OTHER TO HAVE value `None`\n",
    "\n",
    "#### Note the order the parameters are specified in the `ring_param_bounds`:  index 1 corresponds to the inclination, index 2 corresponds to position angle. "
   ]
  },
  {
   "cell_type": "code",
   "execution_count": 39,
   "metadata": {},
   "outputs": [],
   "source": [
    "galaxy = Galaxy(\n",
    "    name=name,\n",
    "    distance=distance,\n",
    "    observed_2d_vel_field_fits_file=observed_2d_vel_field_fits_file,\n",
    "    deg_per_pixel=deg_per_pixel,\n",
    "    v_systemic=v_systemic, \n",
    "    observed_2d_dispersion_fits_file=observed_2d_dispersion_fits_file\n",
    ")\n",
    "\n",
    "ring_model = RingModel(\n",
    "    ring_param_file=ring_param_file,\n",
    "    fits_xdim=fits_xdim,\n",
    "    fits_ydim=fits_ydim,\n",
    "    distance=distance\n",
    ")\n",
    "ring_param_bounds = [(vmin, vmax), (inc_min, inc_max), (pos_angle_min, pos_angle_max)]\n",
    "\n",
    "# mapping of ring struct params to their index in the parameters (same as specified in bounds)\n",
    "# this is provided as an optional argument to lnlike to tell it which parameters to use as inc and pos_angle\n",
    "fit_structural_params = {\"inc\": 1, \"pos_angle\": 2}\n",
    "\n",
    "bin_edges = np.linspace(ring_model.radii_kpc[0], ring_model.radii_kpc[-1], num_bins+1)\n",
    "bin_centers = [(bin_edges[i]+bin_edges[i+1])/2. for i in range(num_bins)]"
   ]
  },
  {
   "cell_type": "code",
   "execution_count": 40,
   "metadata": {},
   "outputs": [],
   "source": [
    "# One, but not both, should be provided to lnlike\n",
    "\n",
    "v_err_const = 10. # [km/s] constant error per pixel\n",
    "v_err_2d = None\n",
    "\n",
    "# to use the 2nd moment map,\n",
    "# v_err_const = None\n",
    "# v_err_2d = galaxy.observed_2d_dispersion"
   ]
  },
  {
   "cell_type": "markdown",
   "metadata": {},
   "source": [
    "The code below has been altered to change the \"observations\" to a fake array\n",
    "with a constant circular velocity at all radii.\n",
    "\n",
    "Set the variable `v_rot_fake` to the constant velocity\n"
   ]
  },
  {
   "cell_type": "code",
   "execution_count": null,
   "metadata": {},
   "outputs": [
    {
     "name": "stdout",
     "output_type": "stream",
     "text": [
      "Fitting ring 0\n",
      "Done with steps 0 - 2 out of 4\n",
      "Done with steps 2 - 4 out of 4\n",
      "Fitting ring 1\n",
      "Done with steps 0 - 2 out of 4\n",
      "Done with steps 2 - 4 out of 4\n",
      "Fitting ring 2\n"
     ]
    },
    {
     "name": "stderr",
     "output_type": "stream",
     "text": [
      "/home/anna/anaconda3/envs/little/lib/python3.7/site-packages/missingpy/utils.py:124: RuntimeWarning: invalid value encountered in sqrt\n",
      "  return distances if squared else np.sqrt(distances, out=distances)\n"
     ]
    },
    {
     "name": "stdout",
     "output_type": "stream",
     "text": [
      "Done with steps 0 - 2 out of 4\n",
      "Done with steps 2 - 4 out of 4\n",
      "Fitting ring 3\n",
      "Done with steps 0 - 2 out of 4\n",
      "Done with steps 2 - 4 out of 4\n",
      "Fitting ring 4\n",
      "Done with steps 0 - 2 out of 4\n"
     ]
    },
    {
     "name": "stderr",
     "output_type": "stream",
     "text": [
      "/home/anna/anaconda3/envs/little/lib/python3.7/site-packages/missingpy/utils.py:124: RuntimeWarning: invalid value encountered in sqrt\n",
      "  return distances if squared else np.sqrt(distances, out=distances)\n"
     ]
    },
    {
     "name": "stdout",
     "output_type": "stream",
     "text": [
      "Done with steps 2 - 4 out of 4\n",
      "Fitting ring 5\n"
     ]
    },
    {
     "name": "stderr",
     "output_type": "stream",
     "text": [
      "/home/anna/anaconda3/envs/little/lib/python3.7/site-packages/missingpy/utils.py:124: RuntimeWarning: invalid value encountered in sqrt\n",
      "  return distances if squared else np.sqrt(distances, out=distances)\n"
     ]
    },
    {
     "name": "stdout",
     "output_type": "stream",
     "text": [
      "Done with steps 0 - 2 out of 4\n",
      "Done with steps 2 - 4 out of 4\n",
      "Fitting ring 6\n",
      "Done with steps 0 - 2 out of 4\n",
      "Done with steps 2 - 4 out of 4\n",
      "Fitting ring 7\n",
      "Done with steps 0 - 2 out of 4\n",
      "Done with steps 2 - 4 out of 4\n",
      "Fitting ring 8\n"
     ]
    },
    {
     "name": "stderr",
     "output_type": "stream",
     "text": [
      "/home/anna/anaconda3/envs/little/lib/python3.7/site-packages/missingpy/utils.py:124: RuntimeWarning: invalid value encountered in sqrt\n",
      "  return distances if squared else np.sqrt(distances, out=distances)\n"
     ]
    },
    {
     "name": "stdout",
     "output_type": "stream",
     "text": [
      "Done with steps 0 - 2 out of 4\n"
     ]
    },
    {
     "name": "stderr",
     "output_type": "stream",
     "text": [
      "/home/anna/anaconda3/envs/little/lib/python3.7/site-packages/missingpy/utils.py:124: RuntimeWarning: invalid value encountered in sqrt\n",
      "  return distances if squared else np.sqrt(distances, out=distances)\n"
     ]
    },
    {
     "name": "stdout",
     "output_type": "stream",
     "text": [
      "Done with steps 2 - 4 out of 4\n",
      "Fitting ring 9\n"
     ]
    }
   ],
   "source": [
    "v_rot_fake =    # fill this in with something within the priors\n",
    "inc_fake =   # fill this in with something within the priors\n",
    "pos_angle_fake =  # fill this in with something within the priors\n",
    "\n",
    "# if inc and/or pos_angle are not being fit in the MCMC, \n",
    "# they will be fixed to constant values inc_fake, pos_angle_fake\n",
    "ring_model.update_structural_parameters(inc=inc_fake, pos_angle=pos_angle_fake)\n",
    "\n",
    "for bin_index in range(num_bins):\n",
    "    bin_min, bin_max = bin_edges[bin_index], bin_edges[bin_index+1]\n",
    "    \n",
    "    # the block here replaces the observed galaxy velocity field data with \"fake\" disk of\n",
    "    # constant rotational velocity v_rot_fake\n",
    "    fake_observed_2d_vel_field =create_2d_velocity_field(\n",
    "        radii = [bin_min, bin_max],\n",
    "        v_rot = [v_rot_fake, v_rot_fake],  # just fill in any velocity\n",
    "        ring_model = ring_model,\n",
    "        kpc_per_pixel = kpc_per_pixel,\n",
    "        v_systemic = galaxy.v_systemic,\n",
    "        image_xdim = galaxy.image_xdim,\n",
    "        image_ydim = galaxy.image_ydim\n",
    "    )\n",
    "    galaxy.observed_2d_vel_field = fake_observed_2d_vel_field\n",
    "\n",
    "    \n",
    "    piecewise_model = PiecewiseModel(num_bins=1)\n",
    "    piecewise_model.set_bounds(array_bounds=ring_param_bounds)\n",
    "    piecewise_model.set_bin_edges(rmin=bin_min, rmax=bin_max)\n",
    "    radii_to_interpolate = np.array([r for r in ring_model.radii_kpc if bin_min<r<bin_max])                              \n",
    "\n",
    "    prior = LinearPrior(bounds=piecewise_model.bounds)\n",
    "    prior_transform = prior.transform_from_unit_cube\n",
    "    start_positions = piecewise_start_points(mcmc_nwalkers, piecewise_model.bounds, random_seed=random_seed)  \n",
    "    fit_inputs = {\n",
    "        \"piecewise_model\": piecewise_model,\n",
    "        \"galaxy\": galaxy,\n",
    "        \"ring_model\": ring_model,\n",
    "        \"prior_transform\": prior_transform\n",
    "    }\n",
    "    \n",
    "    print(f\"Fitting ring {bin_index}\")\n",
    "    \n",
    "    rotation_curve_func_kwargs = {\n",
    "        \"radii_to_interpolate\": radii_to_interpolate}\n",
    "\n",
    "    lnlike_args = {\n",
    "        \"model\": piecewise_model,\n",
    "        \"rotation_curve_func_kwargs\": rotation_curve_func_kwargs, \n",
    "        \"galaxy\": galaxy, \n",
    "        \"ring_model\": ring_model, \n",
    "        \"mask_sigma\": mask_sigma,\n",
    "        \"v_err_const\": v_err_const,\n",
    "        \"v_err_2d\": v_err_2d,\n",
    "        \"fit_structural_params\": fit_structural_params\n",
    "        }\n",
    "\n",
    "    vfield_model = get_modeled_vfield(**lnlike_args)\n",
    "\n",
    "    print(f\"modeled vs mock observed v field for ring {bin_index}\")\n",
    "    plt.imshow(vfield_model)\n",
    "    plt.show()\n",
    "    plt.imshow(galaxy.observed_2d_vel_field)\n",
    "    plt.show()\n"
   ]
  },
  {
   "cell_type": "code",
   "execution_count": null,
   "metadata": {},
   "outputs": [],
   "source": []
  }
 ],
 "metadata": {
  "kernelspec": {
   "display_name": "Python 3",
   "language": "python",
   "name": "python3"
  }
 },
 "nbformat": 4,
 "nbformat_minor": 4
}

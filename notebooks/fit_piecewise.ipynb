{
 "cells": [
  {
   "cell_type": "code",
   "execution_count": 1,
   "metadata": {},
   "outputs": [
    {
     "data": {
      "text/html": [
       "<style>.container { width:95% !important; }</style>"
      ],
      "text/plain": [
       "<IPython.core.display.HTML object>"
      ]
     },
     "metadata": {},
     "output_type": "display_data"
    },
    {
     "name": "stderr",
     "output_type": "stream",
     "text": [
      "/home/rohit/anaconda3/lib/python3.7/site-packages/sklearn/utils/deprecation.py:144: FutureWarning: The sklearn.neighbors.base module is  deprecated in version 0.22 and will be removed in version 0.24. The corresponding classes / functions should instead be imported from sklearn.neighbors. Anything that cannot be imported from sklearn.neighbors is now part of the private API.\n",
      "  warnings.warn(message, FutureWarning)\n"
     ]
    }
   ],
   "source": [
    "from IPython.core.display import display, HTML\n",
    "display(HTML(\"<style>.container { width:95% !important; }</style>\"))\n",
    "\n",
    "\n",
    "from astropy.io import fits\n",
    "import dill as pickle\n",
    "from emcee import EnsembleSampler\n",
    "import numpy as np\n",
    "import os\n",
    "import sys\n",
    "\n",
    "pwd = os.getcwd()\n",
    "little_things_root_dir = os.path.dirname(pwd)\n",
    "sys.path.append(little_things_root_dir)\n",
    "\n",
    "from little_things_lib.galaxy_piecewise import Galaxy\n",
    "from little_things_lib.piecewise_mcmc_fitter import (\n",
    "    EmceeParameters,\n",
    "    generate_nwalkers_start_points, \n",
    "    lnprob)\n",
    "from little_things_lib.plotting import plot_posterior_distributions, plot_walker_paths\n",
    "from datetime import datetime\n",
    "\n",
    "\n",
    "RAD_PER_ARCSEC = np.pi / (60*60*180)"
   ]
  },
  {
   "cell_type": "code",
   "execution_count": 2,
   "metadata": {},
   "outputs": [],
   "source": [
    "%matplotlib inline\n",
    "import matplotlib.pyplot as plt"
   ]
  },
  {
   "cell_type": "markdown",
   "metadata": {},
   "source": [
    "## Enter parameters for galaxy in cell below"
   ]
  },
  {
   "cell_type": "code",
   "execution_count": 3,
   "metadata": {},
   "outputs": [],
   "source": [
    "galaxy_name = 'NGC2366'\n",
    "\n",
    "velocity_error_2d = 20  # [km/s]\n",
    "\n",
    "DEG_PER_PIXEL = 4.17e-4\n",
    "DISTANCE = 3400 # kpc\n",
    "\n",
    "# can leave these as any number for now, not used\n",
    "LUMINOSITY = 1e8  # solar luminositiy\n",
    "HI_MASS = 1e8  # solar masses"
   ]
  },
  {
   "cell_type": "code",
   "execution_count": 4,
   "metadata": {},
   "outputs": [],
   "source": [
    "mcmc_params = EmceeParameters(\n",
    "    ndim=3,\n",
    "    nwalkers=10, \n",
    "    nburn=100,\n",
    "    niter=300,\n",
    "    nthin=3,\n",
    "    nthreads=4\n",
    ")\n"
   ]
  },
  {
   "cell_type": "code",
   "execution_count": 5,
   "metadata": {},
   "outputs": [],
   "source": [
    "\"\"\"\n",
    "Expect the data to be provided in following naming convention in 'data' directory:\n",
    "\n",
    "2D observed velocity field FITS file: <galaxy_name>_1mom.fits\n",
    "Bbarolo fit parameters text file: <galaxy_name>_ring_parameters.txt\n",
    "Stellar velocity curve: <galaxy_name>_stellar_velocities.txt\n",
    "Gas velocity_curve: <galaxy_name>_gas_velocities.txt\n",
    "\n",
    "\"\"\"\n",
    "\n",
    "\n",
    "data_dir = os.path.join(little_things_root_dir, 'data')\n",
    "\n",
    "observed_2d_vel_field_fits_file = os.path.join(data_dir, f'{galaxy_name}_1mom.fits')\n",
    "ring_parameters_file = os.path.join(data_dir, f'{galaxy_name}_ring_parameters.txt')\n",
    "\n",
    "stellar_velocities_file = os.path.join(data_dir, f'{galaxy_name}_stellar_velocities.txt')\n",
    "gas_velocities_file = os.path.join(data_dir, f'{galaxy_name}_gas_velocities.txt')\n"
   ]
  },
  {
   "cell_type": "code",
   "execution_count": 6,
   "metadata": {},
   "outputs": [],
   "source": [
    "radii_arcsec, test_rotation_curve, inclinations, position_angles, x_centers, y_centers , v_systemics = \\\n",
    "    np.loadtxt(ring_parameters_file, usecols=(1,2,4,5,-4,-3,-2)).T\n",
    "\n",
    "radii_kpc = radii_arcsec * RAD_PER_ARCSEC * DISTANCE\n",
    "avg_inclination = np.mean(inclinations)\n",
    "avg_position_angle = np.mean(position_angles)\n",
    "avg_x_center = np.mean(x_centers)\n",
    "avg_y_center = np.mean(y_centers)\n",
    "v_systemic = np.mean(v_systemics)\n",
    "\n",
    "observed_2d_vel_field = fits.open(observed_2d_vel_field_fits_file)[0].data\n",
    "\n",
    "stellar_radii, stellar_vel = np.loadtxt(stellar_velocities_file, unpack=True)\n",
    "gas_radii, gas_vel = np.loadtxt(gas_velocities_file, unpack=True)\n",
    "\n",
    "# comment out below and uncomment above lines when actually doing a fit\n",
    "# the lines below are for testing only!\n",
    "#stellar_radii = np.linspace(0, 7, 41)\n",
    "#gas_radii = np.linspace(0, 7, 41)\n",
    "#stellar_vel = np.linspace(0, 1, 41)\n",
    "#gas_vel = np.linspace(0, 1, 41)"
   ]
  },
  {
   "cell_type": "code",
   "execution_count": 7,
   "metadata": {},
   "outputs": [],
   "source": [
    "nparams=10\n",
    "bin_edges=[]\n",
    "indices=np.linspace(0,len(radii_arcsec)-1,nparams)\n",
    "#np.linspace/np.logpsace\n",
    "for i in indices:\n",
    "    bin_edges.append(radii_arcsec[int(i)])"
   ]
  },
  {
   "cell_type": "code",
   "execution_count": 8,
   "metadata": {},
   "outputs": [],
   "source": [
    "galaxy = Galaxy(\n",
    "    distance_to_galaxy=DISTANCE,  # [kpc] Look this up for the galaxy \n",
    "    deg_per_pixel=DEG_PER_PIXEL ,  # 'CRDELT1' and 'CRDELT2' in the FITS file header (use absolute value)\n",
    "    bin_edges=bin_edges,\n",
    "    galaxy_name=galaxy_name,\n",
    "    vlos_2d_data=observed_2d_vel_field,\n",
    "    v_error_2d=velocity_error_2d,\n",
    "    output_dir='output',\n",
    "    luminosity=LUMINOSITY,\n",
    "    HI_mass=HI_MASS)\n",
    "\n",
    "tilted_ring_params = {\n",
    "    'v_systemic': v_systemic,\n",
    "    'radii': radii_kpc,   \n",
    "    'inclination': inclinations,\n",
    "    'position_angle': position_angles,\n",
    "    'x_pix_center': x_centers,\n",
    "    'y_pix_center': y_centers\n",
    "}\n",
    "\n",
    "galaxy.set_tilted_ring_parameters(**tilted_ring_params)\n",
    "\n",
    "galaxy.interpolate_baryonic_rotation_curve(\n",
    "    baryon_type='stellar',\n",
    "    rotation_curve_radii=stellar_radii,\n",
    "    rotation_curve_velocities=stellar_vel)\n",
    "\n",
    "galaxy.interpolate_baryonic_rotation_curve(\n",
    "    baryon_type='gas',\n",
    "    rotation_curve_radii=gas_radii,\n",
    "    rotation_curve_velocities=gas_vel)\n",
    "\n"
   ]
  },
  {
   "cell_type": "markdown",
   "metadata": {},
   "source": [
    "### The cell below should be modified for the piecewise model"
   ]
  },
  {
   "cell_type": "code",
   "execution_count": 9,
   "metadata": {},
   "outputs": [],
   "source": [
    "\n",
    "# initialize MCMC start position and bounds\n",
    "galaxy.set_piecewise_prior_bounds(\n",
    "    \n",
    "    bin_edges,\n",
    "    test_rotation_curve\n",
    "  \n",
    ")\n",
    "\n",
    "start_pos = generate_nwalkers_start_points(\n",
    "\n",
    "    mcmc_params.nwalkers,\n",
    "    galaxy\n",
    ")"
   ]
  },
  {
   "cell_type": "code",
   "execution_count": 10,
   "metadata": {
    "scrolled": true
   },
   "outputs": [
    {
     "name": "stdout",
     "output_type": "stream",
     "text": [
      "emcee: Exception while calling your likelihood function:\n",
      "  params: [20.38209828 12.08699887  7.84907672 40.30807621 48.3763139  26.23968186\n",
      "  2.28118185 45.45097044 48.53648212]\n",
      "  args: [<little_things_lib.galaxy_piecewise.Galaxy object at 0x7fd98fabe350>]\n",
      "emcee: Exception while calling your likelihood function:\n",
      "  params: [54.26326145 25.07158822 22.88202892 30.10459285 19.33571872 21.23461973\n",
      " 13.58540179 28.66858189 31.51321555]  kwargs: {}\n",
      "emcee: Exception while calling your likelihood function:\n",
      "\n",
      "  exception:\n",
      "  params: [20.20815883 19.50483564  4.5081673   9.92186402 12.40367909 49.30900332\n",
      " 38.28392093 53.06172186 50.63972044]  args: [<little_things_lib.galaxy_piecewise.Galaxy object at 0x7fd9b867c750>]\n",
      "\n",
      "  args: [<little_things_lib.galaxy_piecewise.Galaxy object at 0x7fd9b867c990>]\n",
      "  kwargs: {}\n",
      "  exception:\n"
     ]
    },
    {
     "name": "stderr",
     "output_type": "stream",
     "text": [
      "Traceback (most recent call last):\n",
      "Traceback (most recent call last):\n"
     ]
    },
    {
     "name": "stdout",
     "output_type": "stream",
     "text": [
      "  kwargs: {}\n"
     ]
    },
    {
     "name": "stderr",
     "output_type": "stream",
     "text": [
      "  File \"/home/rohit/anaconda3/lib/python3.7/site-packages/emcee/ensemble.py\", line 519, in __call__\n",
      "    return self.f(x, *self.args, **self.kwargs)\n"
     ]
    },
    {
     "name": "stdout",
     "output_type": "stream",
     "text": [
      "  exception:\n"
     ]
    },
    {
     "name": "stderr",
     "output_type": "stream",
     "text": [
      "  File \"/home/rohit/little-things/little_things_lib/piecewise_mcmc_fitter.py\", line 82, in lnprob\n",
      "    lnl, bb = lnlike(params, galaxy)\n",
      "Traceback (most recent call last):\n"
     ]
    },
    {
     "name": "stdout",
     "output_type": "stream",
     "text": [
      "emcee: Exception while calling your likelihood function:\n"
     ]
    },
    {
     "name": "stderr",
     "output_type": "stream",
     "text": [
      "  File \"/home/rohit/little-things/little_things_lib/piecewise_mcmc_fitter.py\", line 55, in lnlike\n",
      "    assert v_m.shape==galaxy.bin_edges.shape\n",
      "  File \"/home/rohit/anaconda3/lib/python3.7/site-packages/emcee/ensemble.py\", line 519, in __call__\n",
      "    return self.f(x, *self.args, **self.kwargs)\n"
     ]
    },
    {
     "name": "stdout",
     "output_type": "stream",
     "text": [
      "  params: [52.67012357 40.34589038 25.99573953 46.54968905  3.08123778  0.93811092\n",
      " 54.15690258 14.97312233  1.14670636]"
     ]
    },
    {
     "name": "stderr",
     "output_type": "stream",
     "text": [
      "  File \"/home/rohit/anaconda3/lib/python3.7/site-packages/emcee/ensemble.py\", line 519, in __call__\n",
      "    return self.f(x, *self.args, **self.kwargs)\n",
      "  File \"/home/rohit/little-things/little_things_lib/piecewise_mcmc_fitter.py\", line 82, in lnprob\n",
      "    lnl, bb = lnlike(params, galaxy)\n",
      "AttributeError: 'list' object has no attribute 'shape'\n"
     ]
    },
    {
     "name": "stdout",
     "output_type": "stream",
     "text": [
      "\n",
      "  args: [<little_things_lib.galaxy_piecewise.Galaxy object at 0x7fd98fac69d0>]\n"
     ]
    },
    {
     "name": "stderr",
     "output_type": "stream",
     "text": [
      "  File \"/home/rohit/little-things/little_things_lib/piecewise_mcmc_fitter.py\", line 55, in lnlike\n",
      "    assert v_m.shape==galaxy.bin_edges.shape\n",
      "  File \"/home/rohit/little-things/little_things_lib/piecewise_mcmc_fitter.py\", line 82, in lnprob\n",
      "    lnl, bb = lnlike(params, galaxy)\n",
      "AttributeError: 'list' object has no attribute 'shape'\n",
      "  File \"/home/rohit/little-things/little_things_lib/piecewise_mcmc_fitter.py\", line 55, in lnlike\n",
      "    assert v_m.shape==galaxy.bin_edges.shape\n",
      "AttributeError: 'list' object has no attribute 'shape'\n"
     ]
    },
    {
     "name": "stdout",
     "output_type": "stream",
     "text": [
      "  kwargs: {}\n",
      "  exception:\n",
      "emcee: Exception while calling your likelihood function:\n",
      "  params: [50.33784251 55.98162276  8.64126484 15.95729431 30.45498398 57.03220683\n",
      "  8.07979645  2.01626006 29.61868799]"
     ]
    },
    {
     "name": "stderr",
     "output_type": "stream",
     "text": [
      "Traceback (most recent call last):\n"
     ]
    },
    {
     "name": "stdout",
     "output_type": "stream",
     "text": [
      "\n",
      "emcee: Exception while calling your likelihood function:\n",
      "  args: [<little_things_lib.galaxy_piecewise.Galaxy object at 0x7fd98fac6cd0>]\n"
     ]
    },
    {
     "name": "stderr",
     "output_type": "stream",
     "text": [
      "  File \"/home/rohit/anaconda3/lib/python3.7/site-packages/emcee/ensemble.py\", line 519, in __call__\n",
      "    return self.f(x, *self.args, **self.kwargs)\n",
      "  File \"/home/rohit/little-things/little_things_lib/piecewise_mcmc_fitter.py\", line 82, in lnprob\n",
      "    lnl, bb = lnlike(params, galaxy)\n"
     ]
    },
    {
     "name": "stdout",
     "output_type": "stream",
     "text": [
      "  kwargs: {}\n",
      "  exception:\n",
      "  params: [57.15176819 53.65182261 29.4914212   7.25765053  3.28870563 17.32015984\n",
      " 36.50858469 13.79409999 28.83985412]"
     ]
    },
    {
     "name": "stderr",
     "output_type": "stream",
     "text": [
      "  File \"/home/rohit/little-things/little_things_lib/piecewise_mcmc_fitter.py\", line 55, in lnlike\n",
      "    assert v_m.shape==galaxy.bin_edges.shape\n",
      "Traceback (most recent call last):\n",
      "  File \"/home/rohit/anaconda3/lib/python3.7/site-packages/emcee/ensemble.py\", line 519, in __call__\n",
      "    return self.f(x, *self.args, **self.kwargs)\n",
      "AttributeError: 'list' object has no attribute 'shape'\n",
      "  File \"/home/rohit/little-things/little_things_lib/piecewise_mcmc_fitter.py\", line 82, in lnprob\n",
      "    lnl, bb = lnlike(params, galaxy)\n"
     ]
    },
    {
     "name": "stdout",
     "output_type": "stream",
     "text": [
      "\n"
     ]
    },
    {
     "name": "stderr",
     "output_type": "stream",
     "text": [
      "  File \"/home/rohit/little-things/little_things_lib/piecewise_mcmc_fitter.py\", line 55, in lnlike\n",
      "    assert v_m.shape==galaxy.bin_edges.shape\n"
     ]
    },
    {
     "name": "stdout",
     "output_type": "stream",
     "text": [
      "  args: [<little_things_lib.galaxy_piecewise.Galaxy object at 0x7fd99004c790>]\n"
     ]
    },
    {
     "name": "stderr",
     "output_type": "stream",
     "text": [
      "AttributeError: 'list' object has no attribute 'shape'\n"
     ]
    },
    {
     "name": "stdout",
     "output_type": "stream",
     "text": [
      "  kwargs: {}\n",
      "  exception:\n"
     ]
    },
    {
     "name": "stderr",
     "output_type": "stream",
     "text": [
      "Traceback (most recent call last):\n",
      "  File \"/home/rohit/anaconda3/lib/python3.7/site-packages/emcee/ensemble.py\", line 519, in __call__\n",
      "    return self.f(x, *self.args, **self.kwargs)\n",
      "  File \"/home/rohit/little-things/little_things_lib/piecewise_mcmc_fitter.py\", line 82, in lnprob\n",
      "    lnl, bb = lnlike(params, galaxy)\n",
      "  File \"/home/rohit/little-things/little_things_lib/piecewise_mcmc_fitter.py\", line 55, in lnlike\n",
      "    assert v_m.shape==galaxy.bin_edges.shape\n",
      "AttributeError: 'list' object has no attribute 'shape'\n"
     ]
    },
    {
     "name": "stdout",
     "output_type": "stream",
     "text": [
      "emcee: Exception while calling your likelihood function:\n",
      "  params: [38.6108736   1.83369023  6.52559378 52.91263954  3.40307421 37.89723531\n",
      " 40.87086118 20.58469384 26.22850184]\n",
      "emcee: Exception while calling your likelihood function:\n",
      "  args: [<little_things_lib.galaxy_piecewise.Galaxy object at 0x7fd98fabe350>]\n",
      "  params: [57.68481467 41.22732139 16.97215691 54.02938186 58.98170395 52.40450891\n",
      " 24.49545331 11.42465817  2.77967368]\n",
      "  args: [<little_things_lib.galaxy_piecewise.Galaxy object at 0x7fd9b867c990>]\n",
      "  kwargs: {}\n",
      "  kwargs: {}\n",
      "  exception:\n",
      "  exception:\n"
     ]
    },
    {
     "name": "stderr",
     "output_type": "stream",
     "text": [
      "Traceback (most recent call last):\n",
      "Traceback (most recent call last):\n",
      "  File \"/home/rohit/anaconda3/lib/python3.7/site-packages/emcee/ensemble.py\", line 519, in __call__\n",
      "    return self.f(x, *self.args, **self.kwargs)\n",
      "  File \"/home/rohit/little-things/little_things_lib/piecewise_mcmc_fitter.py\", line 55, in lnlike\n",
      "    assert v_m.shape==galaxy.bin_edges.shape\n"
     ]
    },
    {
     "name": "stdout",
     "output_type": "stream",
     "text": [
      "  params: [ 7.11051953 59.07006475 39.50635336 42.38609253 35.76582131 24.80757467\n",
      " 48.19901054 54.96022608 24.98221211]"
     ]
    },
    {
     "name": "stderr",
     "output_type": "stream",
     "text": [
      "  File \"/home/rohit/little-things/little_things_lib/piecewise_mcmc_fitter.py\", line 82, in lnprob\n",
      "    lnl, bb = lnlike(params, galaxy)\n"
     ]
    },
    {
     "name": "stdout",
     "output_type": "stream",
     "text": [
      "emcee: Exception while calling your likelihood function:\n"
     ]
    },
    {
     "name": "stderr",
     "output_type": "stream",
     "text": [
      "  File \"/home/rohit/anaconda3/lib/python3.7/site-packages/emcee/ensemble.py\", line 519, in __call__\n",
      "    return self.f(x, *self.args, **self.kwargs)\n"
     ]
    },
    {
     "name": "stdout",
     "output_type": "stream",
     "text": [
      "\n",
      "  args: [<little_things_lib.galaxy_piecewise.Galaxy object at 0x7fd98f6801d0>]\n"
     ]
    },
    {
     "name": "stderr",
     "output_type": "stream",
     "text": [
      "AttributeError: 'list' object has no attribute 'shape'\n",
      "  File \"/home/rohit/little-things/little_things_lib/piecewise_mcmc_fitter.py\", line 82, in lnprob\n",
      "    lnl, bb = lnlike(params, galaxy)\n"
     ]
    },
    {
     "name": "stdout",
     "output_type": "stream",
     "text": [
      "  kwargs: {}\n",
      "  exception:\n"
     ]
    },
    {
     "name": "stderr",
     "output_type": "stream",
     "text": [
      "Traceback (most recent call last):\n",
      "  File \"/home/rohit/anaconda3/lib/python3.7/site-packages/emcee/ensemble.py\", line 519, in __call__\n",
      "    return self.f(x, *self.args, **self.kwargs)\n",
      "  File \"/home/rohit/little-things/little_things_lib/piecewise_mcmc_fitter.py\", line 55, in lnlike\n",
      "    assert v_m.shape==galaxy.bin_edges.shape\n",
      "  File \"/home/rohit/little-things/little_things_lib/piecewise_mcmc_fitter.py\", line 82, in lnprob\n",
      "    lnl, bb = lnlike(params, galaxy)\n",
      "AttributeError: 'list' object has no attribute 'shape'\n",
      "  File \"/home/rohit/little-things/little_things_lib/piecewise_mcmc_fitter.py\", line 55, in lnlike\n",
      "    assert v_m.shape==galaxy.bin_edges.shape\n",
      "AttributeError: 'list' object has no attribute 'shape'\n"
     ]
    },
    {
     "name": "stdout",
     "output_type": "stream",
     "text": [
      "emcee: Exception while calling your likelihood function:\n",
      "  params: [39.80071397 19.00637773 50.17517454 30.60816617 18.82678004  1.53623518\n",
      " 44.47632723 45.9902957   1.69869258]\n",
      "  args: [<little_things_lib.galaxy_piecewise.Galaxy object at 0x7fd98f66f390>]\n",
      "  kwargs: {}\n",
      "  exception:\n"
     ]
    },
    {
     "name": "stderr",
     "output_type": "stream",
     "text": [
      "Traceback (most recent call last):\n",
      "  File \"/home/rohit/anaconda3/lib/python3.7/site-packages/emcee/ensemble.py\", line 519, in __call__\n",
      "    return self.f(x, *self.args, **self.kwargs)\n",
      "  File \"/home/rohit/little-things/little_things_lib/piecewise_mcmc_fitter.py\", line 82, in lnprob\n",
      "    lnl, bb = lnlike(params, galaxy)\n",
      "  File \"/home/rohit/little-things/little_things_lib/piecewise_mcmc_fitter.py\", line 55, in lnlike\n",
      "    assert v_m.shape==galaxy.bin_edges.shape\n",
      "AttributeError: 'list' object has no attribute 'shape'\n"
     ]
    },
    {
     "ename": "AttributeError",
     "evalue": "'list' object has no attribute 'shape'",
     "output_type": "error",
     "traceback": [
      "\u001b[0;31m---------------------------------------------------------------------------\u001b[0m",
      "\u001b[0;31mRemoteTraceback\u001b[0m                           Traceback (most recent call last)",
      "\u001b[0;31mRemoteTraceback\u001b[0m: \n\"\"\"\nTraceback (most recent call last):\n  File \"/home/rohit/anaconda3/lib/python3.7/multiprocessing/pool.py\", line 121, in worker\n    result = (True, func(*args, **kwds))\n  File \"/home/rohit/anaconda3/lib/python3.7/multiprocessing/pool.py\", line 44, in mapstar\n    return list(map(*args))\n  File \"/home/rohit/anaconda3/lib/python3.7/site-packages/emcee/ensemble.py\", line 519, in __call__\n    return self.f(x, *self.args, **self.kwargs)\n  File \"/home/rohit/little-things/little_things_lib/piecewise_mcmc_fitter.py\", line 82, in lnprob\n    lnl, bb = lnlike(params, galaxy)\n  File \"/home/rohit/little-things/little_things_lib/piecewise_mcmc_fitter.py\", line 55, in lnlike\n    assert v_m.shape==galaxy.bin_edges.shape\nAttributeError: 'list' object has no attribute 'shape'\n\"\"\"",
      "\nThe above exception was the direct cause of the following exception:\n",
      "\u001b[0;31mAttributeError\u001b[0m                            Traceback (most recent call last)",
      "\u001b[0;32m<ipython-input-10-7c6a1194616d>\u001b[0m in \u001b[0;36m<module>\u001b[0;34m\u001b[0m\n\u001b[1;32m      8\u001b[0m \u001b[0;34m\u001b[0m\u001b[0m\n\u001b[1;32m      9\u001b[0m \u001b[0;31m# burn in\u001b[0m\u001b[0;34m\u001b[0m\u001b[0;34m\u001b[0m\u001b[0;34m\u001b[0m\u001b[0m\n\u001b[0;32m---> 10\u001b[0;31m \u001b[0msampler\u001b[0m\u001b[0;34m.\u001b[0m\u001b[0mrun_mcmc\u001b[0m\u001b[0;34m(\u001b[0m\u001b[0mstart_pos\u001b[0m\u001b[0;34m,\u001b[0m \u001b[0mN\u001b[0m\u001b[0;34m=\u001b[0m\u001b[0mmcmc_params\u001b[0m\u001b[0;34m.\u001b[0m\u001b[0mnburn\u001b[0m\u001b[0;34m)\u001b[0m\u001b[0;34m\u001b[0m\u001b[0;34m\u001b[0m\u001b[0m\n\u001b[0m\u001b[1;32m     11\u001b[0m \u001b[0mstart_pos_after_burn_in\u001b[0m \u001b[0;34m=\u001b[0m \u001b[0msampler\u001b[0m\u001b[0;34m.\u001b[0m\u001b[0m_last_run_mcmc_result\u001b[0m\u001b[0;34m[\u001b[0m\u001b[0;36m0\u001b[0m\u001b[0;34m]\u001b[0m\u001b[0;34m\u001b[0m\u001b[0;34m\u001b[0m\u001b[0m\n\u001b[1;32m     12\u001b[0m \u001b[0msampler\u001b[0m\u001b[0;34m.\u001b[0m\u001b[0mreset\u001b[0m\u001b[0;34m(\u001b[0m\u001b[0;34m)\u001b[0m\u001b[0;34m\u001b[0m\u001b[0;34m\u001b[0m\u001b[0m\n",
      "\u001b[0;32m~/anaconda3/lib/python3.7/site-packages/emcee/sampler.py\u001b[0m in \u001b[0;36mrun_mcmc\u001b[0;34m(self, pos0, N, rstate0, lnprob0, **kwargs)\u001b[0m\n\u001b[1;32m    170\u001b[0m \u001b[0;34m\u001b[0m\u001b[0m\n\u001b[1;32m    171\u001b[0m         for results in self.sample(pos0, lnprob0, rstate0, iterations=N,\n\u001b[0;32m--> 172\u001b[0;31m                                    **kwargs):\n\u001b[0m\u001b[1;32m    173\u001b[0m             \u001b[0;32mpass\u001b[0m\u001b[0;34m\u001b[0m\u001b[0;34m\u001b[0m\u001b[0m\n\u001b[1;32m    174\u001b[0m \u001b[0;34m\u001b[0m\u001b[0m\n",
      "\u001b[0;32m~/anaconda3/lib/python3.7/site-packages/emcee/ensemble.py\u001b[0m in \u001b[0;36msample\u001b[0;34m(self, p0, lnprob0, rstate0, blobs0, iterations, thin, storechain, mh_proposal)\u001b[0m\n\u001b[1;32m    196\u001b[0m         \u001b[0mblobs\u001b[0m \u001b[0;34m=\u001b[0m \u001b[0mblobs0\u001b[0m\u001b[0;34m\u001b[0m\u001b[0;34m\u001b[0m\u001b[0m\n\u001b[1;32m    197\u001b[0m         \u001b[0;32mif\u001b[0m \u001b[0mlnprob\u001b[0m \u001b[0;32mis\u001b[0m \u001b[0;32mNone\u001b[0m\u001b[0;34m:\u001b[0m\u001b[0;34m\u001b[0m\u001b[0;34m\u001b[0m\u001b[0m\n\u001b[0;32m--> 198\u001b[0;31m             \u001b[0mlnprob\u001b[0m\u001b[0;34m,\u001b[0m \u001b[0mblobs\u001b[0m \u001b[0;34m=\u001b[0m \u001b[0mself\u001b[0m\u001b[0;34m.\u001b[0m\u001b[0m_get_lnprob\u001b[0m\u001b[0;34m(\u001b[0m\u001b[0mp\u001b[0m\u001b[0;34m)\u001b[0m\u001b[0;34m\u001b[0m\u001b[0;34m\u001b[0m\u001b[0m\n\u001b[0m\u001b[1;32m    199\u001b[0m \u001b[0;34m\u001b[0m\u001b[0m\n\u001b[1;32m    200\u001b[0m         \u001b[0;31m# Check to make sure that the probability function didn't return\u001b[0m\u001b[0;34m\u001b[0m\u001b[0;34m\u001b[0m\u001b[0;34m\u001b[0m\u001b[0m\n",
      "\u001b[0;32m~/anaconda3/lib/python3.7/site-packages/emcee/ensemble.py\u001b[0m in \u001b[0;36m_get_lnprob\u001b[0;34m(self, pos)\u001b[0m\n\u001b[1;32m    380\u001b[0m \u001b[0;34m\u001b[0m\u001b[0m\n\u001b[1;32m    381\u001b[0m         \u001b[0;31m# Run the log-probability calculations (optionally in parallel).\u001b[0m\u001b[0;34m\u001b[0m\u001b[0;34m\u001b[0m\u001b[0;34m\u001b[0m\u001b[0m\n\u001b[0;32m--> 382\u001b[0;31m         \u001b[0mresults\u001b[0m \u001b[0;34m=\u001b[0m \u001b[0mlist\u001b[0m\u001b[0;34m(\u001b[0m\u001b[0mM\u001b[0m\u001b[0;34m(\u001b[0m\u001b[0mself\u001b[0m\u001b[0;34m.\u001b[0m\u001b[0mlnprobfn\u001b[0m\u001b[0;34m,\u001b[0m \u001b[0;34m[\u001b[0m\u001b[0mp\u001b[0m\u001b[0;34m[\u001b[0m\u001b[0mi\u001b[0m\u001b[0;34m]\u001b[0m \u001b[0;32mfor\u001b[0m \u001b[0mi\u001b[0m \u001b[0;32min\u001b[0m \u001b[0mrange\u001b[0m\u001b[0;34m(\u001b[0m\u001b[0mlen\u001b[0m\u001b[0;34m(\u001b[0m\u001b[0mp\u001b[0m\u001b[0;34m)\u001b[0m\u001b[0;34m)\u001b[0m\u001b[0;34m]\u001b[0m\u001b[0;34m)\u001b[0m\u001b[0;34m)\u001b[0m\u001b[0;34m\u001b[0m\u001b[0;34m\u001b[0m\u001b[0m\n\u001b[0m\u001b[1;32m    383\u001b[0m \u001b[0;34m\u001b[0m\u001b[0m\n\u001b[1;32m    384\u001b[0m         \u001b[0;32mtry\u001b[0m\u001b[0;34m:\u001b[0m\u001b[0;34m\u001b[0m\u001b[0;34m\u001b[0m\u001b[0m\n",
      "\u001b[0;32m~/anaconda3/lib/python3.7/site-packages/emcee/interruptible_pool.py\u001b[0m in \u001b[0;36mmap\u001b[0;34m(self, func, iterable, chunksize)\u001b[0m\n\u001b[1;32m     92\u001b[0m         \u001b[0;32mwhile\u001b[0m \u001b[0;32mTrue\u001b[0m\u001b[0;34m:\u001b[0m\u001b[0;34m\u001b[0m\u001b[0;34m\u001b[0m\u001b[0m\n\u001b[1;32m     93\u001b[0m             \u001b[0;32mtry\u001b[0m\u001b[0;34m:\u001b[0m\u001b[0;34m\u001b[0m\u001b[0;34m\u001b[0m\u001b[0m\n\u001b[0;32m---> 94\u001b[0;31m                 \u001b[0;32mreturn\u001b[0m \u001b[0mr\u001b[0m\u001b[0;34m.\u001b[0m\u001b[0mget\u001b[0m\u001b[0;34m(\u001b[0m\u001b[0mself\u001b[0m\u001b[0;34m.\u001b[0m\u001b[0mwait_timeout\u001b[0m\u001b[0;34m)\u001b[0m\u001b[0;34m\u001b[0m\u001b[0;34m\u001b[0m\u001b[0m\n\u001b[0m\u001b[1;32m     95\u001b[0m             \u001b[0;32mexcept\u001b[0m \u001b[0mTimeoutError\u001b[0m\u001b[0;34m:\u001b[0m\u001b[0;34m\u001b[0m\u001b[0;34m\u001b[0m\u001b[0m\n\u001b[1;32m     96\u001b[0m                 \u001b[0;32mpass\u001b[0m\u001b[0;34m\u001b[0m\u001b[0;34m\u001b[0m\u001b[0m\n",
      "\u001b[0;32m~/anaconda3/lib/python3.7/multiprocessing/pool.py\u001b[0m in \u001b[0;36mget\u001b[0;34m(self, timeout)\u001b[0m\n\u001b[1;32m    655\u001b[0m             \u001b[0;32mreturn\u001b[0m \u001b[0mself\u001b[0m\u001b[0;34m.\u001b[0m\u001b[0m_value\u001b[0m\u001b[0;34m\u001b[0m\u001b[0;34m\u001b[0m\u001b[0m\n\u001b[1;32m    656\u001b[0m         \u001b[0;32melse\u001b[0m\u001b[0;34m:\u001b[0m\u001b[0;34m\u001b[0m\u001b[0;34m\u001b[0m\u001b[0m\n\u001b[0;32m--> 657\u001b[0;31m             \u001b[0;32mraise\u001b[0m \u001b[0mself\u001b[0m\u001b[0;34m.\u001b[0m\u001b[0m_value\u001b[0m\u001b[0;34m\u001b[0m\u001b[0;34m\u001b[0m\u001b[0m\n\u001b[0m\u001b[1;32m    658\u001b[0m \u001b[0;34m\u001b[0m\u001b[0m\n\u001b[1;32m    659\u001b[0m     \u001b[0;32mdef\u001b[0m \u001b[0m_set\u001b[0m\u001b[0;34m(\u001b[0m\u001b[0mself\u001b[0m\u001b[0;34m,\u001b[0m \u001b[0mi\u001b[0m\u001b[0;34m,\u001b[0m \u001b[0mobj\u001b[0m\u001b[0;34m)\u001b[0m\u001b[0;34m:\u001b[0m\u001b[0;34m\u001b[0m\u001b[0;34m\u001b[0m\u001b[0m\n",
      "\u001b[0;31mAttributeError\u001b[0m: 'list' object has no attribute 'shape'"
     ]
    }
   ],
   "source": [
    "# initialize sampler\n",
    "sampler = EnsembleSampler(\n",
    "    mcmc_params.nwalkers,\n",
    "    mcmc_params.ndim, \n",
    "    lnprob, \n",
    "    args=[galaxy], \n",
    "    threads=mcmc_params.nthreads)\n",
    "\n",
    "# burn in \n",
    "sampler.run_mcmc(start_pos, N=mcmc_params.nburn)\n",
    "start_pos_after_burn_in = sampler._last_run_mcmc_result[0]\n",
    "sampler.reset()"
   ]
  },
  {
   "cell_type": "code",
   "execution_count": null,
   "metadata": {},
   "outputs": [],
   "source": [
    "print(galaxy.bounds)"
   ]
  },
  {
   "cell_type": "code",
   "execution_count": null,
   "metadata": {},
   "outputs": [],
   "source": [
    "sampler = EnsembleSampler(\n",
    "    mcmc_params.nwalkers,\n",
    "    mcmc_params.ndim, \n",
    "    lnprob, \n",
    "    args=[galaxy], \n",
    "    threads=mcmc_params.nthreads)\n",
    "\n",
    "# this will break up the fitting procedure into smaller chunks of size batch_size and save progress\n",
    "dateTimeObj = datetime.now()\n",
    "timestampStr = dateTimeObj.strftime(\"%d-%b-%Y\")\n",
    "\n",
    "batch_size = 4\n",
    "mcmc_output = []\n",
    "for batch in range(mcmc_params.niter // batch_size):\n",
    "    if batch == 0:\n",
    "        batch_start = start_pos_after_burn_in\n",
    "    else:\n",
    "        batch_start = None\n",
    "        sampler.pool = temp_pool\n",
    "    mcmc_output += sampler.run_mcmc(batch_start, batch_size, thin=mcmc_params.nthin)\n",
    "    temp_pool = sampler.pool\n",
    "    del sampler.pool\n",
    "    with open(f'sampler_{timestampStr}.pkl', 'wb') as f:\n",
    "        pickle.dump(sampler, f)\n",
    "    with open(f'mcmc_output_{timestampStr}.pkl', 'wb') as f:\n",
    "        pickle.dump(mcmc_output, f)\n",
    "    print(f\"Done with steps {batch*batch_size} - {(batch+1)*batch_size} out of {mcmc_params.niter}\")\n"
   ]
  },
  {
   "cell_type": "markdown",
   "metadata": {},
   "source": [
    "#### The two cells below demonstrate how to load your saved results. This is useful in the follow cases:\n",
    "\n",
    "1) You finished a long MCMC fitting run and want to plot the results without having to redo the whole thing.\n",
    "\n",
    "2) Your computer crashed before it was done running the previous MCMC fit and you want to restart it from the last saved iteration. In this case you can run the second cell below to continue the MCMC fitting. The results of the restarted run will be saved separately from the results of the previous run. The combined results will also be saved."
   ]
  },
  {
   "cell_type": "code",
   "execution_count": null,
   "metadata": {},
   "outputs": [],
   "source": [
    "# example of how to load the pickled objects\n",
    "# change the name of the files to whatever yours were saved as\n",
    "\n",
    "with open('sampler_09-Apr-2020.pkl', 'rb') as f:\n",
    "    saved_sampler = pickle.load(f)\n",
    "    restart_pos = saved_sampler._last_run_mcmc_result[0]\n",
    "with open('mcmc_output_09-Apr-2020.pkl', 'rb') as f:\n",
    "    saved_mcmc_output = pickle.load(f)"
   ]
  },
  {
   "cell_type": "code",
   "execution_count": null,
   "metadata": {},
   "outputs": [],
   "source": [
    "# example of how to restart the MCMC fit from the last save point \n",
    "# assumes you loaded the sampler and mcmc_output from the saved pickles in the example above\n",
    "\n",
    "restart_sampler = EnsembleSampler(\n",
    "    mcmc_params.nwalkers,\n",
    "    mcmc_params.ndim, \n",
    "    lnprob, \n",
    "    args=[galaxy], \n",
    "    threads=mcmc_params.nthreads)\n",
    "restart_mcmc_output = []\n",
    "\n",
    "dateTimeObj = datetime.now()\n",
    "timestampStr = dateTimeObj.strftime(\"%d-%b-%Y\")\n",
    "\n",
    "batch_size = 10\n",
    "for batch in range(mcmc_params.niter // batch_size):\n",
    "    if batch==0:\n",
    "        batch_start = restart_pos\n",
    "    else:\n",
    "        batch_start = None\n",
    "        restart_sampler.pool = temp_pool\n",
    "    restart_mcmc_output += restart_sampler.run_mcmc(batch_start, batch_size, thin=mcmc_params.nthin)\n",
    "    temp_pool = restart_sampler.pool\n",
    "    del sampler.pool\n",
    "    with open(f'sampler_{timestampStr}.pkl', 'wb') as f:\n",
    "        pickle.dump(restart_sampler, f)\n",
    "    with open(f'mcmc_output_{timestampStr}.pkl', 'wb') as f:\n",
    "        pickle.dump(restart_mcmc_output, f)\n",
    "    print(f\"Done with steps {batch*batch_size} - {(batch+1)*batch_size} out of {mcmc_params.niter}\")\n",
    "\n",
    "    \n",
    "# this step adds the MCMC results from the restarted run to the ones that were saved from the previous run.\n",
    "total_mcmc_output = saved_mcmc_output + restart_mcmc_output\n",
    "    with open(f'total_mcmc_output_{timestampStr}.pkl', 'wb') as f:\n",
    "        pickle.dump(total_mcmc_output, f)"
   ]
  },
  {
   "cell_type": "code",
   "execution_count": null,
   "metadata": {},
   "outputs": [],
   "source": [
    "#### Plot the posterior distributions and walker paths\n",
    "\n",
    "# Uncomment below line if using the the sampler loaded from the save file\n",
    "#sampler=saved_sampler\n",
    "\n",
    "parameter_labels = sorted(list(galaxy.bounds.keys()))\n",
    "\n",
    "plot_posterior_distributions(sampler, labels=parameter_labels)\n",
    "\n",
    "plot_walker_paths(\n",
    "    sampler,\n",
    "    mcmc_params,\n",
    "    labels=parameter_labels)\n",
    "\n",
    "def get_fit_stats(sampler, labels=parameter_labels):\n",
    "    for i, label in enumerate(labels):\n",
    "        chain = sampler.chain[:, :, i].flatten()\n",
    "        print(f\"{label}: {np.mean(chain)} +/- {np.std(chain)}\")\n",
    "        \n",
    "get_fit_stats(sampler)"
   ]
  },
  {
   "cell_type": "code",
   "execution_count": null,
   "metadata": {},
   "outputs": [],
   "source": [
    "#blobs = np.reshape(sampler.blobs, (int(mcmc_params.niter/mcmc_params.nthin) * mcmc_params.nwalkers, 10))\n",
    "blobs = [] \n",
    "for subarr in sampler.blobs:\n",
    "    blobs += subarr\n",
    "blobs = np.array(blobs)\n",
    "\n",
    "rotcurve_index = len(galaxy.bounds) + 1\n",
    "v_tot = np.mean( blobs[:, rotcurve_index])\n",
    "\n",
    "plt.plot(radii_kpc, test_rotation_curve, linewidth=2., label=\"data\", color=\"black\")\n",
    "\n",
    "plt.step(galaxy.bin_edges[:-1], v_tot, where=\"post\", color=black)\n",
    "plt.plot(galaxy.bin_edges[-2:], [v_tot[-1], v_tot[-1], color=black], label=\"total, model\")\n",
    "\n",
    "plt.xlabel(\"r [kpc]\")\n",
    "plt.ylabel(\"v [km/s]\")\n",
    "plt.legend()"
   ]
  },
  {
   "cell_type": "code",
   "execution_count": null,
   "metadata": {},
   "outputs": [],
   "source": []
  }
 ],
 "metadata": {
  "kernelspec": {
   "display_name": "Python 3",
   "language": "python",
   "name": "python3"
  },
  "language_info": {
   "codemirror_mode": {
    "name": "ipython",
    "version": 3
   },
   "file_extension": ".py",
   "mimetype": "text/x-python",
   "name": "python",
   "nbconvert_exporter": "python",
   "pygments_lexer": "ipython3",
   "version": "3.7.6"
  }
 },
 "nbformat": 4,
 "nbformat_minor": 2
}
